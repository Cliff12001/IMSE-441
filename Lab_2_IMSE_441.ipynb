{
  "cells": [
    {
      "cell_type": "markdown",
      "metadata": {
        "id": "view-in-github",
        "colab_type": "text"
      },
      "source": [
        "<a href=\"https://colab.research.google.com/github/Cliff12001/IMSE-441/blob/main/Lab_2_IMSE_441.ipynb\" target=\"_parent\"><img src=\"https://colab.research.google.com/assets/colab-badge.svg\" alt=\"Open In Colab\"/></a>"
      ]
    },
    {
      "cell_type": "markdown",
      "metadata": {
        "id": "_rVOJI9K7xr5"
      },
      "source": [
        "Lab-2"
      ]
    },
    {
      "cell_type": "code",
      "execution_count": null,
      "metadata": {
        "colab": {
          "base_uri": "https://localhost:8080/"
        },
        "id": "Syqp9Fr07sk4",
        "outputId": "7eb99436-8d81-47ea-8c6a-2518a33a669d"
      },
      "outputs": [
        {
          "name": "stdout",
          "output_type": "stream",
          "text": [
            "Drive already mounted at /content/drive; to attempt to forcibly remount, call drive.mount(\"/content/drive\", force_remount=True).\n"
          ]
        }
      ],
      "source": [
        "from google.colab import drive\n",
        "drive.mount('/content/drive')"
      ]
    },
    {
      "cell_type": "code",
      "execution_count": null,
      "metadata": {
        "id": "SNdLIQDOOoBj"
      },
      "outputs": [],
      "source": [
        "import numpy as np\n"
      ]
    },
    {
      "cell_type": "code",
      "execution_count": null,
      "metadata": {
        "colab": {
          "base_uri": "https://localhost:8080/",
          "height": 1000
        },
        "id": "1WczQDMkpeKK",
        "outputId": "58e8dc84-153b-4eef-8c2d-a21a8bfc49c5"
      },
      "outputs": [
        {
          "data": {
            "text/html": [
              "\n",
              "  <div id=\"df-140e750a-3376-4c90-9b46-439a112a319d\">\n",
              "    <div class=\"colab-df-container\">\n",
              "      <div>\n",
              "<style scoped>\n",
              "    .dataframe tbody tr th:only-of-type {\n",
              "        vertical-align: middle;\n",
              "    }\n",
              "\n",
              "    .dataframe tbody tr th {\n",
              "        vertical-align: top;\n",
              "    }\n",
              "\n",
              "    .dataframe thead th {\n",
              "        text-align: right;\n",
              "    }\n",
              "</style>\n",
              "<table border=\"1\" class=\"dataframe\">\n",
              "  <thead>\n",
              "    <tr style=\"text-align: right;\">\n",
              "      <th></th>\n",
              "      <th>Cement</th>\n",
              "      <th>Water</th>\n",
              "      <th>Coarse_Aggregate</th>\n",
              "      <th>Fine_Aggregate</th>\n",
              "      <th>Age</th>\n",
              "      <th>Strength</th>\n",
              "    </tr>\n",
              "  </thead>\n",
              "  <tbody>\n",
              "    <tr>\n",
              "      <th>0</th>\n",
              "      <td>540.0</td>\n",
              "      <td>162</td>\n",
              "      <td>1040.0</td>\n",
              "      <td>676.0</td>\n",
              "      <td>28</td>\n",
              "      <td>79.986111</td>\n",
              "    </tr>\n",
              "    <tr>\n",
              "      <th>1</th>\n",
              "      <td>540.0</td>\n",
              "      <td>162</td>\n",
              "      <td>1055.0</td>\n",
              "      <td>676.0</td>\n",
              "      <td>28</td>\n",
              "      <td>61.887366</td>\n",
              "    </tr>\n",
              "    <tr>\n",
              "      <th>2</th>\n",
              "      <td>332.5</td>\n",
              "      <td>228</td>\n",
              "      <td>932.0</td>\n",
              "      <td>594.0</td>\n",
              "      <td>270</td>\n",
              "      <td>40.269535</td>\n",
              "    </tr>\n",
              "    <tr>\n",
              "      <th>3</th>\n",
              "      <td>332.5</td>\n",
              "      <td>228</td>\n",
              "      <td>932.0</td>\n",
              "      <td>594.0</td>\n",
              "      <td>365</td>\n",
              "      <td>41.052780</td>\n",
              "    </tr>\n",
              "    <tr>\n",
              "      <th>4</th>\n",
              "      <td>198.6</td>\n",
              "      <td>192</td>\n",
              "      <td>978.4</td>\n",
              "      <td>825.5</td>\n",
              "      <td>360</td>\n",
              "      <td>44.296075</td>\n",
              "    </tr>\n",
              "    <tr>\n",
              "      <th>5</th>\n",
              "      <td>266.0</td>\n",
              "      <td>228</td>\n",
              "      <td>932.0</td>\n",
              "      <td>670.0</td>\n",
              "      <td>90</td>\n",
              "      <td>47.029847</td>\n",
              "    </tr>\n",
              "    <tr>\n",
              "      <th>6</th>\n",
              "      <td>380.0</td>\n",
              "      <td>228</td>\n",
              "      <td>932.0</td>\n",
              "      <td>594.0</td>\n",
              "      <td>365</td>\n",
              "      <td>43.698299</td>\n",
              "    </tr>\n",
              "    <tr>\n",
              "      <th>7</th>\n",
              "      <td>380.0</td>\n",
              "      <td>228</td>\n",
              "      <td>932.0</td>\n",
              "      <td>594.0</td>\n",
              "      <td>28</td>\n",
              "      <td>36.447770</td>\n",
              "    </tr>\n",
              "    <tr>\n",
              "      <th>8</th>\n",
              "      <td>266.0</td>\n",
              "      <td>228</td>\n",
              "      <td>932.0</td>\n",
              "      <td>670.0</td>\n",
              "      <td>28</td>\n",
              "      <td>45.854291</td>\n",
              "    </tr>\n",
              "    <tr>\n",
              "      <th>9</th>\n",
              "      <td>475.0</td>\n",
              "      <td>228</td>\n",
              "      <td>932.0</td>\n",
              "      <td>594.0</td>\n",
              "      <td>28</td>\n",
              "      <td>39.289790</td>\n",
              "    </tr>\n",
              "    <tr>\n",
              "      <th>10</th>\n",
              "      <td>198.6</td>\n",
              "      <td>192</td>\n",
              "      <td>978.4</td>\n",
              "      <td>825.5</td>\n",
              "      <td>90</td>\n",
              "      <td>38.074244</td>\n",
              "    </tr>\n",
              "    <tr>\n",
              "      <th>11</th>\n",
              "      <td>198.6</td>\n",
              "      <td>192</td>\n",
              "      <td>978.4</td>\n",
              "      <td>825.5</td>\n",
              "      <td>28</td>\n",
              "      <td>28.021684</td>\n",
              "    </tr>\n",
              "    <tr>\n",
              "      <th>12</th>\n",
              "      <td>427.5</td>\n",
              "      <td>228</td>\n",
              "      <td>932.0</td>\n",
              "      <td>594.0</td>\n",
              "      <td>270</td>\n",
              "      <td>43.012960</td>\n",
              "    </tr>\n",
              "    <tr>\n",
              "      <th>13</th>\n",
              "      <td>190.0</td>\n",
              "      <td>228</td>\n",
              "      <td>932.0</td>\n",
              "      <td>670.0</td>\n",
              "      <td>90</td>\n",
              "      <td>42.326932</td>\n",
              "    </tr>\n",
              "    <tr>\n",
              "      <th>14</th>\n",
              "      <td>304.0</td>\n",
              "      <td>228</td>\n",
              "      <td>932.0</td>\n",
              "      <td>670.0</td>\n",
              "      <td>28</td>\n",
              "      <td>47.813782</td>\n",
              "    </tr>\n",
              "    <tr>\n",
              "      <th>15</th>\n",
              "      <td>380.0</td>\n",
              "      <td>228</td>\n",
              "      <td>932.0</td>\n",
              "      <td>670.0</td>\n",
              "      <td>90</td>\n",
              "      <td>52.908320</td>\n",
              "    </tr>\n",
              "    <tr>\n",
              "      <th>16</th>\n",
              "      <td>139.6</td>\n",
              "      <td>192</td>\n",
              "      <td>1047.0</td>\n",
              "      <td>806.9</td>\n",
              "      <td>90</td>\n",
              "      <td>39.358048</td>\n",
              "    </tr>\n",
              "    <tr>\n",
              "      <th>17</th>\n",
              "      <td>342.0</td>\n",
              "      <td>228</td>\n",
              "      <td>932.0</td>\n",
              "      <td>670.0</td>\n",
              "      <td>365</td>\n",
              "      <td>56.141962</td>\n",
              "    </tr>\n",
              "    <tr>\n",
              "      <th>18</th>\n",
              "      <td>380.0</td>\n",
              "      <td>228</td>\n",
              "      <td>932.0</td>\n",
              "      <td>594.0</td>\n",
              "      <td>90</td>\n",
              "      <td>40.563252</td>\n",
              "    </tr>\n",
              "    <tr>\n",
              "      <th>19</th>\n",
              "      <td>475.0</td>\n",
              "      <td>228</td>\n",
              "      <td>932.0</td>\n",
              "      <td>594.0</td>\n",
              "      <td>180</td>\n",
              "      <td>42.620648</td>\n",
              "    </tr>\n",
              "    <tr>\n",
              "      <th>20</th>\n",
              "      <td>427.5</td>\n",
              "      <td>228</td>\n",
              "      <td>932.0</td>\n",
              "      <td>594.0</td>\n",
              "      <td>180</td>\n",
              "      <td>41.836714</td>\n",
              "    </tr>\n",
              "    <tr>\n",
              "      <th>21</th>\n",
              "      <td>139.6</td>\n",
              "      <td>192</td>\n",
              "      <td>1047.0</td>\n",
              "      <td>806.9</td>\n",
              "      <td>28</td>\n",
              "      <td>28.237490</td>\n",
              "    </tr>\n",
              "    <tr>\n",
              "      <th>22</th>\n",
              "      <td>139.6</td>\n",
              "      <td>192</td>\n",
              "      <td>1047.0</td>\n",
              "      <td>806.9</td>\n",
              "      <td>3</td>\n",
              "      <td>8.063422</td>\n",
              "    </tr>\n",
              "    <tr>\n",
              "      <th>23</th>\n",
              "      <td>139.6</td>\n",
              "      <td>192</td>\n",
              "      <td>1047.0</td>\n",
              "      <td>806.9</td>\n",
              "      <td>180</td>\n",
              "      <td>44.207822</td>\n",
              "    </tr>\n",
              "    <tr>\n",
              "      <th>24</th>\n",
              "      <td>380.0</td>\n",
              "      <td>228</td>\n",
              "      <td>932.0</td>\n",
              "      <td>670.0</td>\n",
              "      <td>365</td>\n",
              "      <td>52.516697</td>\n",
              "    </tr>\n",
              "    <tr>\n",
              "      <th>25</th>\n",
              "      <td>380.0</td>\n",
              "      <td>228</td>\n",
              "      <td>932.0</td>\n",
              "      <td>670.0</td>\n",
              "      <td>270</td>\n",
              "      <td>53.300632</td>\n",
              "    </tr>\n",
              "    <tr>\n",
              "      <th>26</th>\n",
              "      <td>380.0</td>\n",
              "      <td>228</td>\n",
              "      <td>932.0</td>\n",
              "      <td>594.0</td>\n",
              "      <td>270</td>\n",
              "      <td>41.151375</td>\n",
              "    </tr>\n",
              "    <tr>\n",
              "      <th>27</th>\n",
              "      <td>342.0</td>\n",
              "      <td>228</td>\n",
              "      <td>932.0</td>\n",
              "      <td>670.0</td>\n",
              "      <td>180</td>\n",
              "      <td>52.124386</td>\n",
              "    </tr>\n",
              "    <tr>\n",
              "      <th>28</th>\n",
              "      <td>427.5</td>\n",
              "      <td>228</td>\n",
              "      <td>932.0</td>\n",
              "      <td>594.0</td>\n",
              "      <td>28</td>\n",
              "      <td>37.427515</td>\n",
              "    </tr>\n",
              "    <tr>\n",
              "      <th>29</th>\n",
              "      <td>475.0</td>\n",
              "      <td>228</td>\n",
              "      <td>932.0</td>\n",
              "      <td>594.0</td>\n",
              "      <td>7</td>\n",
              "      <td>38.603761</td>\n",
              "    </tr>\n",
              "    <tr>\n",
              "      <th>30</th>\n",
              "      <td>304.0</td>\n",
              "      <td>228</td>\n",
              "      <td>932.0</td>\n",
              "      <td>670.0</td>\n",
              "      <td>365</td>\n",
              "      <td>55.260122</td>\n",
              "    </tr>\n",
              "    <tr>\n",
              "      <th>31</th>\n",
              "      <td>266.0</td>\n",
              "      <td>228</td>\n",
              "      <td>932.0</td>\n",
              "      <td>670.0</td>\n",
              "      <td>365</td>\n",
              "      <td>52.908320</td>\n",
              "    </tr>\n",
              "    <tr>\n",
              "      <th>32</th>\n",
              "      <td>198.6</td>\n",
              "      <td>192</td>\n",
              "      <td>978.4</td>\n",
              "      <td>825.5</td>\n",
              "      <td>180</td>\n",
              "      <td>41.719503</td>\n",
              "    </tr>\n",
              "    <tr>\n",
              "      <th>33</th>\n",
              "      <td>475.0</td>\n",
              "      <td>228</td>\n",
              "      <td>932.0</td>\n",
              "      <td>594.0</td>\n",
              "      <td>270</td>\n",
              "      <td>42.131120</td>\n",
              "    </tr>\n",
              "    <tr>\n",
              "      <th>34</th>\n",
              "      <td>190.0</td>\n",
              "      <td>228</td>\n",
              "      <td>932.0</td>\n",
              "      <td>670.0</td>\n",
              "      <td>365</td>\n",
              "      <td>53.692254</td>\n",
              "    </tr>\n",
              "    <tr>\n",
              "      <th>35</th>\n",
              "      <td>237.5</td>\n",
              "      <td>228</td>\n",
              "      <td>932.0</td>\n",
              "      <td>594.0</td>\n",
              "      <td>270</td>\n",
              "      <td>38.407950</td>\n",
              "    </tr>\n",
              "    <tr>\n",
              "      <th>36</th>\n",
              "      <td>237.5</td>\n",
              "      <td>228</td>\n",
              "      <td>932.0</td>\n",
              "      <td>594.0</td>\n",
              "      <td>28</td>\n",
              "      <td>30.079769</td>\n",
              "    </tr>\n",
              "    <tr>\n",
              "      <th>37</th>\n",
              "      <td>332.5</td>\n",
              "      <td>228</td>\n",
              "      <td>932.0</td>\n",
              "      <td>594.0</td>\n",
              "      <td>90</td>\n",
              "      <td>37.721921</td>\n",
              "    </tr>\n",
              "    <tr>\n",
              "      <th>38</th>\n",
              "      <td>475.0</td>\n",
              "      <td>228</td>\n",
              "      <td>932.0</td>\n",
              "      <td>594.0</td>\n",
              "      <td>90</td>\n",
              "      <td>42.229026</td>\n",
              "    </tr>\n",
              "    <tr>\n",
              "      <th>39</th>\n",
              "      <td>237.5</td>\n",
              "      <td>228</td>\n",
              "      <td>932.0</td>\n",
              "      <td>594.0</td>\n",
              "      <td>180</td>\n",
              "      <td>36.251959</td>\n",
              "    </tr>\n",
              "  </tbody>\n",
              "</table>\n",
              "</div>\n",
              "      <button class=\"colab-df-convert\" onclick=\"convertToInteractive('df-140e750a-3376-4c90-9b46-439a112a319d')\"\n",
              "              title=\"Convert this dataframe to an interactive table.\"\n",
              "              style=\"display:none;\">\n",
              "        \n",
              "  <svg xmlns=\"http://www.w3.org/2000/svg\" height=\"24px\"viewBox=\"0 0 24 24\"\n",
              "       width=\"24px\">\n",
              "    <path d=\"M0 0h24v24H0V0z\" fill=\"none\"/>\n",
              "    <path d=\"M18.56 5.44l.94 2.06.94-2.06 2.06-.94-2.06-.94-.94-2.06-.94 2.06-2.06.94zm-11 1L8.5 8.5l.94-2.06 2.06-.94-2.06-.94L8.5 2.5l-.94 2.06-2.06.94zm10 10l.94 2.06.94-2.06 2.06-.94-2.06-.94-.94-2.06-.94 2.06-2.06.94z\"/><path d=\"M17.41 7.96l-1.37-1.37c-.4-.4-.92-.59-1.43-.59-.52 0-1.04.2-1.43.59L10.3 9.45l-7.72 7.72c-.78.78-.78 2.05 0 2.83L4 21.41c.39.39.9.59 1.41.59.51 0 1.02-.2 1.41-.59l7.78-7.78 2.81-2.81c.8-.78.8-2.07 0-2.86zM5.41 20L4 18.59l7.72-7.72 1.47 1.35L5.41 20z\"/>\n",
              "  </svg>\n",
              "      </button>\n",
              "      \n",
              "  <style>\n",
              "    .colab-df-container {\n",
              "      display:flex;\n",
              "      flex-wrap:wrap;\n",
              "      gap: 12px;\n",
              "    }\n",
              "\n",
              "    .colab-df-convert {\n",
              "      background-color: #E8F0FE;\n",
              "      border: none;\n",
              "      border-radius: 50%;\n",
              "      cursor: pointer;\n",
              "      display: none;\n",
              "      fill: #1967D2;\n",
              "      height: 32px;\n",
              "      padding: 0 0 0 0;\n",
              "      width: 32px;\n",
              "    }\n",
              "\n",
              "    .colab-df-convert:hover {\n",
              "      background-color: #E2EBFA;\n",
              "      box-shadow: 0px 1px 2px rgba(60, 64, 67, 0.3), 0px 1px 3px 1px rgba(60, 64, 67, 0.15);\n",
              "      fill: #174EA6;\n",
              "    }\n",
              "\n",
              "    [theme=dark] .colab-df-convert {\n",
              "      background-color: #3B4455;\n",
              "      fill: #D2E3FC;\n",
              "    }\n",
              "\n",
              "    [theme=dark] .colab-df-convert:hover {\n",
              "      background-color: #434B5C;\n",
              "      box-shadow: 0px 1px 3px 1px rgba(0, 0, 0, 0.15);\n",
              "      filter: drop-shadow(0px 1px 2px rgba(0, 0, 0, 0.3));\n",
              "      fill: #FFFFFF;\n",
              "    }\n",
              "  </style>\n",
              "\n",
              "      <script>\n",
              "        const buttonEl =\n",
              "          document.querySelector('#df-140e750a-3376-4c90-9b46-439a112a319d button.colab-df-convert');\n",
              "        buttonEl.style.display =\n",
              "          google.colab.kernel.accessAllowed ? 'block' : 'none';\n",
              "\n",
              "        async function convertToInteractive(key) {\n",
              "          const element = document.querySelector('#df-140e750a-3376-4c90-9b46-439a112a319d');\n",
              "          const dataTable =\n",
              "            await google.colab.kernel.invokeFunction('convertToInteractive',\n",
              "                                                     [key], {});\n",
              "          if (!dataTable) return;\n",
              "\n",
              "          const docLinkHtml = 'Like what you see? Visit the ' +\n",
              "            '<a target=\"_blank\" href=https://colab.research.google.com/notebooks/data_table.ipynb>data table notebook</a>'\n",
              "            + ' to learn more about interactive tables.';\n",
              "          element.innerHTML = '';\n",
              "          dataTable['output_type'] = 'display_data';\n",
              "          await google.colab.output.renderOutput(dataTable, element);\n",
              "          const docLink = document.createElement('div');\n",
              "          docLink.innerHTML = docLinkHtml;\n",
              "          element.appendChild(docLink);\n",
              "        }\n",
              "      </script>\n",
              "    </div>\n",
              "  </div>\n",
              "  "
            ],
            "text/plain": [
              "    Cement  Water  Coarse_Aggregate  Fine_Aggregate  Age  Strength \n",
              "0    540.0    162            1040.0           676.0   28  79.986111\n",
              "1    540.0    162            1055.0           676.0   28  61.887366\n",
              "2    332.5    228             932.0           594.0  270  40.269535\n",
              "3    332.5    228             932.0           594.0  365  41.052780\n",
              "4    198.6    192             978.4           825.5  360  44.296075\n",
              "5    266.0    228             932.0           670.0   90  47.029847\n",
              "6    380.0    228             932.0           594.0  365  43.698299\n",
              "7    380.0    228             932.0           594.0   28  36.447770\n",
              "8    266.0    228             932.0           670.0   28  45.854291\n",
              "9    475.0    228             932.0           594.0   28  39.289790\n",
              "10   198.6    192             978.4           825.5   90  38.074244\n",
              "11   198.6    192             978.4           825.5   28  28.021684\n",
              "12   427.5    228             932.0           594.0  270  43.012960\n",
              "13   190.0    228             932.0           670.0   90  42.326932\n",
              "14   304.0    228             932.0           670.0   28  47.813782\n",
              "15   380.0    228             932.0           670.0   90  52.908320\n",
              "16   139.6    192            1047.0           806.9   90  39.358048\n",
              "17   342.0    228             932.0           670.0  365  56.141962\n",
              "18   380.0    228             932.0           594.0   90  40.563252\n",
              "19   475.0    228             932.0           594.0  180  42.620648\n",
              "20   427.5    228             932.0           594.0  180  41.836714\n",
              "21   139.6    192            1047.0           806.9   28  28.237490\n",
              "22   139.6    192            1047.0           806.9    3   8.063422\n",
              "23   139.6    192            1047.0           806.9  180  44.207822\n",
              "24   380.0    228             932.0           670.0  365  52.516697\n",
              "25   380.0    228             932.0           670.0  270  53.300632\n",
              "26   380.0    228             932.0           594.0  270  41.151375\n",
              "27   342.0    228             932.0           670.0  180  52.124386\n",
              "28   427.5    228             932.0           594.0   28  37.427515\n",
              "29   475.0    228             932.0           594.0    7  38.603761\n",
              "30   304.0    228             932.0           670.0  365  55.260122\n",
              "31   266.0    228             932.0           670.0  365  52.908320\n",
              "32   198.6    192             978.4           825.5  180  41.719503\n",
              "33   475.0    228             932.0           594.0  270  42.131120\n",
              "34   190.0    228             932.0           670.0  365  53.692254\n",
              "35   237.5    228             932.0           594.0  270  38.407950\n",
              "36   237.5    228             932.0           594.0   28  30.079769\n",
              "37   332.5    228             932.0           594.0   90  37.721921\n",
              "38   475.0    228             932.0           594.0   90  42.229026\n",
              "39   237.5    228             932.0           594.0  180  36.251959"
            ]
          },
          "execution_count": 4,
          "metadata": {},
          "output_type": "execute_result"
        }
      ],
      "source": [
        "import pandas as pd\n",
        "Lab2=pd.read_csv('/content/drive/MyDrive/Lab_2 (1).csv')\n",
        "Lab2"
      ]
    },
    {
      "cell_type": "code",
      "execution_count": null,
      "metadata": {
        "colab": {
          "base_uri": "https://localhost:8080/",
          "height": 300
        },
        "id": "jbSNvl--qzlN",
        "outputId": "d84af42e-c301-471c-a731-157e2accb286"
      },
      "outputs": [
        {
          "data": {
            "text/html": [
              "\n",
              "  <div id=\"df-21472d69-ee19-4b42-8580-88abd45ffa72\">\n",
              "    <div class=\"colab-df-container\">\n",
              "      <div>\n",
              "<style scoped>\n",
              "    .dataframe tbody tr th:only-of-type {\n",
              "        vertical-align: middle;\n",
              "    }\n",
              "\n",
              "    .dataframe tbody tr th {\n",
              "        vertical-align: top;\n",
              "    }\n",
              "\n",
              "    .dataframe thead th {\n",
              "        text-align: right;\n",
              "    }\n",
              "</style>\n",
              "<table border=\"1\" class=\"dataframe\">\n",
              "  <thead>\n",
              "    <tr style=\"text-align: right;\">\n",
              "      <th></th>\n",
              "      <th>Cement</th>\n",
              "      <th>Water</th>\n",
              "      <th>Coarse_Aggregate</th>\n",
              "      <th>Fine_Aggregate</th>\n",
              "      <th>Age</th>\n",
              "      <th>Strength</th>\n",
              "    </tr>\n",
              "  </thead>\n",
              "  <tbody>\n",
              "    <tr>\n",
              "      <th>count</th>\n",
              "      <td>40.000000</td>\n",
              "      <td>40.000000</td>\n",
              "      <td>40.000000</td>\n",
              "      <td>40.000000</td>\n",
              "      <td>40.000000</td>\n",
              "      <td>40.000000</td>\n",
              "    </tr>\n",
              "    <tr>\n",
              "      <th>mean</th>\n",
              "      <td>323.257500</td>\n",
              "      <td>217.500000</td>\n",
              "      <td>953.915000</td>\n",
              "      <td>665.340000</td>\n",
              "      <td>165.625000</td>\n",
              "      <td>43.463136</td>\n",
              "    </tr>\n",
              "    <tr>\n",
              "      <th>std</th>\n",
              "      <td>116.620498</td>\n",
              "      <td>19.394686</td>\n",
              "      <td>42.090912</td>\n",
              "      <td>83.950354</td>\n",
              "      <td>131.012563</td>\n",
              "      <td>11.065465</td>\n",
              "    </tr>\n",
              "    <tr>\n",
              "      <th>min</th>\n",
              "      <td>139.600000</td>\n",
              "      <td>162.000000</td>\n",
              "      <td>932.000000</td>\n",
              "      <td>594.000000</td>\n",
              "      <td>3.000000</td>\n",
              "      <td>8.063422</td>\n",
              "    </tr>\n",
              "    <tr>\n",
              "      <th>25%</th>\n",
              "      <td>227.775000</td>\n",
              "      <td>219.000000</td>\n",
              "      <td>932.000000</td>\n",
              "      <td>594.000000</td>\n",
              "      <td>28.000000</td>\n",
              "      <td>38.554808</td>\n",
              "    </tr>\n",
              "    <tr>\n",
              "      <th>50%</th>\n",
              "      <td>332.500000</td>\n",
              "      <td>228.000000</td>\n",
              "      <td>932.000000</td>\n",
              "      <td>670.000000</td>\n",
              "      <td>135.000000</td>\n",
              "      <td>42.180073</td>\n",
              "    </tr>\n",
              "    <tr>\n",
              "      <th>75%</th>\n",
              "      <td>391.875000</td>\n",
              "      <td>228.000000</td>\n",
              "      <td>943.600000</td>\n",
              "      <td>671.500000</td>\n",
              "      <td>270.000000</td>\n",
              "      <td>48.891433</td>\n",
              "    </tr>\n",
              "    <tr>\n",
              "      <th>max</th>\n",
              "      <td>540.000000</td>\n",
              "      <td>228.000000</td>\n",
              "      <td>1055.000000</td>\n",
              "      <td>825.500000</td>\n",
              "      <td>365.000000</td>\n",
              "      <td>79.986111</td>\n",
              "    </tr>\n",
              "  </tbody>\n",
              "</table>\n",
              "</div>\n",
              "      <button class=\"colab-df-convert\" onclick=\"convertToInteractive('df-21472d69-ee19-4b42-8580-88abd45ffa72')\"\n",
              "              title=\"Convert this dataframe to an interactive table.\"\n",
              "              style=\"display:none;\">\n",
              "        \n",
              "  <svg xmlns=\"http://www.w3.org/2000/svg\" height=\"24px\"viewBox=\"0 0 24 24\"\n",
              "       width=\"24px\">\n",
              "    <path d=\"M0 0h24v24H0V0z\" fill=\"none\"/>\n",
              "    <path d=\"M18.56 5.44l.94 2.06.94-2.06 2.06-.94-2.06-.94-.94-2.06-.94 2.06-2.06.94zm-11 1L8.5 8.5l.94-2.06 2.06-.94-2.06-.94L8.5 2.5l-.94 2.06-2.06.94zm10 10l.94 2.06.94-2.06 2.06-.94-2.06-.94-.94-2.06-.94 2.06-2.06.94z\"/><path d=\"M17.41 7.96l-1.37-1.37c-.4-.4-.92-.59-1.43-.59-.52 0-1.04.2-1.43.59L10.3 9.45l-7.72 7.72c-.78.78-.78 2.05 0 2.83L4 21.41c.39.39.9.59 1.41.59.51 0 1.02-.2 1.41-.59l7.78-7.78 2.81-2.81c.8-.78.8-2.07 0-2.86zM5.41 20L4 18.59l7.72-7.72 1.47 1.35L5.41 20z\"/>\n",
              "  </svg>\n",
              "      </button>\n",
              "      \n",
              "  <style>\n",
              "    .colab-df-container {\n",
              "      display:flex;\n",
              "      flex-wrap:wrap;\n",
              "      gap: 12px;\n",
              "    }\n",
              "\n",
              "    .colab-df-convert {\n",
              "      background-color: #E8F0FE;\n",
              "      border: none;\n",
              "      border-radius: 50%;\n",
              "      cursor: pointer;\n",
              "      display: none;\n",
              "      fill: #1967D2;\n",
              "      height: 32px;\n",
              "      padding: 0 0 0 0;\n",
              "      width: 32px;\n",
              "    }\n",
              "\n",
              "    .colab-df-convert:hover {\n",
              "      background-color: #E2EBFA;\n",
              "      box-shadow: 0px 1px 2px rgba(60, 64, 67, 0.3), 0px 1px 3px 1px rgba(60, 64, 67, 0.15);\n",
              "      fill: #174EA6;\n",
              "    }\n",
              "\n",
              "    [theme=dark] .colab-df-convert {\n",
              "      background-color: #3B4455;\n",
              "      fill: #D2E3FC;\n",
              "    }\n",
              "\n",
              "    [theme=dark] .colab-df-convert:hover {\n",
              "      background-color: #434B5C;\n",
              "      box-shadow: 0px 1px 3px 1px rgba(0, 0, 0, 0.15);\n",
              "      filter: drop-shadow(0px 1px 2px rgba(0, 0, 0, 0.3));\n",
              "      fill: #FFFFFF;\n",
              "    }\n",
              "  </style>\n",
              "\n",
              "      <script>\n",
              "        const buttonEl =\n",
              "          document.querySelector('#df-21472d69-ee19-4b42-8580-88abd45ffa72 button.colab-df-convert');\n",
              "        buttonEl.style.display =\n",
              "          google.colab.kernel.accessAllowed ? 'block' : 'none';\n",
              "\n",
              "        async function convertToInteractive(key) {\n",
              "          const element = document.querySelector('#df-21472d69-ee19-4b42-8580-88abd45ffa72');\n",
              "          const dataTable =\n",
              "            await google.colab.kernel.invokeFunction('convertToInteractive',\n",
              "                                                     [key], {});\n",
              "          if (!dataTable) return;\n",
              "\n",
              "          const docLinkHtml = 'Like what you see? Visit the ' +\n",
              "            '<a target=\"_blank\" href=https://colab.research.google.com/notebooks/data_table.ipynb>data table notebook</a>'\n",
              "            + ' to learn more about interactive tables.';\n",
              "          element.innerHTML = '';\n",
              "          dataTable['output_type'] = 'display_data';\n",
              "          await google.colab.output.renderOutput(dataTable, element);\n",
              "          const docLink = document.createElement('div');\n",
              "          docLink.innerHTML = docLinkHtml;\n",
              "          element.appendChild(docLink);\n",
              "        }\n",
              "      </script>\n",
              "    </div>\n",
              "  </div>\n",
              "  "
            ],
            "text/plain": [
              "           Cement       Water  Coarse_Aggregate  Fine_Aggregate         Age  \\\n",
              "count   40.000000   40.000000         40.000000       40.000000   40.000000   \n",
              "mean   323.257500  217.500000        953.915000      665.340000  165.625000   \n",
              "std    116.620498   19.394686         42.090912       83.950354  131.012563   \n",
              "min    139.600000  162.000000        932.000000      594.000000    3.000000   \n",
              "25%    227.775000  219.000000        932.000000      594.000000   28.000000   \n",
              "50%    332.500000  228.000000        932.000000      670.000000  135.000000   \n",
              "75%    391.875000  228.000000        943.600000      671.500000  270.000000   \n",
              "max    540.000000  228.000000       1055.000000      825.500000  365.000000   \n",
              "\n",
              "       Strength   \n",
              "count  40.000000  \n",
              "mean   43.463136  \n",
              "std    11.065465  \n",
              "min     8.063422  \n",
              "25%    38.554808  \n",
              "50%    42.180073  \n",
              "75%    48.891433  \n",
              "max    79.986111  "
            ]
          },
          "execution_count": 5,
          "metadata": {},
          "output_type": "execute_result"
        }
      ],
      "source": [
        "Lab2.describe()"
      ]
    },
    {
      "cell_type": "code",
      "execution_count": null,
      "metadata": {
        "colab": {
          "base_uri": "https://localhost:8080/"
        },
        "id": "P06qo_AmrNk-",
        "outputId": "70205cd1-67e8-42ff-ee6d-c6b7b29ad628"
      },
      "outputs": [
        {
          "name": "stdout",
          "output_type": "stream",
          "text": [
            "Mean Cement=  323.2575 Median Cement=  332.5 Mode Cement=  0    380.0\n",
            "dtype: float64\n"
          ]
        }
      ],
      "source": [
        "#Mean, Median, Mode\n",
        "x=Lab2['Cement'].mean()\n",
        "y=Lab2['Cement'].median()\n",
        "z=Lab2['Cement'].mode()\n",
        "print('Mean Cement= ',x,'Median Cement= ',y, 'Mode Cement= ',z)"
      ]
    },
    {
      "cell_type": "code",
      "execution_count": null,
      "metadata": {
        "colab": {
          "base_uri": "https://localhost:8080/"
        },
        "id": "zx2RM2ROrm5I",
        "outputId": "122ccfc7-6cff-4bde-a051-09c430632eb9"
      },
      "outputs": [
        {
          "name": "stdout",
          "output_type": "stream",
          "text": [
            "Mean Fine_Aggregate=  665.3399999999999 Median Fine_Aggregate=  670.0 Mode Fine_Aggregate=  0    594.0\n",
            "dtype: float64\n"
          ]
        }
      ],
      "source": [
        "#Mean, Median, Mode\n",
        "x=Lab2['Fine_Aggregate'].mean()\n",
        "y=Lab2['Fine_Aggregate'].median()\n",
        "z=Lab2['Fine_Aggregate'].mode()\n",
        "print('Mean Fine_Aggregate= ',x,'Median Fine_Aggregate= ',y, 'Mode Fine_Aggregate= ',z)"
      ]
    },
    {
      "cell_type": "code",
      "execution_count": 34,
      "metadata": {
        "colab": {
          "base_uri": "https://localhost:8080/"
        },
        "id": "UEg09H7Ls1o-",
        "outputId": "2651c493-0292-4677-d814-5d9c1135ac41"
      },
      "outputs": [
        {
          "output_type": "stream",
          "name": "stdout",
          "text": [
            "Mean Strength=  0     79.986111\n",
            "1     61.887366\n",
            "2     40.269535\n",
            "3     41.052780\n",
            "4     44.296075\n",
            "5     47.029847\n",
            "6     43.698299\n",
            "7     36.447770\n",
            "8     45.854291\n",
            "9     39.289790\n",
            "10    38.074244\n",
            "11    28.021684\n",
            "12    43.012960\n",
            "13    42.326932\n",
            "14    47.813782\n",
            "15    52.908320\n",
            "16    39.358048\n",
            "17    56.141962\n",
            "18    40.563252\n",
            "19    42.620648\n",
            "20    41.836714\n",
            "21    28.237490\n",
            "22     8.063422\n",
            "23    44.207822\n",
            "24    52.516697\n",
            "25    53.300632\n",
            "26    41.151375\n",
            "27    52.124386\n",
            "28    37.427515\n",
            "29    38.603761\n",
            "30    55.260122\n",
            "31    52.908320\n",
            "32    41.719503\n",
            "33    42.131120\n",
            "34    53.692254\n",
            "35    38.407950\n",
            "36    30.079769\n",
            "37    37.721921\n",
            "38    42.229026\n",
            "39    36.251959\n",
            "Name: Strength , dtype: float64 Median Strength=  42.180073254999996 Mode Strength=  0    52.90832\n",
            "dtype: float64\n"
          ]
        }
      ],
      "source": [
        "#Mean, Median, Mode\n",
        "x=Lab2['Strength ']\n",
        "y=Lab2['Strength '].median()\n",
        "z=Lab2['Strength '].mode()\n",
        "print('Mean Strength= ',x,'Median Strength= ',y, 'Mode Strength= ',z)"
      ]
    },
    {
      "cell_type": "code",
      "execution_count": null,
      "metadata": {
        "colab": {
          "base_uri": "https://localhost:8080/"
        },
        "id": "eCp3SCGEuJTG",
        "outputId": "cec92094-78ce-4860-d5bc-21ac93f3ad24"
      },
      "outputs": [
        {
          "data": {
            "text/plain": [
              "400.4"
            ]
          },
          "execution_count": 11,
          "metadata": {},
          "output_type": "execute_result"
        }
      ],
      "source": [
        "#Range\n",
        "Range= Lab2['Cement'].max()-Lab2['Cement'].min()\n",
        "Range"
      ]
    },
    {
      "cell_type": "code",
      "execution_count": null,
      "metadata": {
        "colab": {
          "base_uri": "https://localhost:8080/"
        },
        "id": "oLdOBLCGuxRu",
        "outputId": "0b407e76-ee3a-4afd-8e80-e2cc02a1fe0d"
      },
      "outputs": [
        {
          "data": {
            "text/plain": [
              "123.0"
            ]
          },
          "execution_count": 12,
          "metadata": {},
          "output_type": "execute_result"
        }
      ],
      "source": [
        "#Range\n",
        "Range= Lab2['Coarse_Aggregate'].max()-Lab2['Coarse_Aggregate'].min()\n",
        "Range"
      ]
    },
    {
      "cell_type": "code",
      "execution_count": null,
      "metadata": {
        "colab": {
          "base_uri": "https://localhost:8080/"
        },
        "id": "moe-GwAQuyz0",
        "outputId": "d798ead9-a2ac-403f-e392-af928b660b53"
      },
      "outputs": [
        {
          "data": {
            "text/plain": [
              "231.5"
            ]
          },
          "execution_count": 13,
          "metadata": {},
          "output_type": "execute_result"
        }
      ],
      "source": [
        "#Range\n",
        "Range= Lab2['Fine_Aggregate'].max()-Lab2['Fine_Aggregate'].min()\n",
        "Range"
      ]
    },
    {
      "cell_type": "code",
      "execution_count": null,
      "metadata": {
        "colab": {
          "base_uri": "https://localhost:8080/"
        },
        "id": "blYFgyo3vDjz",
        "outputId": "0a9f1008-9f97-4bfb-8d39-c966f1ac7f16"
      },
      "outputs": [
        {
          "data": {
            "text/plain": [
              "71.92268894"
            ]
          },
          "execution_count": 38,
          "metadata": {},
          "output_type": "execute_result"
        }
      ],
      "source": [
        "#Range\n",
        "Range= Lab2['Strength '].max()-Lab2['Strength '].min()\n",
        "Range"
      ]
    },
    {
      "cell_type": "code",
      "execution_count": 37,
      "metadata": {
        "colab": {
          "base_uri": "https://localhost:8080/"
        },
        "id": "jyMZAxEzvXsB",
        "outputId": "bb110490-93f1-4da7-95fd-761596627449"
      },
      "outputs": [
        {
          "output_type": "execute_result",
          "data": {
            "text/plain": [
              "227.775"
            ]
          },
          "metadata": {},
          "execution_count": 37
        }
      ],
      "source": [
        "#IQR\n",
        "Q1= np.percentile(Lab2['Cement'],(25))\n",
        "Q1"
      ]
    },
    {
      "cell_type": "code",
      "source": [
        "#IQR\n",
        "Q2= np.percentile(Lab2['Cement'],(50))\n",
        "Q2"
      ],
      "metadata": {
        "colab": {
          "base_uri": "https://localhost:8080/"
        },
        "id": "AcfG-mDpfCrI",
        "outputId": "024ef302-25cb-4758-8b31-ce7192510ebb"
      },
      "execution_count": 38,
      "outputs": [
        {
          "output_type": "execute_result",
          "data": {
            "text/plain": [
              "332.5"
            ]
          },
          "metadata": {},
          "execution_count": 38
        }
      ]
    },
    {
      "cell_type": "code",
      "source": [
        "#IQR\n",
        "Q3= np.percentile(Lab2['Cement'],(75))\n",
        "Q3"
      ],
      "metadata": {
        "colab": {
          "base_uri": "https://localhost:8080/"
        },
        "id": "nY_tfD18gnag",
        "outputId": "1d47607a-6739-4569-af9d-7fccece7a0e6"
      },
      "execution_count": 39,
      "outputs": [
        {
          "output_type": "execute_result",
          "data": {
            "text/plain": [
              "391.875"
            ]
          },
          "metadata": {},
          "execution_count": 39
        }
      ]
    },
    {
      "cell_type": "code",
      "execution_count": null,
      "metadata": {
        "colab": {
          "base_uri": "https://localhost:8080/"
        },
        "id": "EiS3WdThVx88",
        "outputId": "92f86142-de3b-4cf0-91a8-38c21bf6c7c8"
      },
      "outputs": [
        {
          "data": {
            "text/plain": [
              "932.0"
            ]
          },
          "execution_count": 26,
          "metadata": {},
          "output_type": "execute_result"
        }
      ],
      "source": [
        "#IQR\n",
        "Q1= np.percentile(Lab2['Coarse_Aggregate'],(25))\n",
        "Q1"
      ]
    },
    {
      "cell_type": "code",
      "source": [
        "#IQR\n",
        "Q2= np.percentile(Lab2['Coarse_Aggregate'],(50))\n",
        "Q2"
      ],
      "metadata": {
        "colab": {
          "base_uri": "https://localhost:8080/"
        },
        "id": "ct8Sd0dmgtfj",
        "outputId": "5aeb2d09-dfba-4bbb-a1b0-c38cf91837f3"
      },
      "execution_count": 40,
      "outputs": [
        {
          "output_type": "execute_result",
          "data": {
            "text/plain": [
              "932.0"
            ]
          },
          "metadata": {},
          "execution_count": 40
        }
      ]
    },
    {
      "cell_type": "code",
      "source": [
        "#IQR\n",
        "Q3= np.percentile(Lab2['Coarse_Aggregate'],(75))\n",
        "Q3"
      ],
      "metadata": {
        "colab": {
          "base_uri": "https://localhost:8080/"
        },
        "id": "uAnPfjkygtPj",
        "outputId": "7eae6f21-674e-4bd5-f0a2-586ded073df3"
      },
      "execution_count": 41,
      "outputs": [
        {
          "output_type": "execute_result",
          "data": {
            "text/plain": [
              "943.6"
            ]
          },
          "metadata": {},
          "execution_count": 41
        }
      ]
    },
    {
      "cell_type": "code",
      "execution_count": null,
      "metadata": {
        "colab": {
          "base_uri": "https://localhost:8080/"
        },
        "id": "3CSz0rU2V9SX",
        "outputId": "b1af99b6-0576-4e19-8e28-d44c18895d57"
      },
      "outputs": [
        {
          "data": {
            "text/plain": [
              "594.0"
            ]
          },
          "execution_count": 27,
          "metadata": {},
          "output_type": "execute_result"
        }
      ],
      "source": [
        "#IQR\n",
        "Q1= np.percentile(Lab2['Fine_Aggregate'],(25))\n",
        "Q1"
      ]
    },
    {
      "cell_type": "code",
      "source": [
        "#IQR\n",
        "Q2= np.percentile(Lab2['Fine_Aggregate'],(50))\n",
        "Q2"
      ],
      "metadata": {
        "colab": {
          "base_uri": "https://localhost:8080/"
        },
        "id": "69b-VB_shGki",
        "outputId": "6f0cee28-a6cb-4886-c9e8-7326bd1e67f7"
      },
      "execution_count": 42,
      "outputs": [
        {
          "output_type": "execute_result",
          "data": {
            "text/plain": [
              "670.0"
            ]
          },
          "metadata": {},
          "execution_count": 42
        }
      ]
    },
    {
      "cell_type": "code",
      "source": [
        "#IQR\n",
        "Q3= np.percentile(Lab2['Fine_Aggregate'],(75))\n",
        "Q3"
      ],
      "metadata": {
        "colab": {
          "base_uri": "https://localhost:8080/"
        },
        "id": "tyi_xGMyhGZg",
        "outputId": "1c562e82-da6a-4265-a529-21b126955ab0"
      },
      "execution_count": 43,
      "outputs": [
        {
          "output_type": "execute_result",
          "data": {
            "text/plain": [
              "671.5"
            ]
          },
          "metadata": {},
          "execution_count": 43
        }
      ]
    },
    {
      "cell_type": "code",
      "execution_count": null,
      "metadata": {
        "colab": {
          "base_uri": "https://localhost:8080/"
        },
        "id": "fVIa8SGHWCrA",
        "outputId": "dbdfb402-488d-46ab-b3d6-2ec2bad2b233"
      },
      "outputs": [
        {
          "data": {
            "text/plain": [
              "38.554808445"
            ]
          },
          "execution_count": 28,
          "metadata": {},
          "output_type": "execute_result"
        }
      ],
      "source": [
        "#IQR\n",
        "Q1= np.percentile(Lab2['Strength '],(25))\n",
        "Q1"
      ]
    },
    {
      "cell_type": "code",
      "source": [
        "#IQR\n",
        "Q2= np.percentile(Lab2['Strength '],(50))\n",
        "Q2"
      ],
      "metadata": {
        "colab": {
          "base_uri": "https://localhost:8080/"
        },
        "id": "7-uaLIwlhhQf",
        "outputId": "56f882a2-7ad8-4e46-c203-43c2ad3b712a"
      },
      "execution_count": 44,
      "outputs": [
        {
          "output_type": "execute_result",
          "data": {
            "text/plain": [
              "42.180073254999996"
            ]
          },
          "metadata": {},
          "execution_count": 44
        }
      ]
    },
    {
      "cell_type": "code",
      "source": [
        "#IQR\n",
        "Q3= np.percentile(Lab2['Strength '],(75))\n",
        "Q3"
      ],
      "metadata": {
        "colab": {
          "base_uri": "https://localhost:8080/"
        },
        "id": "5QZldFiyhhGs",
        "outputId": "9bc4d00b-7fa0-4268-bfc7-782ee3af0aba"
      },
      "execution_count": 45,
      "outputs": [
        {
          "output_type": "execute_result",
          "data": {
            "text/plain": [
              "48.8914326375"
            ]
          },
          "metadata": {},
          "execution_count": 45
        }
      ]
    },
    {
      "cell_type": "code",
      "execution_count": null,
      "metadata": {
        "colab": {
          "base_uri": "https://localhost:8080/"
        },
        "id": "P8yaBFi0vQXG",
        "outputId": "4678f030-ed5d-413d-f750-374b94562cfc"
      },
      "outputs": [
        {
          "data": {
            "text/plain": [
              "13600.340455128206"
            ]
          },
          "execution_count": 16,
          "metadata": {},
          "output_type": "execute_result"
        }
      ],
      "source": [
        "#Variance\n",
        "Lab2['Cement'].var()     "
      ]
    },
    {
      "cell_type": "code",
      "execution_count": null,
      "metadata": {
        "colab": {
          "base_uri": "https://localhost:8080/"
        },
        "id": "tWNf_mi2vYX1",
        "outputId": "ac972278-7a0a-43df-d7de-db19a2eeefa8"
      },
      "outputs": [
        {
          "data": {
            "text/plain": [
              "1771.644897435897"
            ]
          },
          "execution_count": 18,
          "metadata": {},
          "output_type": "execute_result"
        }
      ],
      "source": [
        "#Variance\n",
        "Lab2['Coarse_Aggregate'].var()     "
      ]
    },
    {
      "cell_type": "code",
      "execution_count": null,
      "metadata": {
        "colab": {
          "base_uri": "https://localhost:8080/"
        },
        "id": "UgTWkUgyvY8Q",
        "outputId": "f33d6f29-2cc3-47b6-e3ac-6a4331c12a74"
      },
      "outputs": [
        {
          "data": {
            "text/plain": [
              "7047.661948717949"
            ]
          },
          "execution_count": 19,
          "metadata": {},
          "output_type": "execute_result"
        }
      ],
      "source": [
        "#Variance\n",
        "Lab2['Fine_Aggregate'].var()  "
      ]
    },
    {
      "cell_type": "code",
      "execution_count": null,
      "metadata": {
        "colab": {
          "base_uri": "https://localhost:8080/"
        },
        "id": "ye_X0cc3vZvv",
        "outputId": "a6e98a3d-9937-4c88-94c9-b2f831860919"
      },
      "outputs": [
        {
          "data": {
            "text/plain": [
              "122.44451823782761"
            ]
          },
          "execution_count": 39,
          "metadata": {},
          "output_type": "execute_result"
        }
      ],
      "source": [
        "#Variance\n",
        "Lab2['Strength '].var()   "
      ]
    },
    {
      "cell_type": "code",
      "execution_count": null,
      "metadata": {
        "colab": {
          "base_uri": "https://localhost:8080/"
        },
        "id": "52PKo3zRvvd7",
        "outputId": "b1fd4b5a-da57-4b75-a73e-352ee82baece"
      },
      "outputs": [
        {
          "data": {
            "text/plain": [
              "116.62049757709065"
            ]
          },
          "execution_count": 21,
          "metadata": {},
          "output_type": "execute_result"
        }
      ],
      "source": [
        "#Standard Deviation\n",
        "Lab2['Cement'].std()"
      ]
    },
    {
      "cell_type": "code",
      "execution_count": null,
      "metadata": {
        "colab": {
          "base_uri": "https://localhost:8080/"
        },
        "id": "dw9rn-VPvv8D",
        "outputId": "a22454c5-b0fa-4192-cc1f-c9a578e8c7a4"
      },
      "outputs": [
        {
          "data": {
            "text/plain": [
              "42.09091229037329"
            ]
          },
          "execution_count": 23,
          "metadata": {},
          "output_type": "execute_result"
        }
      ],
      "source": [
        "#Standard Deviation\n",
        "Lab2['Coarse_Aggregate'].std()"
      ]
    },
    {
      "cell_type": "code",
      "execution_count": null,
      "metadata": {
        "colab": {
          "base_uri": "https://localhost:8080/"
        },
        "id": "q7YGkXqKvwTi",
        "outputId": "23e8ecb0-8bc1-4ccd-af5c-65295257e32a"
      },
      "outputs": [
        {
          "data": {
            "text/plain": [
              "83.95035407142693"
            ]
          },
          "execution_count": 24,
          "metadata": {},
          "output_type": "execute_result"
        }
      ],
      "source": [
        "#Standard Deviation\n",
        "Lab2['Fine_Aggregate'].std()"
      ]
    },
    {
      "cell_type": "code",
      "execution_count": null,
      "metadata": {
        "colab": {
          "base_uri": "https://localhost:8080/"
        },
        "id": "leBWYQWxwQs4",
        "outputId": "53ae2297-345d-4ed6-daa6-4bce2540f00e"
      },
      "outputs": [
        {
          "data": {
            "text/plain": [
              "11.065465116199482"
            ]
          },
          "execution_count": 44,
          "metadata": {},
          "output_type": "execute_result"
        }
      ],
      "source": [
        "#Standard Deviation\n",
        "Lab2['Strength '].std()"
      ]
    },
    {
      "cell_type": "code",
      "execution_count": null,
      "metadata": {
        "colab": {
          "base_uri": "https://localhost:8080/"
        },
        "id": "BlndNigIwTgp",
        "outputId": "514c6488-640a-443f-ad7d-8d43967c843a"
      },
      "outputs": [
        {
          "name": "stdout",
          "output_type": "stream",
          "text": [
            "Looking in indexes: https://pypi.org/simple, https://us-python.pkg.dev/colab-wheels/public/simple/\n",
            "Collecting stemgraphic\n",
            "  Downloading stemgraphic-0.9.1-py3-none-any.whl (61 kB)\n",
            "\u001b[2K     \u001b[90m━━━━━━━━━━━━━━━━━━━━━━━━━━━━━━━━━━━━━━━━\u001b[0m \u001b[32m61.9/61.9 KB\u001b[0m \u001b[31m3.2 MB/s\u001b[0m eta \u001b[36m0:00:00\u001b[0m\n",
            "\u001b[?25hCollecting docopt\n",
            "  Downloading docopt-0.6.2.tar.gz (25 kB)\n",
            "  Preparing metadata (setup.py) ... \u001b[?25l\u001b[?25hdone\n",
            "Requirement already satisfied: pandas in /usr/local/lib/python3.8/dist-packages (from stemgraphic) (1.3.5)\n",
            "Requirement already satisfied: seaborn in /usr/local/lib/python3.8/dist-packages (from stemgraphic) (0.11.2)\n",
            "Requirement already satisfied: matplotlib in /usr/local/lib/python3.8/dist-packages (from stemgraphic) (3.2.2)\n",
            "Requirement already satisfied: cycler>=0.10 in /usr/local/lib/python3.8/dist-packages (from matplotlib->stemgraphic) (0.11.0)\n",
            "Requirement already satisfied: kiwisolver>=1.0.1 in /usr/local/lib/python3.8/dist-packages (from matplotlib->stemgraphic) (1.4.4)\n",
            "Requirement already satisfied: python-dateutil>=2.1 in /usr/local/lib/python3.8/dist-packages (from matplotlib->stemgraphic) (2.8.2)\n",
            "Requirement already satisfied: pyparsing!=2.0.4,!=2.1.2,!=2.1.6,>=2.0.1 in /usr/local/lib/python3.8/dist-packages (from matplotlib->stemgraphic) (3.0.9)\n",
            "Requirement already satisfied: numpy>=1.11 in /usr/local/lib/python3.8/dist-packages (from matplotlib->stemgraphic) (1.21.6)\n",
            "Requirement already satisfied: pytz>=2017.3 in /usr/local/lib/python3.8/dist-packages (from pandas->stemgraphic) (2022.7.1)\n",
            "Requirement already satisfied: scipy>=1.0 in /usr/local/lib/python3.8/dist-packages (from seaborn->stemgraphic) (1.7.3)\n",
            "Requirement already satisfied: six>=1.5 in /usr/local/lib/python3.8/dist-packages (from python-dateutil>=2.1->matplotlib->stemgraphic) (1.15.0)\n",
            "Building wheels for collected packages: docopt\n",
            "  Building wheel for docopt (setup.py) ... \u001b[?25l\u001b[?25hdone\n",
            "  Created wheel for docopt: filename=docopt-0.6.2-py2.py3-none-any.whl size=13723 sha256=70ed4c5ab1e88d2be7bf3d3c7b2ba99fd1cb959cff22732f465dd7876ff3a330\n",
            "  Stored in directory: /root/.cache/pip/wheels/56/ea/58/ead137b087d9e326852a851351d1debf4ada529b6ac0ec4e8c\n",
            "Successfully built docopt\n",
            "Installing collected packages: docopt, stemgraphic\n",
            "Successfully installed docopt-0.6.2 stemgraphic-0.9.1\n"
          ]
        }
      ],
      "source": [
        "#Stem-and-Leaf plot\n",
        "!pip install stemgraphic\n",
        "import stemgraphic as STM"
      ]
    },
    {
      "cell_type": "code",
      "execution_count": null,
      "metadata": {
        "colab": {
          "base_uri": "https://localhost:8080/",
          "height": 475
        },
        "id": "En1QM9Iswbtf",
        "outputId": "2c526225-5766-43a8-82f1-0ccc7ec36f0d"
      },
      "outputs": [
        {
          "data": {
            "image/png": "[encoded data removed]",
            "text/plain": [
              "<Figure size 540x486 with 1 Axes>"
            ]
          },
          "metadata": {},
          "output_type": "display_data"
        }
      ],
      "source": [
        "Fig, ax=STM.stem_graphic(Lab2['Fine_Aggregate'],scale=10)"
      ]
    },
    {
      "cell_type": "code",
      "execution_count": null,
      "metadata": {
        "colab": {
          "base_uri": "https://localhost:8080/",
          "height": 232
        },
        "id": "esGul-KvwwLm",
        "outputId": "9cf51e16-8867-4885-f8c3-1f8f1665eab3"
      },
      "outputs": [
        {
          "data": {
            "image/png": "[encoded data removed]",
            "text/plain": [
              "<Figure size 540x216 with 1 Axes>"
            ]
          },
          "metadata": {},
          "output_type": "display_data"
        }
      ],
      "source": [
        "Fig, ax=STM.stem_graphic(Lab2['Strength '],scale=10)"
      ]
    },
    {
      "cell_type": "code",
      "execution_count": null,
      "metadata": {
        "id": "poRmnNAEDXXl"
      },
      "outputs": [],
      "source": [
        "import matplotlib.pyplot as plt"
      ]
    },
    {
      "cell_type": "code",
      "execution_count": 49,
      "metadata": {
        "colab": {
          "base_uri": "https://localhost:8080/",
          "height": 295
        },
        "id": "Q-wuwuvRUVqc",
        "outputId": "db4c187e-f7ca-47a8-8213-d2bda5a9dba6"
      },
      "outputs": [
        {
          "output_type": "display_data",
          "data": {
            "text/plain": [
              "<Figure size 432x288 with 1 Axes>"
            ],
            "image/png": "[encoded data removed]"
          },
          "metadata": {
            "needs_background": "light"
          }
        }
      ],
      "source": [
        "plt.hist(Lab2['Fine_Aggregate'], bins=6)\n",
        "plt.xlabel('Weight')\n",
        "plt.ylabel('Frequency')\n",
        "plt.title('Fine Aggregate')\n",
        "plt.show()"
      ]
    },
    {
      "cell_type": "code",
      "execution_count": 50,
      "metadata": {
        "colab": {
          "base_uri": "https://localhost:8080/",
          "height": 295
        },
        "id": "IJ1VLpYpUVd8",
        "outputId": "1627abd0-e319-4f4d-825b-442317a7a2dd"
      },
      "outputs": [
        {
          "output_type": "display_data",
          "data": {
            "text/plain": [
              "<Figure size 432x288 with 1 Axes>"
            ],
            "image/png": "[encoded data removed]"
          },
          "metadata": {
            "needs_background": "light"
          }
        }
      ],
      "source": [
        "plt.hist(Lab2['Strength '], bins=6)\n",
        "plt.xlabel('Weight')\n",
        "plt.ylabel('Frequency')\n",
        "plt.title('Strength')\n",
        "plt.show()"
      ]
    },
    {
      "cell_type": "code",
      "execution_count": 46,
      "metadata": {
        "colab": {
          "base_uri": "https://localhost:8080/",
          "height": 598
        },
        "id": "FfHq6ZUt2RsA",
        "outputId": "3ebd27b2-e487-4171-f5c0-cc9908dca56b"
      },
      "outputs": [
        {
          "output_type": "display_data",
          "data": {
            "text/plain": [
              "<Figure size 1080x720 with 1 Axes>"
            ],
            "image/png": "[encoded data removed]"
          },
          "metadata": {
            "needs_background": "light"
          }
        }
      ],
      "source": [
        "plt.figure(figsize=(15,10))\n",
        "plt.boxplot(Lab2['Fine_Aggregate'])\n",
        "plt.title('Fine Aggregate' )\n",
        "plt.xlabel('Fine Aggregate')\n",
        "plt.ylabel('Weight')\n",
        "plt.show()"
      ]
    },
    {
      "cell_type": "code",
      "execution_count": 47,
      "metadata": {
        "colab": {
          "base_uri": "https://localhost:8080/",
          "height": 602
        },
        "id": "5lG6OeCf2Rc7",
        "outputId": "d645e06b-1af7-44d9-a1b4-a076d282662e"
      },
      "outputs": [
        {
          "output_type": "display_data",
          "data": {
            "text/plain": [
              "<Figure size 1080x720 with 1 Axes>"
            ],
            "image/png": "[encoded data removed]"
          },
          "metadata": {
            "needs_background": "light"
          }
        }
      ],
      "source": [
        "plt.figure(figsize=(15,10))\n",
        "plt.boxplot(Lab2['Strength '])\n",
        "plt.title('Strength' )\n",
        "plt.xlabel('Strength')\n",
        "plt.ylabel('Weight')\n",
        "plt.show()"
      ]
    },
    {
      "cell_type": "code",
      "execution_count": null,
      "metadata": {
        "colab": {
          "base_uri": "https://localhost:8080/",
          "height": 287
        },
        "id": "nTQtgkQL2CrB",
        "outputId": "572f69e1-e26e-41b3-ddb4-939874ef42a2"
      },
      "outputs": [
        {
          "data": {
            "image/png": "[encoded data removed]",
            "text/plain": [
              "<Figure size 1080x288 with 3 Axes>"
            ]
          },
          "metadata": {},
          "output_type": "display_data"
        }
      ],
      "source": [
        "fig, ((ax1, ax2,ax3)) = plt.subplots(nrows=1,ncols=3,figsize=(15,4))\n",
        "ax1.plot()\n",
        "ax2.plot()\n",
        "ax3.plot()\n",
        "ax1.scatter(Lab2['Cement'],Lab2['Strength '],color='r')\n",
        "ax1.set(title='Cement vs Strength ',xlabel='Cement',ylabel='Strength ')\n",
        "ax2.scatter(Lab2['Coarse_Aggregate'],Lab2['Strength '],color='g')\n",
        "ax2.set(title='Coarse_Aggregate vs Strength ',xlabel='Coarse_Aggregate',ylabel='Strength ')\n",
        "ax3.scatter(Lab2['Fine_Aggregate'],Lab2['Strength '],color='b')\n",
        "ax3.set(title='Fine_Aggregate vs Strength ',xlabel='Fine_Aggregate',ylabel='Strength ')\n",
        "plt.show()"
      ]
    },
    {
      "cell_type": "markdown",
      "source": [
        "From the stem and leaf plot we can see that for the fine aggregate, the weight is very consistent with it being around 670 and 594, this is also seen in the histogram and the box plot. We can see from the stem and leaf plot that the strength is most common in the 30 to 38 strength range. This can also be seen the the histogram and boxplot for strength. From the three scatter plots we can see that the cement vs. strength is more spread out and sporadic. Where as coarse aggregate vs. strength and fine aggregate vs. strength are more consistent in the way that the strength relates to the amount of mateial used to make the concrete."
      ],
      "metadata": {
        "id": "0s2S4OLKspv2"
      }
    }
  ],
  "metadata": {
    "colab": {
      "provenance": [],
      "mount_file_id": "1x0EHv1nVJ0-hEhAEdaDU_3UClXW5FGW9",
      "authorship_tag": "ABX9TyNokC+uHFXXt+p6b002VYHz",
      "include_colab_link": true
    },
    "kernelspec": {
      "display_name": "Python 3",
      "name": "python3"
    },
    "language_info": {
      "name": "python"
    }
  },
  "nbformat": 4,
  "nbformat_minor": 0
}