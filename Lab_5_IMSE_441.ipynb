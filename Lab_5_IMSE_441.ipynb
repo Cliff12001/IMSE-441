{
  "nbformat": 4,
  "nbformat_minor": 0,
  "metadata": {
    "colab": {
      "provenance": [],
      "authorship_tag": "ABX9TyMa/JMz+vwEeURgUnvLrfvb",
      "include_colab_link": true
    },
    "kernelspec": {
      "name": "python3",
      "display_name": "Python 3"
    },
    "language_info": {
      "name": "python"
    }
  },
  "cells": [
    {
      "cell_type": "markdown",
      "metadata": {
        "id": "view-in-github",
        "colab_type": "text"
      },
      "source": [
        "<a href=\"https://colab.research.google.com/github/Cliff12001/IMSE-441/blob/main/Lab_5_IMSE_441.ipynb\" target=\"_parent\"><img src=\"https://colab.research.google.com/assets/colab-badge.svg\" alt=\"Open In Colab\"/></a>"
      ]
    },
    {
      "cell_type": "markdown",
      "source": [
        "Lab 5"
      ],
      "metadata": {
        "id": "GUFFmymVuKAw"
      }
    },
    {
      "cell_type": "code",
      "execution_count": 2,
      "metadata": {
        "id": "SUCQA22At3x1"
      },
      "outputs": [],
      "source": [
        "import numpy as np\n",
        "import matplotlib.pyplot as plt\n",
        "from scipy.stats import expon"
      ]
    },
    {
      "cell_type": "code",
      "source": [
        "from scipy.stats.distributions import weibull_min"
      ],
      "metadata": {
        "id": "GsVmDn6xyVXh"
      },
      "execution_count": 4,
      "outputs": []
    },
    {
      "cell_type": "code",
      "source": [
        "#Generating exponentially distributed data with lambda=20 and sample size=40\n",
        "#In python scipy package default value of lambda=scale=1, so to transform, scale = 1/lambda\n",
        "x=expon.rvs(scale=1/5,size=10)"
      ],
      "metadata": {
        "id": "dwsGYdijKrDD"
      },
      "execution_count": 3,
      "outputs": []
    },
    {
      "cell_type": "markdown",
      "source": [
        "4.7.8"
      ],
      "metadata": {
        "id": "ICtIrEdku-j7"
      }
    },
    {
      "cell_type": "code",
      "source": [
        "#Mean, Variance, Deviation for lambda=5\n",
        "m, v, s = expon.mean(scale=1/5), expon.var(scale=1/5), expon.std(scale=1/5)\n",
        "print('mean = ', m, 'Variance = ', v, 'Standard Deviation =', s)"
      ],
      "metadata": {
        "colab": {
          "base_uri": "https://localhost:8080/"
        },
        "id": "lie7NuwMNRKP",
        "outputId": "bb36e7c8-7139-4e79-aacf-9351b83f868d"
      },
      "execution_count": 6,
      "outputs": [
        {
          "output_type": "stream",
          "name": "stdout",
          "text": [
            "mean =  0.2 Variance =  0.04000000000000001 Standard Deviation = 0.2\n"
          ]
        }
      ]
    },
    {
      "cell_type": "markdown",
      "source": [
        "a."
      ],
      "metadata": {
        "id": "hs9ftOK4vCHI"
      }
    },
    {
      "cell_type": "code",
      "source": [
        "#Probability of X<=1/10\n",
        "#Expon.cdf(x,scale=1/lambda)\n",
        "expon.cdf(x=1/10,scale=5)"
      ],
      "metadata": {
        "colab": {
          "base_uri": "https://localhost:8080/"
        },
        "id": "htvqNOGjo1a2",
        "outputId": "a4b69f9b-b439-42d1-850b-8746ee651f17"
      },
      "execution_count": 122,
      "outputs": [
        {
          "output_type": "execute_result",
          "data": {
            "text/plain": [
              "0.0198013266932447"
            ]
          },
          "metadata": {},
          "execution_count": 122
        }
      ]
    },
    {
      "cell_type": "markdown",
      "source": [
        "b."
      ],
      "metadata": {
        "id": "KI2TYVDiaXW5"
      }
    },
    {
      "cell_type": "code",
      "source": [
        "#Probability of X=>2/10\n",
        "#Expon.cdf(x,scale=1/lambda)\n",
        "expon.cdf(x=2/10,scale=5)"
      ],
      "metadata": {
        "colab": {
          "base_uri": "https://localhost:8080/"
        },
        "id": "rsGZrcTYo4Ls",
        "outputId": "e867f132-5da3-4f87-e084-b3b58f82618d"
      },
      "execution_count": 21,
      "outputs": [
        {
          "output_type": "execute_result",
          "data": {
            "text/plain": [
              "0.03921056084767678"
            ]
          },
          "metadata": {},
          "execution_count": 21
        }
      ]
    },
    {
      "cell_type": "markdown",
      "source": [
        "c."
      ],
      "metadata": {
        "id": "6fntdacJaozC"
      }
    },
    {
      "cell_type": "code",
      "source": [
        "expon.std(scale=5)"
      ],
      "metadata": {
        "colab": {
          "base_uri": "https://localhost:8080/"
        },
        "id": "cL_nqXsFaoa_",
        "outputId": "212a634c-15cf-4e45-922d-2ffcd702a147"
      },
      "execution_count": 12,
      "outputs": [
        {
          "output_type": "execute_result",
          "data": {
            "text/plain": [
              "5.0"
            ]
          },
          "metadata": {},
          "execution_count": 12
        }
      ]
    },
    {
      "cell_type": "markdown",
      "source": [
        "d."
      ],
      "metadata": {
        "id": "q2EXcUZza24e"
      }
    },
    {
      "cell_type": "code",
      "source": [
        "#Probability of X=>12\n",
        "#Expon.cdf(x,scale=1/lambda)\n",
        "expon.cdf(x=1/3,scale=1/5)"
      ],
      "metadata": {
        "colab": {
          "base_uri": "https://localhost:8080/"
        },
        "id": "XhA9573Ca31g",
        "outputId": "8623b1ec-b92f-4f98-a7aa-26099b336261"
      },
      "execution_count": 23,
      "outputs": [
        {
          "output_type": "execute_result",
          "data": {
            "text/plain": [
              "0.8111243971624381"
            ]
          },
          "metadata": {},
          "execution_count": 23
        }
      ]
    },
    {
      "cell_type": "markdown",
      "source": [
        "e."
      ],
      "metadata": {
        "id": "9rx1VN2ta5fw"
      }
    },
    {
      "cell_type": "code",
      "source": [
        "#Probability of X<=1/10\n",
        "#Expon.cdf(x,scale=1/lambda)\n",
        "expon.cdf(x=1/10,scale=5)"
      ],
      "metadata": {
        "colab": {
          "base_uri": "https://localhost:8080/"
        },
        "id": "lnKcx1eFa6Mc",
        "outputId": "96545e76-4e1c-40d0-c41f-27c8a3d462a0"
      },
      "execution_count": 26,
      "outputs": [
        {
          "output_type": "execute_result",
          "data": {
            "text/plain": [
              "0.0198013266932447"
            ]
          },
          "metadata": {},
          "execution_count": 26
        }
      ]
    },
    {
      "cell_type": "markdown",
      "source": [
        "f."
      ],
      "metadata": {
        "id": "QSf5Ebl5a64s"
      }
    },
    {
      "cell_type": "code",
      "source": [
        "#Probability of X<=1/10\n",
        "#Expon.cdf(x,scale=1/lambda)\n",
        "expon.cdf(x=1/10,scale=5)"
      ],
      "metadata": {
        "colab": {
          "base_uri": "https://localhost:8080/"
        },
        "id": "B8HbOMRQa7sA",
        "outputId": "70c6fb4e-060e-4459-82bd-f3410e845a91"
      },
      "execution_count": 133,
      "outputs": [
        {
          "output_type": "execute_result",
          "data": {
            "text/plain": [
              "0.0198013266932447"
            ]
          },
          "metadata": {},
          "execution_count": 133
        }
      ]
    },
    {
      "cell_type": "markdown",
      "source": [
        "4.7.10"
      ],
      "metadata": {
        "id": "ZyMNKme6vx5j"
      }
    },
    {
      "cell_type": "markdown",
      "source": [
        "a."
      ],
      "metadata": {
        "id": "IsIN1VCrv1Af"
      }
    },
    {
      "cell_type": "code",
      "source": [
        "#Probability of X=>3/1\n",
        "#Expon.cdf(x,scale=1/lambda)\n",
        "1 - expon.cdf(x=3/1,scale=1/1)"
      ],
      "metadata": {
        "colab": {
          "base_uri": "https://localhost:8080/"
        },
        "id": "JnH9MDzqvd33",
        "outputId": "67a1e3c1-7cec-4e79-f1c1-e2e1981169c7"
      },
      "execution_count": 134,
      "outputs": [
        {
          "output_type": "execute_result",
          "data": {
            "text/plain": [
              "0.04978706836786395"
            ]
          },
          "metadata": {},
          "execution_count": 134
        }
      ]
    },
    {
      "cell_type": "markdown",
      "source": [
        "b."
      ],
      "metadata": {
        "id": "HJmM3uyAbAGs"
      }
    },
    {
      "cell_type": "code",
      "source": [
        "#Probability of X<=3/30\n",
        "#Expon.cdf(x,scale=1/lambda)\n",
        "expon.cdf(x=3/1,scale=1/1)"
      ],
      "metadata": {
        "colab": {
          "base_uri": "https://localhost:8080/"
        },
        "id": "uOeoSS-PbA5x",
        "outputId": "b52aeb9a-06dc-491a-b074-d5aea7c36258"
      },
      "execution_count": 20,
      "outputs": [
        {
          "output_type": "execute_result",
          "data": {
            "text/plain": [
              "0.950212931632136"
            ]
          },
          "metadata": {},
          "execution_count": 20
        }
      ]
    },
    {
      "cell_type": "markdown",
      "source": [
        "c."
      ],
      "metadata": {
        "id": "E6ZQuPOdbBVH"
      }
    },
    {
      "cell_type": "code",
      "source": [
        "#Probability of X=>3/30\n",
        "#Expon.cdf(x,scale=1/lambda)\n",
        "expon.cdf(x=1/.1,scale=1/1)"
      ],
      "metadata": {
        "id": "5vUg5NR-bB_c"
      },
      "execution_count": null,
      "outputs": []
    },
    {
      "cell_type": "markdown",
      "source": [
        "d."
      ],
      "metadata": {
        "id": "uUqGK1ggbCT5"
      }
    },
    {
      "cell_type": "code",
      "source": [
        "#Probability of X=>3/30\n",
        "#Expon.cdf(x,scale=1/lambda)\n",
        "expon.cdf(x=1/1.5,scale=1/1)"
      ],
      "metadata": {
        "colab": {
          "base_uri": "https://localhost:8080/"
        },
        "id": "DcDr2QtIbC7e",
        "outputId": "34f846bd-e66d-48a8-ad6e-d470b4cdd31a"
      },
      "execution_count": 24,
      "outputs": [
        {
          "output_type": "execute_result",
          "data": {
            "text/plain": [
              "0.486582880967408"
            ]
          },
          "metadata": {},
          "execution_count": 24
        }
      ]
    },
    {
      "cell_type": "markdown",
      "source": [
        "4.9.7"
      ],
      "metadata": {
        "id": "9ecvLPT1yYp9"
      }
    },
    {
      "cell_type": "markdown",
      "source": [
        "a."
      ],
      "metadata": {
        "id": "RI7HH6F3ysHW"
      }
    },
    {
      "cell_type": "code",
      "source": [
        "#Finding the probalibty of bearing lifetime more that 5000 hours, shape=2, scale=4000\n",
        "#weibull_min=(x,c=shape=beta,scale=delta=1) scale default value is 1 for python, so divide 'x' by the given scale to transform the values to python form\n",
        "P5000=1-weibull_min.cdf(1.25,c=2,scale=1)\n",
        "P5000"
      ],
      "metadata": {
        "colab": {
          "base_uri": "https://localhost:8080/"
        },
        "id": "jl2k1VPbyYdC",
        "outputId": "b9e4d87a-6a70-4cc1-c4fd-f80a33f65276"
      },
      "execution_count": 62,
      "outputs": [
        {
          "output_type": "execute_result",
          "data": {
            "text/plain": [
              "0.20961138715109784"
            ]
          },
          "metadata": {},
          "execution_count": 62
        }
      ]
    },
    {
      "cell_type": "markdown",
      "source": [
        "b."
      ],
      "metadata": {
        "id": "M4HI0S3kbWf9"
      }
    },
    {
      "cell_type": "code",
      "source": [
        "#Finding the probalibty of bearing lifetime more that 3000 hours, shape=2, scale=3000\n",
        "P3000=1-weibull_min.cdf(0.75,c=2)\n",
        "P3000"
      ],
      "metadata": {
        "colab": {
          "base_uri": "https://localhost:8080/"
        },
        "id": "gY3dmSjO2lh3",
        "outputId": "283fc2cb-c1bb-4863-9c38-6d46de9933d9"
      },
      "execution_count": 66,
      "outputs": [
        {
          "output_type": "execute_result",
          "data": {
            "text/plain": [
              "0.569782824730923"
            ]
          },
          "metadata": {},
          "execution_count": 66
        }
      ]
    },
    {
      "cell_type": "code",
      "source": [
        "#Finding the probalibty of bearing lifetime more that 3000 hours, shape=2, scale=6000\n",
        "P8000=weibull_min.cdf(2,c=2)\n",
        "P8000"
      ],
      "metadata": {
        "colab": {
          "base_uri": "https://localhost:8080/"
        },
        "id": "0WrjZ4VW2wDh",
        "outputId": "fd741830-1396-4bc5-aa6a-c892fcb0e973"
      },
      "execution_count": 72,
      "outputs": [
        {
          "output_type": "execute_result",
          "data": {
            "text/plain": [
              "0.9816843611112658"
            ]
          },
          "metadata": {},
          "execution_count": 72
        }
      ]
    },
    {
      "cell_type": "code",
      "source": [
        "#Finding Relative Weibull probability\n",
        "p=P8000/P3000\n",
        "p"
      ],
      "metadata": {
        "colab": {
          "base_uri": "https://localhost:8080/"
        },
        "id": "XEW9TsnNzNAh",
        "outputId": "4a0fcaca-c2b2-4d4c-a44d-0e0a3ce2b1b4"
      },
      "execution_count": 73,
      "outputs": [
        {
          "output_type": "execute_result",
          "data": {
            "text/plain": [
              "1.7229097096334225"
            ]
          },
          "metadata": {},
          "execution_count": 73
        }
      ]
    },
    {
      "cell_type": "markdown",
      "source": [
        "c."
      ],
      "metadata": {
        "id": "Y0ymuvZubY1G"
      }
    },
    {
      "cell_type": "markdown",
      "source": [
        "Weibull distribution does have memory and exponential does not. Although weibull has memory is is still hard to tell whether the life time after 3000 hours will be another 3000 hours or will it change due to the age and use of the machine."
      ],
      "metadata": {
        "id": "Yi2yT62Jbbd5"
      }
    },
    {
      "cell_type": "markdown",
      "source": [
        "4.9.12"
      ],
      "metadata": {
        "id": "q5K0dztubcxq"
      }
    },
    {
      "cell_type": "markdown",
      "source": [
        "a."
      ],
      "metadata": {
        "id": "LM13MxfGbgGf"
      }
    },
    {
      "cell_type": "code",
      "source": [
        "P2B=1-weibull_min.cdf(1.035,c=0.8472,scale=1)\n",
        "P2B"
      ],
      "metadata": {
        "colab": {
          "base_uri": "https://localhost:8080/"
        },
        "id": "mFKPaEjkbfvA",
        "outputId": "d1fb67eb-941a-4575-ad9c-c1ce30d9ce9c"
      },
      "execution_count": 75,
      "outputs": [
        {
          "output_type": "execute_result",
          "data": {
            "text/plain": [
              "0.3571591646200387"
            ]
          },
          "metadata": {},
          "execution_count": 75
        }
      ]
    },
    {
      "cell_type": "markdown",
      "source": [
        "b."
      ],
      "metadata": {
        "id": "GkzQgxsGbiGe"
      }
    },
    {
      "cell_type": "code",
      "source": [
        "P2=1-weibull_min.cdf(1.035,c=0.8472)\n",
        "P2"
      ],
      "metadata": {
        "colab": {
          "base_uri": "https://localhost:8080/"
        },
        "id": "Iq7cpR42bkUO",
        "outputId": "301ee0ad-1d04-4e3c-b0e8-72de4ca229cd"
      },
      "execution_count": 77,
      "outputs": [
        {
          "output_type": "execute_result",
          "data": {
            "text/plain": [
              "0.3571591646200387"
            ]
          },
          "metadata": {},
          "execution_count": 77
        }
      ]
    },
    {
      "cell_type": "code",
      "source": [
        "P4=1-weibull_min.cdf(2.071,c=0.8472)\n",
        "P4"
      ],
      "metadata": {
        "colab": {
          "base_uri": "https://localhost:8080/"
        },
        "id": "zbd62bV6htNv",
        "outputId": "4420a31c-e871-41a6-8162-516d7ea91ba8"
      },
      "execution_count": 76,
      "outputs": [
        {
          "output_type": "execute_result",
          "data": {
            "text/plain": [
              "0.1567712715901074"
            ]
          },
          "metadata": {},
          "execution_count": 76
        }
      ]
    },
    {
      "cell_type": "code",
      "source": [
        "p=P2/P4\n",
        "p"
      ],
      "metadata": {
        "colab": {
          "base_uri": "https://localhost:8080/"
        },
        "id": "N-JDKZ9Hht5P",
        "outputId": "cd67671a-5af4-45bd-a098-756d8b3aaba1"
      },
      "execution_count": 78,
      "outputs": [
        {
          "output_type": "execute_result",
          "data": {
            "text/plain": [
              "2.2782182028469062"
            ]
          },
          "metadata": {},
          "execution_count": 78
        }
      ]
    },
    {
      "cell_type": "markdown",
      "source": [
        "c."
      ],
      "metadata": {
        "id": "8edxpaTPbitE"
      }
    },
    {
      "cell_type": "code",
      "source": [
        "P=1-weibull_min.cdf(0.05,c=0.8472)\n",
        "P"
      ],
      "metadata": {
        "colab": {
          "base_uri": "https://localhost:8080/"
        },
        "id": "lb1TNXmFbk0G",
        "outputId": "f9512a9b-82fa-43a9-b841-e5344bc00903"
      },
      "execution_count": 27,
      "outputs": [
        {
          "output_type": "execute_result",
          "data": {
            "text/plain": [
              "0.9240163389716654"
            ]
          },
          "metadata": {},
          "execution_count": 27
        }
      ]
    },
    {
      "cell_type": "markdown",
      "source": [
        "d."
      ],
      "metadata": {
        "id": "JIVQdwSTbjfM"
      }
    },
    {
      "cell_type": "code",
      "source": [
        "#Finding mean, Variance and Standard Deviation\n",
        "#weibull_min.mean(c=shape parameter, scale= scale parameter)\n",
        "m= weibull_min.mean(c=0.8472,scale=1.9317)\n",
        "m"
      ],
      "metadata": {
        "colab": {
          "base_uri": "https://localhost:8080/"
        },
        "id": "pt7Yd8LMblP9",
        "outputId": "f0696084-5ea1-4f37-adc7-09003fd66129"
      },
      "execution_count": 80,
      "outputs": [
        {
          "output_type": "execute_result",
          "data": {
            "text/plain": [
              "1.3897541255283132"
            ]
          },
          "metadata": {},
          "execution_count": 80
        }
      ]
    },
    {
      "cell_type": "code",
      "source": [
        "s=weibull_min.std(c=0.8472,scale=1.9317)\n",
        "s"
      ],
      "metadata": {
        "colab": {
          "base_uri": "https://localhost:8080/"
        },
        "id": "xUEJ5Yd1jTEw",
        "outputId": "656f65d2-35a0-4c7d-fe34-fb43ae46292e"
      },
      "execution_count": 81,
      "outputs": [
        {
          "output_type": "execute_result",
          "data": {
            "text/plain": [
              "2.496867305266449"
            ]
          },
          "metadata": {},
          "execution_count": 81
        }
      ]
    }
  ]
}