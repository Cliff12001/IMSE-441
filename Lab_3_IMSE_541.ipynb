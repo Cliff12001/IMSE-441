{
  "nbformat": 4,
  "nbformat_minor": 0,
  "metadata": {
    "colab": {
      "provenance": [],
      "mount_file_id": "1Awus8-R950Hi8cnZcBDs9wq2dc0IzspQ",
      "authorship_tag": "ABX9TyPCI5pPaVmktZ6mM4Hcnsgu",
      "include_colab_link": true
    },
    "kernelspec": {
      "name": "python3",
      "display_name": "Python 3"
    },
    "language_info": {
      "name": "python"
    }
  },
  "cells": [
    {
      "cell_type": "markdown",
      "metadata": {
        "id": "view-in-github",
        "colab_type": "text"
      },
      "source": [
        "<a href=\"https://colab.research.google.com/github/Cliff12001/IMSE-441/blob/main/Lab_3_IMSE_541.ipynb\" target=\"_parent\"><img src=\"https://colab.research.google.com/assets/colab-badge.svg\" alt=\"Open In Colab\"/></a>"
      ]
    },
    {
      "cell_type": "code",
      "source": [
        "import math\n",
        "import statistics\n",
        "import numpy as np\n",
        "import scipy.stats\n",
        "from scipy import stats\n",
        "from scipy.stats import f_oneway\n",
        "import pandas as pd\n",
        "import matplotlib.pyplot as plt\n",
        "import statsmodels.api as sm\n",
        "from statsmodels.formula.api import ols\n",
        "import statsmodels.stats.multicomp as mc\n",
        "import matplotlib.pyplot as plt\n",
        "!pip install pingouin\n",
        "import pingouin as pg\n",
        "import statsmodels.formula.api as smf\n",
        "from sklearn.metrics import mean_squared_error"
      ],
      "metadata": {
        "id": "NTgSwWM0mwbD"
      },
      "execution_count": null,
      "outputs": []
    },
    {
      "cell_type": "markdown",
      "source": [
        "Q1) 4.35"
      ],
      "metadata": {
        "id": "b-CVLlRfolSb"
      }
    },
    {
      "cell_type": "code",
      "source": [
        "data1 = {\n",
        "    'Flow_125': [2.7, 2.6, 4.6, 3.2, 3.0, 3.8],\n",
        "    'Flow_160': [4.6, 4.9, 5.0, 4.2, 3.6, 4.2],\n",
        "    'Flow_200': [4.6, 2.9, 3.4, 3.5, 4.1, 5.1]\n",
        "}\n",
        "\n",
        "data1 = pd.DataFrame(data1)\n"
      ],
      "metadata": {
        "id": "aImhaffGxTuY"
      },
      "execution_count": 129,
      "outputs": []
    },
    {
      "cell_type": "code",
      "source": [
        "df125 = pd.DataFrame([2.7,2.6,4.6,3.2,3.0,3.8])"
      ],
      "metadata": {
        "id": "E2g_zc4HfNnO"
      },
      "execution_count": 50,
      "outputs": []
    },
    {
      "cell_type": "code",
      "source": [
        "df160=pd.DataFrame([4.6,4.9,5.0,4.2,3.6,4.2])"
      ],
      "metadata": {
        "id": "kZM1MxcGfNf3"
      },
      "execution_count": 51,
      "outputs": []
    },
    {
      "cell_type": "code",
      "source": [
        "df200=pd.DataFrame([4.6,2.9,3.4,3.5,4.1,5.1])"
      ],
      "metadata": {
        "id": "nxvKZ0_efNVf"
      },
      "execution_count": 52,
      "outputs": []
    },
    {
      "cell_type": "markdown",
      "source": [
        "a.)"
      ],
      "metadata": {
        "id": "bY1C_dr5sRUH"
      }
    },
    {
      "cell_type": "code",
      "source": [
        "p=f_oneway(df125,df160,df200)\n",
        "p"
      ],
      "metadata": {
        "colab": {
          "base_uri": "https://localhost:8080/"
        },
        "id": "upskT1iQP6HV",
        "outputId": "3aa975b5-0659-4388-85c0-8e519ad97cbe"
      },
      "execution_count": 53,
      "outputs": [
        {
          "output_type": "execute_result",
          "data": {
            "text/plain": [
              "F_onewayResult(statistic=array([3.58562691]), pvalue=array([0.05336513]))"
            ]
          },
          "metadata": {},
          "execution_count": 53
        }
      ]
    },
    {
      "cell_type": "markdown",
      "source": [
        "C2F6 flow (SCCM) does not significantly affect etch uniformity, as well as the p-value being greater than 0.05 therefore we fail to reject the null hypothesis"
      ],
      "metadata": {
        "id": "MyaPN_5qQLGO"
      }
    },
    {
      "cell_type": "markdown",
      "source": [
        "b.)"
      ],
      "metadata": {
        "id": "L_I132bgsNuq"
      }
    },
    {
      "cell_type": "code",
      "source": [
        "plt.figure(figsize=(5, 3))\n",
        "data1.boxplot()\n",
        "plt.ylabel('Observations')\n",
        "plt.xlabel('C2F6 Flow (SCCM)')\n",
        "plt.show()\n"
      ],
      "metadata": {
        "colab": {
          "base_uri": "https://localhost:8080/",
          "height": 311
        },
        "id": "LxE4ThDVsgT_",
        "outputId": "f95d4b6b-8f7a-4bf1-8f52-fbfc5aaf4038"
      },
      "execution_count": 130,
      "outputs": [
        {
          "output_type": "display_data",
          "data": {
            "text/plain": [
              "<Figure size 500x300 with 1 Axes>"
            ],
            "image/png": "[encoded data removed]"
          },
          "metadata": {}
        }
      ]
    },
    {
      "cell_type": "markdown",
      "source": [
        "Flow at 125 is the smallest uniformity"
      ],
      "metadata": {
        "id": "jTIVsXKEfrEY"
      }
    },
    {
      "cell_type": "markdown",
      "source": [
        "c.)"
      ],
      "metadata": {
        "id": "Cuijk7KTsO14"
      }
    },
    {
      "cell_type": "code",
      "source": [
        "model = smf.ols(formula='df200 ~ df125 + df160', data=data1).fit()\n",
        "aov_table = sm.stats.anova_lm(model, typ=2)\n",
        "print(aov_table)"
      ],
      "metadata": {
        "colab": {
          "base_uri": "https://localhost:8080/"
        },
        "id": "_f_KdMubjrVN",
        "outputId": "1f0280e5-ffff-4e5d-b90a-499d608afd29"
      },
      "execution_count": 131,
      "outputs": [
        {
          "output_type": "stream",
          "name": "stdout",
          "text": [
            "            sum_sq   df         F    PR(>F)\n",
            "df125     0.108172  1.0  0.126838  0.745307\n",
            "df160     0.800043  1.0  0.938099  0.404210\n",
            "Residual  2.558503  3.0       NaN       NaN\n"
          ]
        }
      ]
    },
    {
      "cell_type": "code",
      "source": [
        "def anova_table(aov):\n",
        "    aov['mean_sq'] = aov[:]['sum_sq']/aov[:]['df']\n",
        "\n",
        "    cols = ['sum_sq', 'df', 'mean_sq', 'F', 'PR(>F)']\n",
        "    aov = aov[cols]\n",
        "    return aov\n",
        "\n",
        "anova_table(aov_table)"
      ],
      "metadata": {
        "colab": {
          "base_uri": "https://localhost:8080/",
          "height": 143
        },
        "id": "3NJOBFtukU7P",
        "outputId": "4b9da847-ef42-439b-c952-dd384226b4b3"
      },
      "execution_count": 109,
      "outputs": [
        {
          "output_type": "execute_result",
          "data": {
            "text/plain": [
              "            sum_sq   df   mean_sq         F    PR(>F)\n",
              "df125     0.108172  1.0  0.108172  0.126838  0.745307\n",
              "df160     0.800043  1.0  0.800043  0.938099  0.404210\n",
              "Residual  2.558503  3.0  0.852834       NaN       NaN"
            ],
            "text/html": [
              "\n",
              "  <div id=\"df-27fecd97-ce72-4e3b-953f-a60c447fb49b\" class=\"colab-df-container\">\n",
              "    <div>\n",
              "<style scoped>\n",
              "    .dataframe tbody tr th:only-of-type {\n",
              "        vertical-align: middle;\n",
              "    }\n",
              "\n",
              "    .dataframe tbody tr th {\n",
              "        vertical-align: top;\n",
              "    }\n",
              "\n",
              "    .dataframe thead th {\n",
              "        text-align: right;\n",
              "    }\n",
              "</style>\n",
              "<table border=\"1\" class=\"dataframe\">\n",
              "  <thead>\n",
              "    <tr style=\"text-align: right;\">\n",
              "      <th></th>\n",
              "      <th>sum_sq</th>\n",
              "      <th>df</th>\n",
              "      <th>mean_sq</th>\n",
              "      <th>F</th>\n",
              "      <th>PR(&gt;F)</th>\n",
              "    </tr>\n",
              "  </thead>\n",
              "  <tbody>\n",
              "    <tr>\n",
              "      <th>df125</th>\n",
              "      <td>0.108172</td>\n",
              "      <td>1.0</td>\n",
              "      <td>0.108172</td>\n",
              "      <td>0.126838</td>\n",
              "      <td>0.745307</td>\n",
              "    </tr>\n",
              "    <tr>\n",
              "      <th>df160</th>\n",
              "      <td>0.800043</td>\n",
              "      <td>1.0</td>\n",
              "      <td>0.800043</td>\n",
              "      <td>0.938099</td>\n",
              "      <td>0.404210</td>\n",
              "    </tr>\n",
              "    <tr>\n",
              "      <th>Residual</th>\n",
              "      <td>2.558503</td>\n",
              "      <td>3.0</td>\n",
              "      <td>0.852834</td>\n",
              "      <td>NaN</td>\n",
              "      <td>NaN</td>\n",
              "    </tr>\n",
              "  </tbody>\n",
              "</table>\n",
              "</div>\n",
              "    <div class=\"colab-df-buttons\">\n",
              "\n",
              "  <div class=\"colab-df-container\">\n",
              "    <button class=\"colab-df-convert\" onclick=\"convertToInteractive('df-27fecd97-ce72-4e3b-953f-a60c447fb49b')\"\n",
              "            title=\"Convert this dataframe to an interactive table.\"\n",
              "            style=\"display:none;\">\n",
              "\n",
              "  <svg xmlns=\"http://www.w3.org/2000/svg\" height=\"24px\" viewBox=\"0 -960 960 960\">\n",
              "    <path d=\"M120-120v-720h720v720H120Zm60-500h600v-160H180v160Zm220 220h160v-160H400v160Zm0 220h160v-160H400v160ZM180-400h160v-160H180v160Zm440 0h160v-160H620v160ZM180-180h160v-160H180v160Zm440 0h160v-160H620v160Z\"/>\n",
              "  </svg>\n",
              "    </button>\n",
              "\n",
              "  <style>\n",
              "    .colab-df-container {\n",
              "      display:flex;\n",
              "      gap: 12px;\n",
              "    }\n",
              "\n",
              "    .colab-df-convert {\n",
              "      background-color: #E8F0FE;\n",
              "      border: none;\n",
              "      border-radius: 50%;\n",
              "      cursor: pointer;\n",
              "      display: none;\n",
              "      fill: #1967D2;\n",
              "      height: 32px;\n",
              "      padding: 0 0 0 0;\n",
              "      width: 32px;\n",
              "    }\n",
              "\n",
              "    .colab-df-convert:hover {\n",
              "      background-color: #E2EBFA;\n",
              "      box-shadow: 0px 1px 2px rgba(60, 64, 67, 0.3), 0px 1px 3px 1px rgba(60, 64, 67, 0.15);\n",
              "      fill: #174EA6;\n",
              "    }\n",
              "\n",
              "    .colab-df-buttons div {\n",
              "      margin-bottom: 4px;\n",
              "    }\n",
              "\n",
              "    [theme=dark] .colab-df-convert {\n",
              "      background-color: #3B4455;\n",
              "      fill: #D2E3FC;\n",
              "    }\n",
              "\n",
              "    [theme=dark] .colab-df-convert:hover {\n",
              "      background-color: #434B5C;\n",
              "      box-shadow: 0px 1px 3px 1px rgba(0, 0, 0, 0.15);\n",
              "      filter: drop-shadow(0px 1px 2px rgba(0, 0, 0, 0.3));\n",
              "      fill: #FFFFFF;\n",
              "    }\n",
              "  </style>\n",
              "\n",
              "    <script>\n",
              "      const buttonEl =\n",
              "        document.querySelector('#df-27fecd97-ce72-4e3b-953f-a60c447fb49b button.colab-df-convert');\n",
              "      buttonEl.style.display =\n",
              "        google.colab.kernel.accessAllowed ? 'block' : 'none';\n",
              "\n",
              "      async function convertToInteractive(key) {\n",
              "        const element = document.querySelector('#df-27fecd97-ce72-4e3b-953f-a60c447fb49b');\n",
              "        const dataTable =\n",
              "          await google.colab.kernel.invokeFunction('convertToInteractive',\n",
              "                                                    [key], {});\n",
              "        if (!dataTable) return;\n",
              "\n",
              "        const docLinkHtml = 'Like what you see? Visit the ' +\n",
              "          '<a target=\"_blank\" href=https://colab.research.google.com/notebooks/data_table.ipynb>data table notebook</a>'\n",
              "          + ' to learn more about interactive tables.';\n",
              "        element.innerHTML = '';\n",
              "        dataTable['output_type'] = 'display_data';\n",
              "        await google.colab.output.renderOutput(dataTable, element);\n",
              "        const docLink = document.createElement('div');\n",
              "        docLink.innerHTML = docLinkHtml;\n",
              "        element.appendChild(docLink);\n",
              "      }\n",
              "    </script>\n",
              "  </div>\n",
              "\n",
              "\n",
              "<div id=\"df-acc3e710-e1a9-4240-9bea-ef26ee313e32\">\n",
              "  <button class=\"colab-df-quickchart\" onclick=\"quickchart('df-acc3e710-e1a9-4240-9bea-ef26ee313e32')\"\n",
              "            title=\"Suggest charts.\"\n",
              "            style=\"display:none;\">\n",
              "\n",
              "<svg xmlns=\"http://www.w3.org/2000/svg\" height=\"24px\"viewBox=\"0 0 24 24\"\n",
              "     width=\"24px\">\n",
              "    <g>\n",
              "        <path d=\"M19 3H5c-1.1 0-2 .9-2 2v14c0 1.1.9 2 2 2h14c1.1 0 2-.9 2-2V5c0-1.1-.9-2-2-2zM9 17H7v-7h2v7zm4 0h-2V7h2v10zm4 0h-2v-4h2v4z\"/>\n",
              "    </g>\n",
              "</svg>\n",
              "  </button>\n",
              "\n",
              "<style>\n",
              "  .colab-df-quickchart {\n",
              "      --bg-color: #E8F0FE;\n",
              "      --fill-color: #1967D2;\n",
              "      --hover-bg-color: #E2EBFA;\n",
              "      --hover-fill-color: #174EA6;\n",
              "      --disabled-fill-color: #AAA;\n",
              "      --disabled-bg-color: #DDD;\n",
              "  }\n",
              "\n",
              "  [theme=dark] .colab-df-quickchart {\n",
              "      --bg-color: #3B4455;\n",
              "      --fill-color: #D2E3FC;\n",
              "      --hover-bg-color: #434B5C;\n",
              "      --hover-fill-color: #FFFFFF;\n",
              "      --disabled-bg-color: #3B4455;\n",
              "      --disabled-fill-color: #666;\n",
              "  }\n",
              "\n",
              "  .colab-df-quickchart {\n",
              "    background-color: var(--bg-color);\n",
              "    border: none;\n",
              "    border-radius: 50%;\n",
              "    cursor: pointer;\n",
              "    display: none;\n",
              "    fill: var(--fill-color);\n",
              "    height: 32px;\n",
              "    padding: 0;\n",
              "    width: 32px;\n",
              "  }\n",
              "\n",
              "  .colab-df-quickchart:hover {\n",
              "    background-color: var(--hover-bg-color);\n",
              "    box-shadow: 0 1px 2px rgba(60, 64, 67, 0.3), 0 1px 3px 1px rgba(60, 64, 67, 0.15);\n",
              "    fill: var(--button-hover-fill-color);\n",
              "  }\n",
              "\n",
              "  .colab-df-quickchart-complete:disabled,\n",
              "  .colab-df-quickchart-complete:disabled:hover {\n",
              "    background-color: var(--disabled-bg-color);\n",
              "    fill: var(--disabled-fill-color);\n",
              "    box-shadow: none;\n",
              "  }\n",
              "\n",
              "  .colab-df-spinner {\n",
              "    border: 2px solid var(--fill-color);\n",
              "    border-color: transparent;\n",
              "    border-bottom-color: var(--fill-color);\n",
              "    animation:\n",
              "      spin 1s steps(1) infinite;\n",
              "  }\n",
              "\n",
              "  @keyframes spin {\n",
              "    0% {\n",
              "      border-color: transparent;\n",
              "      border-bottom-color: var(--fill-color);\n",
              "      border-left-color: var(--fill-color);\n",
              "    }\n",
              "    20% {\n",
              "      border-color: transparent;\n",
              "      border-left-color: var(--fill-color);\n",
              "      border-top-color: var(--fill-color);\n",
              "    }\n",
              "    30% {\n",
              "      border-color: transparent;\n",
              "      border-left-color: var(--fill-color);\n",
              "      border-top-color: var(--fill-color);\n",
              "      border-right-color: var(--fill-color);\n",
              "    }\n",
              "    40% {\n",
              "      border-color: transparent;\n",
              "      border-right-color: var(--fill-color);\n",
              "      border-top-color: var(--fill-color);\n",
              "    }\n",
              "    60% {\n",
              "      border-color: transparent;\n",
              "      border-right-color: var(--fill-color);\n",
              "    }\n",
              "    80% {\n",
              "      border-color: transparent;\n",
              "      border-right-color: var(--fill-color);\n",
              "      border-bottom-color: var(--fill-color);\n",
              "    }\n",
              "    90% {\n",
              "      border-color: transparent;\n",
              "      border-bottom-color: var(--fill-color);\n",
              "    }\n",
              "  }\n",
              "</style>\n",
              "\n",
              "  <script>\n",
              "    async function quickchart(key) {\n",
              "      const quickchartButtonEl =\n",
              "        document.querySelector('#' + key + ' button');\n",
              "      quickchartButtonEl.disabled = true;  // To prevent multiple clicks.\n",
              "      quickchartButtonEl.classList.add('colab-df-spinner');\n",
              "      try {\n",
              "        const charts = await google.colab.kernel.invokeFunction(\n",
              "            'suggestCharts', [key], {});\n",
              "      } catch (error) {\n",
              "        console.error('Error during call to suggestCharts:', error);\n",
              "      }\n",
              "      quickchartButtonEl.classList.remove('colab-df-spinner');\n",
              "      quickchartButtonEl.classList.add('colab-df-quickchart-complete');\n",
              "    }\n",
              "    (() => {\n",
              "      let quickchartButtonEl =\n",
              "        document.querySelector('#df-acc3e710-e1a9-4240-9bea-ef26ee313e32 button');\n",
              "      quickchartButtonEl.style.display =\n",
              "        google.colab.kernel.accessAllowed ? 'block' : 'none';\n",
              "    })();\n",
              "  </script>\n",
              "</div>\n",
              "    </div>\n",
              "  </div>\n"
            ]
          },
          "metadata": {},
          "execution_count": 109
        }
      ]
    },
    {
      "cell_type": "code",
      "source": [
        "predict=model.predict()\n",
        "predict"
      ],
      "metadata": {
        "colab": {
          "base_uri": "https://localhost:8080/"
        },
        "id": "_0m-Vda4kyEy",
        "outputId": "4453b13c-d25b-4928-d0fe-84cb57bba42c"
      },
      "execution_count": 110,
      "outputs": [
        {
          "output_type": "execute_result",
          "data": {
            "text/plain": [
              "array([3.66629311, 3.41034326, 3.72991936, 4.08057302, 4.51282169,\n",
              "       4.20004956])"
            ]
          },
          "metadata": {},
          "execution_count": 110
        }
      ]
    },
    {
      "cell_type": "code",
      "source": [
        "data1['residuals1'] = data1['Flow_125'] - data1['Flow_125'].mean()\n",
        "data1['residuals2'] = data1['Flow_160'] - data1['Flow_160'].mean()\n",
        "data1['residuals3'] = data1['Flow_200'] - data1['Flow_200'].mean()"
      ],
      "metadata": {
        "id": "hLU8OqP2SLa2"
      },
      "execution_count": 138,
      "outputs": []
    },
    {
      "cell_type": "code",
      "source": [
        "plt.scatter(data1['residuals1'], data1['Flow_125'])\n",
        "plt.scatter(data1['residuals2'], data1['Flow_160'])\n",
        "plt.scatter(data1['residuals3'], data1['Flow_200'])\n",
        "plt.xlabel(\"Residuals\")\n",
        "plt.ylabel(\"Predicted\")\n",
        "plt.show()"
      ],
      "metadata": {
        "colab": {
          "base_uri": "https://localhost:8080/",
          "height": 449
        },
        "id": "QNHHaqyiSo-8",
        "outputId": "fce30e7f-e290-4f92-d5f3-88495fbb8dab"
      },
      "execution_count": 140,
      "outputs": [
        {
          "output_type": "display_data",
          "data": {
            "text/plain": [
              "<Figure size 640x480 with 1 Axes>"
            ],
            "image/png": "[encoded data removed]"
          },
          "metadata": {}
        }
      ]
    },
    {
      "cell_type": "markdown",
      "source": [
        "d.)"
      ],
      "metadata": {
        "id": "vUtwOoQ6sOtj"
      }
    },
    {
      "cell_type": "code",
      "source": [
        "fig = plt.figure(figsize= (5, 5))\n",
        "ax = fig.add_subplot(111)\n",
        "\n",
        "normality_plot, stat = stats.probplot(model.resid, plot= plt, rvalue= True)\n",
        "ax.set_title(\"Probability plot of model residual's\", fontsize= 20)\n",
        "ax.set\n",
        "\n",
        "plt.show()"
      ],
      "metadata": {
        "colab": {
          "base_uri": "https://localhost:8080/",
          "height": 495
        },
        "id": "U-YagY3P9rmx",
        "outputId": "2cca7f7b-2af1-4c49-bf48-2520311028c8"
      },
      "execution_count": 113,
      "outputs": [
        {
          "output_type": "display_data",
          "data": {
            "text/plain": [
              "<Figure size 500x500 with 1 Axes>"
            ],
            "image/png": "[encoded data removed]"
          },
          "metadata": {}
        }
      ]
    },
    {
      "cell_type": "markdown",
      "source": [
        "4.36"
      ],
      "metadata": {
        "id": "LoGbdOWyMoMu"
      }
    },
    {
      "cell_type": "code",
      "source": [
        "print(data1)"
      ],
      "metadata": {
        "colab": {
          "base_uri": "https://localhost:8080/"
        },
        "id": "6BLGQm4d_5I3",
        "outputId": "83ebe0fb-efca-4b8a-bf18-440c8a414b16"
      },
      "execution_count": 132,
      "outputs": [
        {
          "output_type": "stream",
          "name": "stdout",
          "text": [
            "   Flow_125  Flow_160  Flow_200\n",
            "0       2.7       4.6       4.6\n",
            "1       2.6       4.9       2.9\n",
            "2       4.6       5.0       3.4\n",
            "3       3.2       4.2       3.5\n",
            "4       3.0       3.6       4.1\n",
            "5       3.8       4.2       5.1\n"
          ]
        }
      ]
    },
    {
      "cell_type": "code",
      "source": [
        "comp = mc.MultiComparison(data1['Flow_125'], data1['Flow_160'])\n",
        "post_hoc_res = comp.tukeyhsd()\n",
        "post_hoc_res.summary()"
      ],
      "metadata": {
        "colab": {
          "base_uri": "https://localhost:8080/",
          "height": 270
        },
        "id": "GCgCSQHI_ctD",
        "outputId": "1f8286d7-d94c-4562-8e0a-4987f39f71c7"
      },
      "execution_count": 135,
      "outputs": [
        {
          "output_type": "execute_result",
          "data": {
            "text/plain": [
              "<class 'statsmodels.iolib.table.SimpleTable'>"
            ],
            "text/html": [
              "<table class=\"simpletable\">\n",
              "<caption>Multiple Comparison of Means - Tukey HSD, FWER=0.05</caption>\n",
              "<tr>\n",
              "  <th>group1</th> <th>group2</th> <th>meandiff</th>  <th>p-adj</th>   <th>lower</th>   <th>upper</th>  <th>reject</th>\n",
              "</tr>\n",
              "<tr>\n",
              "    <td>3.6</td>    <td>4.2</td>     <td>0.5</td>   <td>0.8549</td> <td>-13.1246</td> <td>14.1246</td>  <td>False</td>\n",
              "</tr>\n",
              "<tr>\n",
              "    <td>3.6</td>    <td>4.6</td>    <td>-0.3</td>   <td>0.9742</td> <td>-16.0323</td> <td>15.4323</td>  <td>False</td>\n",
              "</tr>\n",
              "<tr>\n",
              "    <td>3.6</td>    <td>4.9</td>    <td>-0.4</td>    <td>0.94</td>  <td>-16.1323</td> <td>15.3323</td>  <td>False</td>\n",
              "</tr>\n",
              "<tr>\n",
              "    <td>3.6</td>    <td>5.0</td>     <td>1.6</td>   <td>0.4519</td> <td>-14.1323</td> <td>17.3323</td>  <td>False</td>\n",
              "</tr>\n",
              "<tr>\n",
              "    <td>4.2</td>    <td>4.6</td>    <td>-0.8</td>   <td>0.6793</td> <td>-14.4246</td> <td>12.8246</td>  <td>False</td>\n",
              "</tr>\n",
              "<tr>\n",
              "    <td>4.2</td>    <td>4.9</td>    <td>-0.9</td>   <td>0.6292</td> <td>-14.5246</td> <td>12.7246</td>  <td>False</td>\n",
              "</tr>\n",
              "<tr>\n",
              "    <td>4.2</td>    <td>5.0</td>     <td>1.1</td>   <td>0.5442</td> <td>-12.5246</td> <td>14.7246</td>  <td>False</td>\n",
              "</tr>\n",
              "<tr>\n",
              "    <td>4.6</td>    <td>4.9</td>    <td>-0.1</td>   <td>0.9995</td> <td>-15.8323</td> <td>15.6323</td>  <td>False</td>\n",
              "</tr>\n",
              "<tr>\n",
              "    <td>4.6</td>    <td>5.0</td>     <td>1.9</td>   <td>0.3897</td> <td>-13.8323</td> <td>17.6323</td>  <td>False</td>\n",
              "</tr>\n",
              "<tr>\n",
              "    <td>4.9</td>    <td>5.0</td>     <td>2.0</td>   <td>0.3723</td> <td>-13.7323</td> <td>17.7323</td>  <td>False</td>\n",
              "</tr>\n",
              "</table>"
            ],
            "text/latex": "\\begin{center}\n\\begin{tabular}{ccccccc}\n\\toprule\n\\textbf{group1} & \\textbf{group2} & \\textbf{meandiff} & \\textbf{p-adj} & \\textbf{lower} & \\textbf{upper} & \\textbf{reject}  \\\\\n\\midrule\n      3.6       &       4.2       &        0.5        &     0.8549     &    -13.1246    &    14.1246     &      False       \\\\\n      3.6       &       4.6       &        -0.3       &     0.9742     &    -16.0323    &    15.4323     &      False       \\\\\n      3.6       &       4.9       &        -0.4       &      0.94      &    -16.1323    &    15.3323     &      False       \\\\\n      3.6       &       5.0       &        1.6        &     0.4519     &    -14.1323    &    17.3323     &      False       \\\\\n      4.2       &       4.6       &        -0.8       &     0.6793     &    -14.4246    &    12.8246     &      False       \\\\\n      4.2       &       4.9       &        -0.9       &     0.6292     &    -14.5246    &    12.7246     &      False       \\\\\n      4.2       &       5.0       &        1.1        &     0.5442     &    -12.5246    &    14.7246     &      False       \\\\\n      4.6       &       4.9       &        -0.1       &     0.9995     &    -15.8323    &    15.6323     &      False       \\\\\n      4.6       &       5.0       &        1.9        &     0.3897     &    -13.8323    &    17.6323     &      False       \\\\\n      4.9       &       5.0       &        2.0        &     0.3723     &    -13.7323    &    17.7323     &      False       \\\\\n\\bottomrule\n\\end{tabular}\n%\\caption{Multiple Comparison of Means - Tukey HSD, FWER=0.05}\n\\end{center}"
          },
          "metadata": {},
          "execution_count": 135
        }
      ]
    },
    {
      "cell_type": "code",
      "source": [
        "post_hoc_res.plot_simultaneous(ylabel= \"Uniformity\", xlabel= \"Flow\")"
      ],
      "metadata": {
        "colab": {
          "base_uri": "https://localhost:8080/",
          "height": 1000
        },
        "id": "0PrGU9h7Ah8D",
        "outputId": "1910e7f6-3f01-4cf2-efed-7a33b20faff2"
      },
      "execution_count": 137,
      "outputs": [
        {
          "output_type": "execute_result",
          "data": {
            "text/plain": [
              "<Figure size 1000x600 with 1 Axes>"
            ],
            "image/png": "[encoded data removed]"
          },
          "metadata": {},
          "execution_count": 137
        },
        {
          "output_type": "display_data",
          "data": {
            "text/plain": [
              "<Figure size 1000x600 with 1 Axes>"
            ],
            "image/png": "[encoded data removed]"
          },
          "metadata": {}
        }
      ]
    },
    {
      "cell_type": "markdown",
      "source": [
        "Q3) 4.47"
      ],
      "metadata": {
        "id": "DRVup7_smPzk"
      }
    },
    {
      "cell_type": "code",
      "execution_count": 42,
      "metadata": {
        "colab": {
          "base_uri": "https://localhost:8080/",
          "height": 425
        },
        "id": "GEIeCO-_lVCq",
        "outputId": "38b4d4b3-df64-4366-a651-ce5ce00464a7"
      },
      "outputs": [
        {
          "output_type": "execute_result",
          "data": {
            "text/plain": [
              "    Brake Horsepower   rpm  Road Octane Number  Compression\n",
              "0                225  2000                  90          100\n",
              "1                212  1800                  94           95\n",
              "2                229  2400                  88          110\n",
              "3                222  1900                  91           96\n",
              "4                219  1600                  86          100\n",
              "5                278  2500                  96          110\n",
              "6                246  3000                  94           98\n",
              "7                237  3200                  90          100\n",
              "8                233  2800                  88          105\n",
              "9                224  3400                  86           97\n",
              "10               223  1800                  90          100\n",
              "11               230  2500                  89          104"
            ],
            "text/html": [
              "\n",
              "  <div id=\"df-79c56ee9-65c5-472d-a088-7058d4f51b2d\" class=\"colab-df-container\">\n",
              "    <div>\n",
              "<style scoped>\n",
              "    .dataframe tbody tr th:only-of-type {\n",
              "        vertical-align: middle;\n",
              "    }\n",
              "\n",
              "    .dataframe tbody tr th {\n",
              "        vertical-align: top;\n",
              "    }\n",
              "\n",
              "    .dataframe thead th {\n",
              "        text-align: right;\n",
              "    }\n",
              "</style>\n",
              "<table border=\"1\" class=\"dataframe\">\n",
              "  <thead>\n",
              "    <tr style=\"text-align: right;\">\n",
              "      <th></th>\n",
              "      <th>Brake Horsepower</th>\n",
              "      <th>rpm</th>\n",
              "      <th>Road Octane Number</th>\n",
              "      <th>Compression</th>\n",
              "    </tr>\n",
              "  </thead>\n",
              "  <tbody>\n",
              "    <tr>\n",
              "      <th>0</th>\n",
              "      <td>225</td>\n",
              "      <td>2000</td>\n",
              "      <td>90</td>\n",
              "      <td>100</td>\n",
              "    </tr>\n",
              "    <tr>\n",
              "      <th>1</th>\n",
              "      <td>212</td>\n",
              "      <td>1800</td>\n",
              "      <td>94</td>\n",
              "      <td>95</td>\n",
              "    </tr>\n",
              "    <tr>\n",
              "      <th>2</th>\n",
              "      <td>229</td>\n",
              "      <td>2400</td>\n",
              "      <td>88</td>\n",
              "      <td>110</td>\n",
              "    </tr>\n",
              "    <tr>\n",
              "      <th>3</th>\n",
              "      <td>222</td>\n",
              "      <td>1900</td>\n",
              "      <td>91</td>\n",
              "      <td>96</td>\n",
              "    </tr>\n",
              "    <tr>\n",
              "      <th>4</th>\n",
              "      <td>219</td>\n",
              "      <td>1600</td>\n",
              "      <td>86</td>\n",
              "      <td>100</td>\n",
              "    </tr>\n",
              "    <tr>\n",
              "      <th>5</th>\n",
              "      <td>278</td>\n",
              "      <td>2500</td>\n",
              "      <td>96</td>\n",
              "      <td>110</td>\n",
              "    </tr>\n",
              "    <tr>\n",
              "      <th>6</th>\n",
              "      <td>246</td>\n",
              "      <td>3000</td>\n",
              "      <td>94</td>\n",
              "      <td>98</td>\n",
              "    </tr>\n",
              "    <tr>\n",
              "      <th>7</th>\n",
              "      <td>237</td>\n",
              "      <td>3200</td>\n",
              "      <td>90</td>\n",
              "      <td>100</td>\n",
              "    </tr>\n",
              "    <tr>\n",
              "      <th>8</th>\n",
              "      <td>233</td>\n",
              "      <td>2800</td>\n",
              "      <td>88</td>\n",
              "      <td>105</td>\n",
              "    </tr>\n",
              "    <tr>\n",
              "      <th>9</th>\n",
              "      <td>224</td>\n",
              "      <td>3400</td>\n",
              "      <td>86</td>\n",
              "      <td>97</td>\n",
              "    </tr>\n",
              "    <tr>\n",
              "      <th>10</th>\n",
              "      <td>223</td>\n",
              "      <td>1800</td>\n",
              "      <td>90</td>\n",
              "      <td>100</td>\n",
              "    </tr>\n",
              "    <tr>\n",
              "      <th>11</th>\n",
              "      <td>230</td>\n",
              "      <td>2500</td>\n",
              "      <td>89</td>\n",
              "      <td>104</td>\n",
              "    </tr>\n",
              "  </tbody>\n",
              "</table>\n",
              "</div>\n",
              "    <div class=\"colab-df-buttons\">\n",
              "\n",
              "  <div class=\"colab-df-container\">\n",
              "    <button class=\"colab-df-convert\" onclick=\"convertToInteractive('df-79c56ee9-65c5-472d-a088-7058d4f51b2d')\"\n",
              "            title=\"Convert this dataframe to an interactive table.\"\n",
              "            style=\"display:none;\">\n",
              "\n",
              "  <svg xmlns=\"http://www.w3.org/2000/svg\" height=\"24px\" viewBox=\"0 -960 960 960\">\n",
              "    <path d=\"M120-120v-720h720v720H120Zm60-500h600v-160H180v160Zm220 220h160v-160H400v160Zm0 220h160v-160H400v160ZM180-400h160v-160H180v160Zm440 0h160v-160H620v160ZM180-180h160v-160H180v160Zm440 0h160v-160H620v160Z\"/>\n",
              "  </svg>\n",
              "    </button>\n",
              "\n",
              "  <style>\n",
              "    .colab-df-container {\n",
              "      display:flex;\n",
              "      gap: 12px;\n",
              "    }\n",
              "\n",
              "    .colab-df-convert {\n",
              "      background-color: #E8F0FE;\n",
              "      border: none;\n",
              "      border-radius: 50%;\n",
              "      cursor: pointer;\n",
              "      display: none;\n",
              "      fill: #1967D2;\n",
              "      height: 32px;\n",
              "      padding: 0 0 0 0;\n",
              "      width: 32px;\n",
              "    }\n",
              "\n",
              "    .colab-df-convert:hover {\n",
              "      background-color: #E2EBFA;\n",
              "      box-shadow: 0px 1px 2px rgba(60, 64, 67, 0.3), 0px 1px 3px 1px rgba(60, 64, 67, 0.15);\n",
              "      fill: #174EA6;\n",
              "    }\n",
              "\n",
              "    .colab-df-buttons div {\n",
              "      margin-bottom: 4px;\n",
              "    }\n",
              "\n",
              "    [theme=dark] .colab-df-convert {\n",
              "      background-color: #3B4455;\n",
              "      fill: #D2E3FC;\n",
              "    }\n",
              "\n",
              "    [theme=dark] .colab-df-convert:hover {\n",
              "      background-color: #434B5C;\n",
              "      box-shadow: 0px 1px 3px 1px rgba(0, 0, 0, 0.15);\n",
              "      filter: drop-shadow(0px 1px 2px rgba(0, 0, 0, 0.3));\n",
              "      fill: #FFFFFF;\n",
              "    }\n",
              "  </style>\n",
              "\n",
              "    <script>\n",
              "      const buttonEl =\n",
              "        document.querySelector('#df-79c56ee9-65c5-472d-a088-7058d4f51b2d button.colab-df-convert');\n",
              "      buttonEl.style.display =\n",
              "        google.colab.kernel.accessAllowed ? 'block' : 'none';\n",
              "\n",
              "      async function convertToInteractive(key) {\n",
              "        const element = document.querySelector('#df-79c56ee9-65c5-472d-a088-7058d4f51b2d');\n",
              "        const dataTable =\n",
              "          await google.colab.kernel.invokeFunction('convertToInteractive',\n",
              "                                                    [key], {});\n",
              "        if (!dataTable) return;\n",
              "\n",
              "        const docLinkHtml = 'Like what you see? Visit the ' +\n",
              "          '<a target=\"_blank\" href=https://colab.research.google.com/notebooks/data_table.ipynb>data table notebook</a>'\n",
              "          + ' to learn more about interactive tables.';\n",
              "        element.innerHTML = '';\n",
              "        dataTable['output_type'] = 'display_data';\n",
              "        await google.colab.output.renderOutput(dataTable, element);\n",
              "        const docLink = document.createElement('div');\n",
              "        docLink.innerHTML = docLinkHtml;\n",
              "        element.appendChild(docLink);\n",
              "      }\n",
              "    </script>\n",
              "  </div>\n",
              "\n",
              "\n",
              "<div id=\"df-12eecaac-f8bb-4916-b6f5-55da7dc6e3f0\">\n",
              "  <button class=\"colab-df-quickchart\" onclick=\"quickchart('df-12eecaac-f8bb-4916-b6f5-55da7dc6e3f0')\"\n",
              "            title=\"Suggest charts.\"\n",
              "            style=\"display:none;\">\n",
              "\n",
              "<svg xmlns=\"http://www.w3.org/2000/svg\" height=\"24px\"viewBox=\"0 0 24 24\"\n",
              "     width=\"24px\">\n",
              "    <g>\n",
              "        <path d=\"M19 3H5c-1.1 0-2 .9-2 2v14c0 1.1.9 2 2 2h14c1.1 0 2-.9 2-2V5c0-1.1-.9-2-2-2zM9 17H7v-7h2v7zm4 0h-2V7h2v10zm4 0h-2v-4h2v4z\"/>\n",
              "    </g>\n",
              "</svg>\n",
              "  </button>\n",
              "\n",
              "<style>\n",
              "  .colab-df-quickchart {\n",
              "      --bg-color: #E8F0FE;\n",
              "      --fill-color: #1967D2;\n",
              "      --hover-bg-color: #E2EBFA;\n",
              "      --hover-fill-color: #174EA6;\n",
              "      --disabled-fill-color: #AAA;\n",
              "      --disabled-bg-color: #DDD;\n",
              "  }\n",
              "\n",
              "  [theme=dark] .colab-df-quickchart {\n",
              "      --bg-color: #3B4455;\n",
              "      --fill-color: #D2E3FC;\n",
              "      --hover-bg-color: #434B5C;\n",
              "      --hover-fill-color: #FFFFFF;\n",
              "      --disabled-bg-color: #3B4455;\n",
              "      --disabled-fill-color: #666;\n",
              "  }\n",
              "\n",
              "  .colab-df-quickchart {\n",
              "    background-color: var(--bg-color);\n",
              "    border: none;\n",
              "    border-radius: 50%;\n",
              "    cursor: pointer;\n",
              "    display: none;\n",
              "    fill: var(--fill-color);\n",
              "    height: 32px;\n",
              "    padding: 0;\n",
              "    width: 32px;\n",
              "  }\n",
              "\n",
              "  .colab-df-quickchart:hover {\n",
              "    background-color: var(--hover-bg-color);\n",
              "    box-shadow: 0 1px 2px rgba(60, 64, 67, 0.3), 0 1px 3px 1px rgba(60, 64, 67, 0.15);\n",
              "    fill: var(--button-hover-fill-color);\n",
              "  }\n",
              "\n",
              "  .colab-df-quickchart-complete:disabled,\n",
              "  .colab-df-quickchart-complete:disabled:hover {\n",
              "    background-color: var(--disabled-bg-color);\n",
              "    fill: var(--disabled-fill-color);\n",
              "    box-shadow: none;\n",
              "  }\n",
              "\n",
              "  .colab-df-spinner {\n",
              "    border: 2px solid var(--fill-color);\n",
              "    border-color: transparent;\n",
              "    border-bottom-color: var(--fill-color);\n",
              "    animation:\n",
              "      spin 1s steps(1) infinite;\n",
              "  }\n",
              "\n",
              "  @keyframes spin {\n",
              "    0% {\n",
              "      border-color: transparent;\n",
              "      border-bottom-color: var(--fill-color);\n",
              "      border-left-color: var(--fill-color);\n",
              "    }\n",
              "    20% {\n",
              "      border-color: transparent;\n",
              "      border-left-color: var(--fill-color);\n",
              "      border-top-color: var(--fill-color);\n",
              "    }\n",
              "    30% {\n",
              "      border-color: transparent;\n",
              "      border-left-color: var(--fill-color);\n",
              "      border-top-color: var(--fill-color);\n",
              "      border-right-color: var(--fill-color);\n",
              "    }\n",
              "    40% {\n",
              "      border-color: transparent;\n",
              "      border-right-color: var(--fill-color);\n",
              "      border-top-color: var(--fill-color);\n",
              "    }\n",
              "    60% {\n",
              "      border-color: transparent;\n",
              "      border-right-color: var(--fill-color);\n",
              "    }\n",
              "    80% {\n",
              "      border-color: transparent;\n",
              "      border-right-color: var(--fill-color);\n",
              "      border-bottom-color: var(--fill-color);\n",
              "    }\n",
              "    90% {\n",
              "      border-color: transparent;\n",
              "      border-bottom-color: var(--fill-color);\n",
              "    }\n",
              "  }\n",
              "</style>\n",
              "\n",
              "  <script>\n",
              "    async function quickchart(key) {\n",
              "      const quickchartButtonEl =\n",
              "        document.querySelector('#' + key + ' button');\n",
              "      quickchartButtonEl.disabled = true;  // To prevent multiple clicks.\n",
              "      quickchartButtonEl.classList.add('colab-df-spinner');\n",
              "      try {\n",
              "        const charts = await google.colab.kernel.invokeFunction(\n",
              "            'suggestCharts', [key], {});\n",
              "      } catch (error) {\n",
              "        console.error('Error during call to suggestCharts:', error);\n",
              "      }\n",
              "      quickchartButtonEl.classList.remove('colab-df-spinner');\n",
              "      quickchartButtonEl.classList.add('colab-df-quickchart-complete');\n",
              "    }\n",
              "    (() => {\n",
              "      let quickchartButtonEl =\n",
              "        document.querySelector('#df-12eecaac-f8bb-4916-b6f5-55da7dc6e3f0 button');\n",
              "      quickchartButtonEl.style.display =\n",
              "        google.colab.kernel.accessAllowed ? 'block' : 'none';\n",
              "    })();\n",
              "  </script>\n",
              "</div>\n",
              "    </div>\n",
              "  </div>\n"
            ]
          },
          "metadata": {},
          "execution_count": 42
        }
      ],
      "source": [
        "Q3=pd.read_csv('/content/drive/MyDrive/4.47 data SQC.csv')\n",
        "Q3"
      ]
    },
    {
      "cell_type": "code",
      "source": [
        "Q3.describe()"
      ],
      "metadata": {
        "colab": {
          "base_uri": "https://localhost:8080/",
          "height": 300
        },
        "id": "i_FvFYrp61g1",
        "outputId": "1e2877f0-796a-4db5-f28f-6ecde242aad7"
      },
      "execution_count": 103,
      "outputs": [
        {
          "output_type": "execute_result",
          "data": {
            "text/plain": [
              "       Brake Horsepower          rpm  Road Octane Number  Compression\n",
              "count         12.000000    12.000000           12.000000    12.000000\n",
              "mean         231.500000  2408.333333           90.166667   101.250000\n",
              "std           17.085347   599.178731            3.157483     5.011351\n",
              "min          212.000000  1600.000000           86.000000    95.000000\n",
              "25%          222.750000  1875.000000           88.000000    97.750000\n",
              "50%          227.000000  2450.000000           90.000000   100.000000\n",
              "75%          234.000000  2850.000000           91.750000   104.250000\n",
              "max          278.000000  3400.000000           96.000000   110.000000"
            ],
            "text/html": [
              "\n",
              "  <div id=\"df-abeca4c4-ba0f-4a09-b8cd-25428c2e9fab\" class=\"colab-df-container\">\n",
              "    <div>\n",
              "<style scoped>\n",
              "    .dataframe tbody tr th:only-of-type {\n",
              "        vertical-align: middle;\n",
              "    }\n",
              "\n",
              "    .dataframe tbody tr th {\n",
              "        vertical-align: top;\n",
              "    }\n",
              "\n",
              "    .dataframe thead th {\n",
              "        text-align: right;\n",
              "    }\n",
              "</style>\n",
              "<table border=\"1\" class=\"dataframe\">\n",
              "  <thead>\n",
              "    <tr style=\"text-align: right;\">\n",
              "      <th></th>\n",
              "      <th>Brake Horsepower</th>\n",
              "      <th>rpm</th>\n",
              "      <th>Road Octane Number</th>\n",
              "      <th>Compression</th>\n",
              "    </tr>\n",
              "  </thead>\n",
              "  <tbody>\n",
              "    <tr>\n",
              "      <th>count</th>\n",
              "      <td>12.000000</td>\n",
              "      <td>12.000000</td>\n",
              "      <td>12.000000</td>\n",
              "      <td>12.000000</td>\n",
              "    </tr>\n",
              "    <tr>\n",
              "      <th>mean</th>\n",
              "      <td>231.500000</td>\n",
              "      <td>2408.333333</td>\n",
              "      <td>90.166667</td>\n",
              "      <td>101.250000</td>\n",
              "    </tr>\n",
              "    <tr>\n",
              "      <th>std</th>\n",
              "      <td>17.085347</td>\n",
              "      <td>599.178731</td>\n",
              "      <td>3.157483</td>\n",
              "      <td>5.011351</td>\n",
              "    </tr>\n",
              "    <tr>\n",
              "      <th>min</th>\n",
              "      <td>212.000000</td>\n",
              "      <td>1600.000000</td>\n",
              "      <td>86.000000</td>\n",
              "      <td>95.000000</td>\n",
              "    </tr>\n",
              "    <tr>\n",
              "      <th>25%</th>\n",
              "      <td>222.750000</td>\n",
              "      <td>1875.000000</td>\n",
              "      <td>88.000000</td>\n",
              "      <td>97.750000</td>\n",
              "    </tr>\n",
              "    <tr>\n",
              "      <th>50%</th>\n",
              "      <td>227.000000</td>\n",
              "      <td>2450.000000</td>\n",
              "      <td>90.000000</td>\n",
              "      <td>100.000000</td>\n",
              "    </tr>\n",
              "    <tr>\n",
              "      <th>75%</th>\n",
              "      <td>234.000000</td>\n",
              "      <td>2850.000000</td>\n",
              "      <td>91.750000</td>\n",
              "      <td>104.250000</td>\n",
              "    </tr>\n",
              "    <tr>\n",
              "      <th>max</th>\n",
              "      <td>278.000000</td>\n",
              "      <td>3400.000000</td>\n",
              "      <td>96.000000</td>\n",
              "      <td>110.000000</td>\n",
              "    </tr>\n",
              "  </tbody>\n",
              "</table>\n",
              "</div>\n",
              "    <div class=\"colab-df-buttons\">\n",
              "\n",
              "  <div class=\"colab-df-container\">\n",
              "    <button class=\"colab-df-convert\" onclick=\"convertToInteractive('df-abeca4c4-ba0f-4a09-b8cd-25428c2e9fab')\"\n",
              "            title=\"Convert this dataframe to an interactive table.\"\n",
              "            style=\"display:none;\">\n",
              "\n",
              "  <svg xmlns=\"http://www.w3.org/2000/svg\" height=\"24px\" viewBox=\"0 -960 960 960\">\n",
              "    <path d=\"M120-120v-720h720v720H120Zm60-500h600v-160H180v160Zm220 220h160v-160H400v160Zm0 220h160v-160H400v160ZM180-400h160v-160H180v160Zm440 0h160v-160H620v160ZM180-180h160v-160H180v160Zm440 0h160v-160H620v160Z\"/>\n",
              "  </svg>\n",
              "    </button>\n",
              "\n",
              "  <style>\n",
              "    .colab-df-container {\n",
              "      display:flex;\n",
              "      gap: 12px;\n",
              "    }\n",
              "\n",
              "    .colab-df-convert {\n",
              "      background-color: #E8F0FE;\n",
              "      border: none;\n",
              "      border-radius: 50%;\n",
              "      cursor: pointer;\n",
              "      display: none;\n",
              "      fill: #1967D2;\n",
              "      height: 32px;\n",
              "      padding: 0 0 0 0;\n",
              "      width: 32px;\n",
              "    }\n",
              "\n",
              "    .colab-df-convert:hover {\n",
              "      background-color: #E2EBFA;\n",
              "      box-shadow: 0px 1px 2px rgba(60, 64, 67, 0.3), 0px 1px 3px 1px rgba(60, 64, 67, 0.15);\n",
              "      fill: #174EA6;\n",
              "    }\n",
              "\n",
              "    .colab-df-buttons div {\n",
              "      margin-bottom: 4px;\n",
              "    }\n",
              "\n",
              "    [theme=dark] .colab-df-convert {\n",
              "      background-color: #3B4455;\n",
              "      fill: #D2E3FC;\n",
              "    }\n",
              "\n",
              "    [theme=dark] .colab-df-convert:hover {\n",
              "      background-color: #434B5C;\n",
              "      box-shadow: 0px 1px 3px 1px rgba(0, 0, 0, 0.15);\n",
              "      filter: drop-shadow(0px 1px 2px rgba(0, 0, 0, 0.3));\n",
              "      fill: #FFFFFF;\n",
              "    }\n",
              "  </style>\n",
              "\n",
              "    <script>\n",
              "      const buttonEl =\n",
              "        document.querySelector('#df-abeca4c4-ba0f-4a09-b8cd-25428c2e9fab button.colab-df-convert');\n",
              "      buttonEl.style.display =\n",
              "        google.colab.kernel.accessAllowed ? 'block' : 'none';\n",
              "\n",
              "      async function convertToInteractive(key) {\n",
              "        const element = document.querySelector('#df-abeca4c4-ba0f-4a09-b8cd-25428c2e9fab');\n",
              "        const dataTable =\n",
              "          await google.colab.kernel.invokeFunction('convertToInteractive',\n",
              "                                                    [key], {});\n",
              "        if (!dataTable) return;\n",
              "\n",
              "        const docLinkHtml = 'Like what you see? Visit the ' +\n",
              "          '<a target=\"_blank\" href=https://colab.research.google.com/notebooks/data_table.ipynb>data table notebook</a>'\n",
              "          + ' to learn more about interactive tables.';\n",
              "        element.innerHTML = '';\n",
              "        dataTable['output_type'] = 'display_data';\n",
              "        await google.colab.output.renderOutput(dataTable, element);\n",
              "        const docLink = document.createElement('div');\n",
              "        docLink.innerHTML = docLinkHtml;\n",
              "        element.appendChild(docLink);\n",
              "      }\n",
              "    </script>\n",
              "  </div>\n",
              "\n",
              "\n",
              "<div id=\"df-ffb1b5f5-ed60-4d2e-9153-32fbc0916b96\">\n",
              "  <button class=\"colab-df-quickchart\" onclick=\"quickchart('df-ffb1b5f5-ed60-4d2e-9153-32fbc0916b96')\"\n",
              "            title=\"Suggest charts.\"\n",
              "            style=\"display:none;\">\n",
              "\n",
              "<svg xmlns=\"http://www.w3.org/2000/svg\" height=\"24px\"viewBox=\"0 0 24 24\"\n",
              "     width=\"24px\">\n",
              "    <g>\n",
              "        <path d=\"M19 3H5c-1.1 0-2 .9-2 2v14c0 1.1.9 2 2 2h14c1.1 0 2-.9 2-2V5c0-1.1-.9-2-2-2zM9 17H7v-7h2v7zm4 0h-2V7h2v10zm4 0h-2v-4h2v4z\"/>\n",
              "    </g>\n",
              "</svg>\n",
              "  </button>\n",
              "\n",
              "<style>\n",
              "  .colab-df-quickchart {\n",
              "      --bg-color: #E8F0FE;\n",
              "      --fill-color: #1967D2;\n",
              "      --hover-bg-color: #E2EBFA;\n",
              "      --hover-fill-color: #174EA6;\n",
              "      --disabled-fill-color: #AAA;\n",
              "      --disabled-bg-color: #DDD;\n",
              "  }\n",
              "\n",
              "  [theme=dark] .colab-df-quickchart {\n",
              "      --bg-color: #3B4455;\n",
              "      --fill-color: #D2E3FC;\n",
              "      --hover-bg-color: #434B5C;\n",
              "      --hover-fill-color: #FFFFFF;\n",
              "      --disabled-bg-color: #3B4455;\n",
              "      --disabled-fill-color: #666;\n",
              "  }\n",
              "\n",
              "  .colab-df-quickchart {\n",
              "    background-color: var(--bg-color);\n",
              "    border: none;\n",
              "    border-radius: 50%;\n",
              "    cursor: pointer;\n",
              "    display: none;\n",
              "    fill: var(--fill-color);\n",
              "    height: 32px;\n",
              "    padding: 0;\n",
              "    width: 32px;\n",
              "  }\n",
              "\n",
              "  .colab-df-quickchart:hover {\n",
              "    background-color: var(--hover-bg-color);\n",
              "    box-shadow: 0 1px 2px rgba(60, 64, 67, 0.3), 0 1px 3px 1px rgba(60, 64, 67, 0.15);\n",
              "    fill: var(--button-hover-fill-color);\n",
              "  }\n",
              "\n",
              "  .colab-df-quickchart-complete:disabled,\n",
              "  .colab-df-quickchart-complete:disabled:hover {\n",
              "    background-color: var(--disabled-bg-color);\n",
              "    fill: var(--disabled-fill-color);\n",
              "    box-shadow: none;\n",
              "  }\n",
              "\n",
              "  .colab-df-spinner {\n",
              "    border: 2px solid var(--fill-color);\n",
              "    border-color: transparent;\n",
              "    border-bottom-color: var(--fill-color);\n",
              "    animation:\n",
              "      spin 1s steps(1) infinite;\n",
              "  }\n",
              "\n",
              "  @keyframes spin {\n",
              "    0% {\n",
              "      border-color: transparent;\n",
              "      border-bottom-color: var(--fill-color);\n",
              "      border-left-color: var(--fill-color);\n",
              "    }\n",
              "    20% {\n",
              "      border-color: transparent;\n",
              "      border-left-color: var(--fill-color);\n",
              "      border-top-color: var(--fill-color);\n",
              "    }\n",
              "    30% {\n",
              "      border-color: transparent;\n",
              "      border-left-color: var(--fill-color);\n",
              "      border-top-color: var(--fill-color);\n",
              "      border-right-color: var(--fill-color);\n",
              "    }\n",
              "    40% {\n",
              "      border-color: transparent;\n",
              "      border-right-color: var(--fill-color);\n",
              "      border-top-color: var(--fill-color);\n",
              "    }\n",
              "    60% {\n",
              "      border-color: transparent;\n",
              "      border-right-color: var(--fill-color);\n",
              "    }\n",
              "    80% {\n",
              "      border-color: transparent;\n",
              "      border-right-color: var(--fill-color);\n",
              "      border-bottom-color: var(--fill-color);\n",
              "    }\n",
              "    90% {\n",
              "      border-color: transparent;\n",
              "      border-bottom-color: var(--fill-color);\n",
              "    }\n",
              "  }\n",
              "</style>\n",
              "\n",
              "  <script>\n",
              "    async function quickchart(key) {\n",
              "      const quickchartButtonEl =\n",
              "        document.querySelector('#' + key + ' button');\n",
              "      quickchartButtonEl.disabled = true;  // To prevent multiple clicks.\n",
              "      quickchartButtonEl.classList.add('colab-df-spinner');\n",
              "      try {\n",
              "        const charts = await google.colab.kernel.invokeFunction(\n",
              "            'suggestCharts', [key], {});\n",
              "      } catch (error) {\n",
              "        console.error('Error during call to suggestCharts:', error);\n",
              "      }\n",
              "      quickchartButtonEl.classList.remove('colab-df-spinner');\n",
              "      quickchartButtonEl.classList.add('colab-df-quickchart-complete');\n",
              "    }\n",
              "    (() => {\n",
              "      let quickchartButtonEl =\n",
              "        document.querySelector('#df-ffb1b5f5-ed60-4d2e-9153-32fbc0916b96 button');\n",
              "      quickchartButtonEl.style.display =\n",
              "        google.colab.kernel.accessAllowed ? 'block' : 'none';\n",
              "    })();\n",
              "  </script>\n",
              "</div>\n",
              "    </div>\n",
              "  </div>\n"
            ]
          },
          "metadata": {},
          "execution_count": 103
        }
      ]
    },
    {
      "cell_type": "markdown",
      "source": [
        "a.)"
      ],
      "metadata": {
        "id": "Ieg4d_HJmhGR"
      }
    },
    {
      "cell_type": "code",
      "source": [
        "X = Q3[['rpm', 'Road Octane Number', 'Compression']]\n",
        "X = sm.add_constant(X)  # Add a constant term (intercept)\n",
        "y = Q3['Brake Horsepower']\n",
        "\n",
        "model = sm.OLS(y, X).fit()\n",
        "print(model.summary())"
      ],
      "metadata": {
        "colab": {
          "base_uri": "https://localhost:8080/"
        },
        "id": "JTXt-Z2QpGOJ",
        "outputId": "2763d7bd-ce1e-4296-d2c1-c36dfea69584"
      },
      "execution_count": 96,
      "outputs": [
        {
          "output_type": "stream",
          "name": "stdout",
          "text": [
            "                            OLS Regression Results                            \n",
            "==============================================================================\n",
            "Dep. Variable:       Brake Horsepower   R-squared:                       0.807\n",
            "Model:                            OLS   Adj. R-squared:                  0.734\n",
            "Method:                 Least Squares   F-statistic:                     11.12\n",
            "Date:                Tue, 26 Sep 2023   Prob (F-statistic):            0.00317\n",
            "Time:                        19:10:31   Log-Likelihood:                -40.708\n",
            "No. Observations:                  12   AIC:                             89.42\n",
            "Df Residuals:                       8   BIC:                             91.36\n",
            "Df Model:                           3                                         \n",
            "Covariance Type:            nonrobust                                         \n",
            "======================================================================================\n",
            "                         coef    std err          t      P>|t|      [0.025      0.975]\n",
            "--------------------------------------------------------------------------------------\n",
            "const               -266.0312     92.674     -2.871      0.021    -479.737     -52.325\n",
            "rpm                    0.0107      0.004      2.390      0.044       0.000       0.021\n",
            "Road Octane Number     3.1348      0.844      3.712      0.006       1.188       5.082\n",
            "Compression            1.8674      0.535      3.494      0.008       0.635       3.100\n",
            "==============================================================================\n",
            "Omnibus:                        0.392   Durbin-Watson:                   1.043\n",
            "Prob(Omnibus):                  0.822   Jarque-Bera (JB):                0.230\n",
            "Skew:                          -0.282   Prob(JB):                        0.891\n",
            "Kurtosis:                       2.625   Cond. No.                     9.03e+04\n",
            "==============================================================================\n",
            "\n",
            "Notes:\n",
            "[1] Standard Errors assume that the covariance matrix of the errors is correctly specified.\n",
            "[2] The condition number is large, 9.03e+04. This might indicate that there are\n",
            "strong multicollinearity or other numerical problems.\n"
          ]
        },
        {
          "output_type": "stream",
          "name": "stderr",
          "text": [
            "/usr/local/lib/python3.10/dist-packages/scipy/stats/_stats_py.py:1806: UserWarning: kurtosistest only valid for n>=20 ... continuing anyway, n=12\n",
            "  warnings.warn(\"kurtosistest only valid for n>=20 ... continuing \"\n"
          ]
        }
      ]
    },
    {
      "cell_type": "markdown",
      "source": [
        "b.)"
      ],
      "metadata": {
        "id": "-kgYpwPDR6jo"
      }
    },
    {
      "cell_type": "code",
      "source": [
        "import sklearn.linear_model as lm"
      ],
      "metadata": {
        "id": "Z-5si5D_1hk_"
      },
      "execution_count": 86,
      "outputs": []
    },
    {
      "cell_type": "code",
      "source": [
        "model = lm.LinearRegression()\n",
        "model.fit(X,y)"
      ],
      "metadata": {
        "colab": {
          "base_uri": "https://localhost:8080/",
          "height": 74
        },
        "id": "fFI7TLfV05Rw",
        "outputId": "f42509ea-cb58-4335-886c-b4a2576c40c6"
      },
      "execution_count": 87,
      "outputs": [
        {
          "output_type": "execute_result",
          "data": {
            "text/plain": [
              "LinearRegression()"
            ],
            "text/html": [
              "<style>#sk-container-id-1 {color: black;background-color: white;}#sk-container-id-1 pre{padding: 0;}#sk-container-id-1 div.sk-toggleable {background-color: white;}#sk-container-id-1 label.sk-toggleable__label {cursor: pointer;display: block;width: 100%;margin-bottom: 0;padding: 0.3em;box-sizing: border-box;text-align: center;}#sk-container-id-1 label.sk-toggleable__label-arrow:before {content: \"▸\";float: left;margin-right: 0.25em;color: #696969;}#sk-container-id-1 label.sk-toggleable__label-arrow:hover:before {color: black;}#sk-container-id-1 div.sk-estimator:hover label.sk-toggleable__label-arrow:before {color: black;}#sk-container-id-1 div.sk-toggleable__content {max-height: 0;max-width: 0;overflow: hidden;text-align: left;background-color: #f0f8ff;}#sk-container-id-1 div.sk-toggleable__content pre {margin: 0.2em;color: black;border-radius: 0.25em;background-color: #f0f8ff;}#sk-container-id-1 input.sk-toggleable__control:checked~div.sk-toggleable__content {max-height: 200px;max-width: 100%;overflow: auto;}#sk-container-id-1 input.sk-toggleable__control:checked~label.sk-toggleable__label-arrow:before {content: \"▾\";}#sk-container-id-1 div.sk-estimator input.sk-toggleable__control:checked~label.sk-toggleable__label {background-color: #d4ebff;}#sk-container-id-1 div.sk-label input.sk-toggleable__control:checked~label.sk-toggleable__label {background-color: #d4ebff;}#sk-container-id-1 input.sk-hidden--visually {border: 0;clip: rect(1px 1px 1px 1px);clip: rect(1px, 1px, 1px, 1px);height: 1px;margin: -1px;overflow: hidden;padding: 0;position: absolute;width: 1px;}#sk-container-id-1 div.sk-estimator {font-family: monospace;background-color: #f0f8ff;border: 1px dotted black;border-radius: 0.25em;box-sizing: border-box;margin-bottom: 0.5em;}#sk-container-id-1 div.sk-estimator:hover {background-color: #d4ebff;}#sk-container-id-1 div.sk-parallel-item::after {content: \"\";width: 100%;border-bottom: 1px solid gray;flex-grow: 1;}#sk-container-id-1 div.sk-label:hover label.sk-toggleable__label {background-color: #d4ebff;}#sk-container-id-1 div.sk-serial::before {content: \"\";position: absolute;border-left: 1px solid gray;box-sizing: border-box;top: 0;bottom: 0;left: 50%;z-index: 0;}#sk-container-id-1 div.sk-serial {display: flex;flex-direction: column;align-items: center;background-color: white;padding-right: 0.2em;padding-left: 0.2em;position: relative;}#sk-container-id-1 div.sk-item {position: relative;z-index: 1;}#sk-container-id-1 div.sk-parallel {display: flex;align-items: stretch;justify-content: center;background-color: white;position: relative;}#sk-container-id-1 div.sk-item::before, #sk-container-id-1 div.sk-parallel-item::before {content: \"\";position: absolute;border-left: 1px solid gray;box-sizing: border-box;top: 0;bottom: 0;left: 50%;z-index: -1;}#sk-container-id-1 div.sk-parallel-item {display: flex;flex-direction: column;z-index: 1;position: relative;background-color: white;}#sk-container-id-1 div.sk-parallel-item:first-child::after {align-self: flex-end;width: 50%;}#sk-container-id-1 div.sk-parallel-item:last-child::after {align-self: flex-start;width: 50%;}#sk-container-id-1 div.sk-parallel-item:only-child::after {width: 0;}#sk-container-id-1 div.sk-dashed-wrapped {border: 1px dashed gray;margin: 0 0.4em 0.5em 0.4em;box-sizing: border-box;padding-bottom: 0.4em;background-color: white;}#sk-container-id-1 div.sk-label label {font-family: monospace;font-weight: bold;display: inline-block;line-height: 1.2em;}#sk-container-id-1 div.sk-label-container {text-align: center;}#sk-container-id-1 div.sk-container {/* jupyter's `normalize.less` sets `[hidden] { display: none; }` but bootstrap.min.css set `[hidden] { display: none !important; }` so we also need the `!important` here to be able to override the default hidden behavior on the sphinx rendered scikit-learn.org. See: https://github.com/scikit-learn/scikit-learn/issues/21755 */display: inline-block !important;position: relative;}#sk-container-id-1 div.sk-text-repr-fallback {display: none;}</style><div id=\"sk-container-id-1\" class=\"sk-top-container\"><div class=\"sk-text-repr-fallback\"><pre>LinearRegression()</pre><b>In a Jupyter environment, please rerun this cell to show the HTML representation or trust the notebook. <br />On GitHub, the HTML representation is unable to render, please try loading this page with nbviewer.org.</b></div><div class=\"sk-container\" hidden><div class=\"sk-item\"><div class=\"sk-estimator sk-toggleable\"><input class=\"sk-toggleable__control sk-hidden--visually\" id=\"sk-estimator-id-1\" type=\"checkbox\" checked><label for=\"sk-estimator-id-1\" class=\"sk-toggleable__label sk-toggleable__label-arrow\">LinearRegression</label><div class=\"sk-toggleable__content\"><pre>LinearRegression()</pre></div></div></div></div></div>"
            ]
          },
          "metadata": {},
          "execution_count": 87
        }
      ]
    },
    {
      "cell_type": "code",
      "source": [
        "print('Coefficients: ', model.coef_)\n",
        "print(\"y-intercept \", model.intercept_)"
      ],
      "metadata": {
        "colab": {
          "base_uri": "https://localhost:8080/"
        },
        "id": "gexuZ7GB1oMy",
        "outputId": "acd4e38f-2ed7-4b81-cc82-d09b7792a935"
      },
      "execution_count": 88,
      "outputs": [
        {
          "output_type": "stream",
          "name": "stdout",
          "text": [
            "Coefficients:  [0.         0.01071321 3.13480626 1.86740943]\n",
            "y-intercept  -266.03121172230476\n"
          ]
        }
      ]
    },
    {
      "cell_type": "code",
      "source": [
        "r_sq = model.score(X, y)\n",
        "r_sq"
      ],
      "metadata": {
        "colab": {
          "base_uri": "https://localhost:8080/"
        },
        "id": "b4KScykx1vbA",
        "outputId": "9cf329ce-b264-4619-97ac-deab6b159348"
      },
      "execution_count": 90,
      "outputs": [
        {
          "output_type": "execute_result",
          "data": {
            "text/plain": [
              "0.8065197565314594"
            ]
          },
          "metadata": {},
          "execution_count": 90
        }
      ]
    },
    {
      "cell_type": "code",
      "source": [
        "y_pred = model.predict(X)\n",
        "y_pred"
      ],
      "metadata": {
        "colab": {
          "base_uri": "https://localhost:8080/"
        },
        "id": "IA329MDO1ta1",
        "outputId": "35e75ef0-792e-4cf8-ac21-bc73b9913f3b"
      },
      "execution_count": 89,
      "outputs": [
        {
          "output_type": "execute_result",
          "data": {
            "text/plain": [
              "array([224.26871063, 225.32824692, 240.95847559, 218.86255836,\n",
              "       207.44420245, 267.10824644, 243.78632464, 237.12456005,\n",
              "       235.90671156, 221.12574828, 222.12606905, 233.96014603])"
            ]
          },
          "metadata": {},
          "execution_count": 89
        }
      ]
    },
    {
      "cell_type": "code",
      "source": [
        "from sklearn.metrics import explained_variance_score\n",
        "print(\"mean square error: \", mean_squared_error(y,y_pred))\n",
        "print(\"variance or r-squared: \", explained_variance_score(y, y_pred))"
      ],
      "metadata": {
        "colab": {
          "base_uri": "https://localhost:8080/"
        },
        "id": "kRiMfUhD15QY",
        "outputId": "593f9395-a62c-4b68-8632-c26c94f2ebb1"
      },
      "execution_count": 94,
      "outputs": [
        {
          "output_type": "stream",
          "name": "stdout",
          "text": [
            "mean square error:  51.77208848145701\n",
            "variance or r-squared:  0.8065197565314592\n"
          ]
        }
      ]
    },
    {
      "cell_type": "code",
      "source": [
        "print(model.ssr)"
      ],
      "metadata": {
        "colab": {
          "base_uri": "https://localhost:8080/"
        },
        "id": "r72Oo2G78Xq6",
        "outputId": "7bf73327-d42e-4172-c5f6-ac32b2f93f89"
      },
      "execution_count": 121,
      "outputs": [
        {
          "output_type": "stream",
          "name": "stdout",
          "text": [
            "2.5585031611094227\n"
          ]
        }
      ]
    },
    {
      "cell_type": "code",
      "source": [
        "residual = y - y_pred\n",
        "residual"
      ],
      "metadata": {
        "colab": {
          "base_uri": "https://localhost:8080/"
        },
        "id": "dRNsULgP8MNx",
        "outputId": "b01a806b-1d4d-4760-9e42-1ab50788d50b"
      },
      "execution_count": 118,
      "outputs": [
        {
          "output_type": "execute_result",
          "data": {
            "text/plain": [
              "0      0.731289\n",
              "1    -13.328247\n",
              "2    -11.958476\n",
              "3      3.137442\n",
              "4     11.555798\n",
              "5     10.891754\n",
              "6      2.213675\n",
              "7     -0.124560\n",
              "8     -2.906712\n",
              "9      2.874252\n",
              "10     0.873931\n",
              "11    -3.960146\n",
              "Name: Brake Horsepower, dtype: float64"
            ]
          },
          "metadata": {},
          "execution_count": 118
        }
      ]
    },
    {
      "cell_type": "code",
      "source": [
        "sse = residual*residual\n",
        "sse.sum()"
      ],
      "metadata": {
        "colab": {
          "base_uri": "https://localhost:8080/"
        },
        "id": "amc36o0X8Qrz",
        "outputId": "2c989dde-d427-43ea-bd11-75240266775d"
      },
      "execution_count": 119,
      "outputs": [
        {
          "output_type": "execute_result",
          "data": {
            "text/plain": [
              "621.2650617774841"
            ]
          },
          "metadata": {},
          "execution_count": 119
        }
      ]
    },
    {
      "cell_type": "code",
      "source": [
        "plt.show()\n",
        "pg.qqplot(residual).set_title('OUR DATA')"
      ],
      "metadata": {
        "colab": {
          "base_uri": "https://localhost:8080/",
          "height": 490
        },
        "id": "dtwTipoC8goE",
        "outputId": "c063864f-be5b-4b03-f511-b1d51ca5a3a0"
      },
      "execution_count": 122,
      "outputs": [
        {
          "output_type": "execute_result",
          "data": {
            "text/plain": [
              "Text(0.5, 1.0, 'OUR DATA')"
            ]
          },
          "metadata": {},
          "execution_count": 122
        },
        {
          "output_type": "display_data",
          "data": {
            "text/plain": [
              "<Figure size 640x480 with 1 Axes>"
            ],
            "image/png": "[encoded data removed]"
          },
          "metadata": {}
        }
      ]
    },
    {
      "cell_type": "markdown",
      "source": [
        "c.)"
      ],
      "metadata": {
        "id": "neZPITP0TQf5"
      }
    },
    {
      "cell_type": "markdown",
      "source": [
        "From the model summary we can see the p-values for rpm, road octane, and compression at 0.044, 0.006, and 0.008. All three of these p-values are less than 0.05 therefore each of these contribute a lot to the regression model."
      ],
      "metadata": {
        "id": "VTc2gGGa3loN"
      }
    }
  ]
}