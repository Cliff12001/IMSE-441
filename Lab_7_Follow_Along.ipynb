{
  "nbformat": 4,
  "nbformat_minor": 0,
  "metadata": {
    "colab": {
      "provenance": [],
      "authorship_tag": "ABX9TyPqrvkz7WvFLIhC+OUSNcqS",
      "include_colab_link": true
    },
    "kernelspec": {
      "name": "python3",
      "display_name": "Python 3"
    },
    "language_info": {
      "name": "python"
    }
  },
  "cells": [
    {
      "cell_type": "markdown",
      "metadata": {
        "id": "view-in-github",
        "colab_type": "text"
      },
      "source": [
        "<a href=\"https://colab.research.google.com/github/Cliff12001/IMSE-441/blob/main/Lab_7_Follow_Along.ipynb\" target=\"_parent\"><img src=\"https://colab.research.google.com/assets/colab-badge.svg\" alt=\"Open In Colab\"/></a>"
      ]
    },
    {
      "cell_type": "code",
      "execution_count": null,
      "metadata": {
        "id": "3uZf6judFobU"
      },
      "outputs": [],
      "source": [
        "import numpy as np\n",
        "import matplotlib.pyplot as plt\n",
        "from scipy.stats import ttest_1samp"
      ]
    },
    {
      "cell_type": "code",
      "source": [
        "#Example for Beerios\n",
        "#H0= 9 grams, H1 != 9\n",
        "beerios = 9.16, 8.57, 9.54, 8.70, 9.33, 9.43, 8.39, 9.47, 8.66, 9.01"
      ],
      "metadata": {
        "id": "Uyl-DOl5GQj0"
      },
      "execution_count": null,
      "outputs": []
    },
    {
      "cell_type": "code",
      "source": [
        "#Normality testing\n",
        "%pip install pingouin\n",
        "import pingouin as pg"
      ],
      "metadata": {
        "id": "5wKTghZLG1g3"
      },
      "execution_count": null,
      "outputs": []
    },
    {
      "cell_type": "code",
      "source": [
        "pg.qqplot(beerios)\n",
        "plt.show()"
      ],
      "metadata": {
        "colab": {
          "base_uri": "https://localhost:8080/",
          "height": 279
        },
        "id": "tzHf6gkLHGqO",
        "outputId": "daa24853-1000-465e-b835-b27d2206dce7"
      },
      "execution_count": null,
      "outputs": [
        {
          "output_type": "display_data",
          "data": {
            "text/plain": [
              "<Figure size 432x288 with 1 Axes>"
            ],
            "image/png": "[encoded data removed]"
          },
          "metadata": {
            "needs_background": "light"
          }
        }
      ]
    },
    {
      "cell_type": "code",
      "source": [
        "ttest_1samp(a=beerios, popmean= 9)"
      ],
      "metadata": {
        "colab": {
          "base_uri": "https://localhost:8080/"
        },
        "id": "xBGz9502Gm-1",
        "outputId": "4de05b95-e7d7-48ce-9013-7701a0f3ec15"
      },
      "execution_count": null,
      "outputs": [
        {
          "output_type": "execute_result",
          "data": {
            "text/plain": [
              "TtestResult(statistic=0.19574525062921205, pvalue=0.8491577226110049, df=9)"
            ]
          },
          "metadata": {},
          "execution_count": 4
        }
      ]
    },
    {
      "cell_type": "code",
      "source": [
        "t_stat, p_value= ttest_1samp(a=beerios, popmean= 9)\n",
        "print(p_value)"
      ],
      "metadata": {
        "colab": {
          "base_uri": "https://localhost:8080/"
        },
        "id": "W0HvIhorHcKY",
        "outputId": "5693990c-c69d-4ab2-d664-d8f5292fabf7"
      },
      "execution_count": null,
      "outputs": [
        {
          "output_type": "stream",
          "name": "stdout",
          "text": [
            "0.8491577226110049\n"
          ]
        }
      ]
    },
    {
      "cell_type": "code",
      "source": [
        "if p_value < 0.05:\n",
        "  print(\"We reject the null hypothesis\")\n",
        "\n",
        "else:\n",
        "  print(\"We fail to rejet the null hypothesis\")"
      ],
      "metadata": {
        "colab": {
          "base_uri": "https://localhost:8080/"
        },
        "id": "-D--wQKuIgQb",
        "outputId": "ca8a2331-550e-497c-e253-ccedfc7ee9c1"
      },
      "execution_count": null,
      "outputs": [
        {
          "output_type": "stream",
          "name": "stdout",
          "text": [
            "We fail to rejet the null hypothesis\n"
          ]
        }
      ]
    },
    {
      "cell_type": "code",
      "source": [
        "CI= ttest_1samp(beerios,9).confidence_interval(confidence_level=0.95)\n",
        "CI"
      ],
      "metadata": {
        "colab": {
          "base_uri": "https://localhost:8080/"
        },
        "id": "DLuexWPHIwVM",
        "outputId": "d20a9b23-2eb5-408a-8ce6-6f56e5d08e01"
      },
      "execution_count": null,
      "outputs": [
        {
          "output_type": "execute_result",
          "data": {
            "text/plain": [
              "ConfidenceInterval(low=8.725527390615076, high=9.326472609384924)"
            ]
          },
          "metadata": {},
          "execution_count": 13
        }
      ]
    },
    {
      "cell_type": "code",
      "source": [
        "#Example Golf club\n",
        "#Hypothesis  H0= 0.82, H1 > 0.82\n",
        "Club= [0.8411, 0.8191, 0.8182, 0.8125, 0.8750, 0.8580, 0.8532, 0.8483, 0.8276, 0.7983, 0.8042, 0.8730, 0.8282, 0.8359, 0.8660]"
      ],
      "metadata": {
        "id": "pl6R6Dm5Jb4z"
      },
      "execution_count": null,
      "outputs": []
    },
    {
      "cell_type": "code",
      "source": [
        "pg.qqplot(Club)\n",
        "plt.show()"
      ],
      "metadata": {
        "colab": {
          "base_uri": "https://localhost:8080/",
          "height": 279
        },
        "id": "pqVop2EHJnEU",
        "outputId": "7a9ce73f-2cc2-44d8-a71d-cbc9c1629c90"
      },
      "execution_count": null,
      "outputs": [
        {
          "output_type": "display_data",
          "data": {
            "text/plain": [
              "<Figure size 432x288 with 1 Axes>"
            ],
            "image/png": "[encoded data removed]"
          },
          "metadata": {
            "needs_background": "light"
          }
        }
      ]
    },
    {
      "cell_type": "code",
      "source": [
        "ttest_1samp(a=Club, popmean= 0.82)"
      ],
      "metadata": {
        "colab": {
          "base_uri": "https://localhost:8080/"
        },
        "id": "4X0BIQ6nJwkg",
        "outputId": "b899571a-080c-42b1-91ab-e90cce39c8d8"
      },
      "execution_count": null,
      "outputs": [
        {
          "output_type": "execute_result",
          "data": {
            "text/plain": [
              "TtestResult(statistic=2.718978782525142, pvalue=0.016626737363021643, df=14)"
            ]
          },
          "metadata": {},
          "execution_count": 17
        }
      ]
    },
    {
      "cell_type": "code",
      "source": [
        "CI= ttest_1samp(Club,0.82).confidence_interval(confidence_level=0.95)\n",
        "CI"
      ],
      "metadata": {
        "colab": {
          "base_uri": "https://localhost:8080/"
        },
        "id": "hLXOLKfwKFm-",
        "outputId": "c7a5a1ba-fc69-4531-afef-b4dfa613a9da"
      },
      "execution_count": null,
      "outputs": [
        {
          "output_type": "execute_result",
          "data": {
            "text/plain": [
              "ConfidenceInterval(low=0.8236407315035582, high=0.8508392684964418)"
            ]
          },
          "metadata": {},
          "execution_count": 18
        }
      ]
    },
    {
      "cell_type": "code",
      "source": [
        "t_stat, p_value= ttest_1samp(a=Club, popmean= 0.82)\n",
        "if p_value < 0.05:\n",
        "  print(\"We reject the null hypothesis\")\n",
        "else:\n",
        "  print(\"We fail to rejet the null hypothesis\")"
      ],
      "metadata": {
        "colab": {
          "base_uri": "https://localhost:8080/"
        },
        "id": "TBEFxzQvKrhN",
        "outputId": "74f2fe93-03ae-441c-8989-bc92c47bca94"
      },
      "execution_count": null,
      "outputs": [
        {
          "output_type": "stream",
          "name": "stdout",
          "text": [
            "We reject the null hypothesis\n"
          ]
        }
      ]
    },
    {
      "cell_type": "code",
      "source": [
        "import scipy.stats as stats\n",
        "\n",
        "pop= stats.poisson.rvs(loc=18, mu= 35, size= 1500)\n",
        "samp_1= stats.poisson.rvs(loc=18, mu= 35, size= 60) \n",
        "samp_2= stats.poisson.rvs(loc=18, mu= 30, size= 60) "
      ],
      "metadata": {
        "id": "gZVvo6HfKwta"
      },
      "execution_count": null,
      "outputs": []
    },
    {
      "cell_type": "code",
      "source": [
        "pop.mean()"
      ],
      "metadata": {
        "colab": {
          "base_uri": "https://localhost:8080/"
        },
        "id": "XKIyVcRaLP4o",
        "outputId": "f8d68e43-cd9a-4a58-d25c-3ba576319db2"
      },
      "execution_count": null,
      "outputs": [
        {
          "output_type": "execute_result",
          "data": {
            "text/plain": [
              "53.098"
            ]
          },
          "metadata": {},
          "execution_count": 23
        }
      ]
    },
    {
      "cell_type": "code",
      "source": [
        "samp_1.mean()"
      ],
      "metadata": {
        "colab": {
          "base_uri": "https://localhost:8080/"
        },
        "id": "K_5OSNfNL6im",
        "outputId": "eef6578c-4f36-43c0-da30-d59e028498b2"
      },
      "execution_count": null,
      "outputs": [
        {
          "output_type": "execute_result",
          "data": {
            "text/plain": [
              "51.7"
            ]
          },
          "metadata": {},
          "execution_count": 29
        }
      ]
    },
    {
      "cell_type": "code",
      "source": [
        "samp_2.mean()"
      ],
      "metadata": {
        "colab": {
          "base_uri": "https://localhost:8080/"
        },
        "id": "29iNf_i3MTUa",
        "outputId": "40058bfc-6341-4cca-98b9-96264e7f6aa6"
      },
      "execution_count": null,
      "outputs": [
        {
          "output_type": "execute_result",
          "data": {
            "text/plain": [
              "48.03333333333333"
            ]
          },
          "metadata": {},
          "execution_count": 30
        }
      ]
    },
    {
      "cell_type": "code",
      "source": [
        "ttest_1samp(a=samp_1,popmean=pop.mean())"
      ],
      "metadata": {
        "colab": {
          "base_uri": "https://localhost:8080/"
        },
        "id": "Y3HySIhUMBSL",
        "outputId": "35694a09-0501-48cf-d409-8635d6d47b0a"
      },
      "execution_count": null,
      "outputs": [
        {
          "output_type": "execute_result",
          "data": {
            "text/plain": [
              "TtestResult(statistic=-2.058585485390757, pvalue=0.04395825936876892, df=59)"
            ]
          },
          "metadata": {},
          "execution_count": 27
        }
      ]
    },
    {
      "cell_type": "code",
      "source": [
        "ttest_1samp(a=samp_2,popmean=pop.mean())"
      ],
      "metadata": {
        "colab": {
          "base_uri": "https://localhost:8080/"
        },
        "id": "iYGFzs2eMMw6",
        "outputId": "d47dcbee-34dc-446a-9907-721ff4c824e3"
      },
      "execution_count": null,
      "outputs": [
        {
          "output_type": "execute_result",
          "data": {
            "text/plain": [
              "TtestResult(statistic=-7.644275082824644, pvalue=2.1899146562985008e-10, df=59)"
            ]
          },
          "metadata": {},
          "execution_count": 28
        }
      ]
    },
    {
      "cell_type": "code",
      "source": [
        "CI= stats.ttest_1samp(samp_1,popmean=pop.mean()).confidence_interval(confidence_level=0.95)\n",
        "CI"
      ],
      "metadata": {
        "colab": {
          "base_uri": "https://localhost:8080/"
        },
        "id": "CDUmIRZtMnb_",
        "outputId": "5cb19f10-a7dd-4e57-d44c-86bca1979ffc"
      },
      "execution_count": null,
      "outputs": [
        {
          "output_type": "execute_result",
          "data": {
            "text/plain": [
              "ConfidenceInterval(low=50.34110985093126, high=53.058890149068745)"
            ]
          },
          "metadata": {},
          "execution_count": 34
        }
      ]
    },
    {
      "cell_type": "code",
      "source": [
        "pg.qqplot(samp_1)\n",
        "plt.show()"
      ],
      "metadata": {
        "colab": {
          "base_uri": "https://localhost:8080/",
          "height": 279
        },
        "id": "Bq9wZ835McBq",
        "outputId": "a0419b33-5204-47f5-9778-5657fd61e7e9"
      },
      "execution_count": null,
      "outputs": [
        {
          "output_type": "display_data",
          "data": {
            "text/plain": [
              "<Figure size 432x288 with 1 Axes>"
            ],
            "image/png": "[encoded data removed]"
          },
          "metadata": {
            "needs_background": "light"
          }
        }
      ]
    },
    {
      "cell_type": "code",
      "source": [
        "pg.qqplot(samp_2)\n",
        "plt.show()"
      ],
      "metadata": {
        "colab": {
          "base_uri": "https://localhost:8080/",
          "height": 279
        },
        "id": "-H8Zu8qGMb4C",
        "outputId": "4c568979-f470-4a9c-8e0a-7d8462e6bcb2"
      },
      "execution_count": null,
      "outputs": [
        {
          "output_type": "display_data",
          "data": {
            "text/plain": [
              "<Figure size 432x288 with 1 Axes>"
            ],
            "image/png": "[encoded data removed]"
          },
          "metadata": {
            "needs_background": "light"
          }
        }
      ]
    },
    {
      "cell_type": "markdown",
      "source": [
        "HW \n",
        "Repeat this process for exponential distribution\n",
        "What is your interpretation about the data?\n",
        "What is conclusion about the hypothesis?"
      ],
      "metadata": {
        "id": "uMwNeVMOM6tO"
      }
    },
    {
      "cell_type": "markdown",
      "source": [
        "use \n",
        "\n",
        "\n",
        "import scipy.stats as stats\n",
        "\n",
        "pop= stats.poisson.rvs(loc=18, mu= 35, size= 1500)\n",
        "samp_1= stats.poisson.rvs(loc=18, mu= 35, size= 60) \n",
        "samp_2= stats.poisson.rvs(loc=18, mu= 30, size= 60) \n",
        "\n",
        "create new data"
      ],
      "metadata": {
        "id": "0SpjphmOM_V7"
      }
    }
  ]
}