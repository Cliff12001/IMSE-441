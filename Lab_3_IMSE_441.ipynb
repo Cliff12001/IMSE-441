{
  "nbformat": 4,
  "nbformat_minor": 0,
  "metadata": {
    "colab": {
      "provenance": [],
      "authorship_tag": "ABX9TyNMoojjf1uAZ+ZoyXzZWlLC",
      "include_colab_link": true
    },
    "kernelspec": {
      "name": "python3",
      "display_name": "Python 3"
    },
    "language_info": {
      "name": "python"
    }
  },
  "cells": [
    {
      "cell_type": "markdown",
      "metadata": {
        "id": "view-in-github",
        "colab_type": "text"
      },
      "source": [
        "<a href=\"https://colab.research.google.com/github/Cliff12001/IMSE-441/blob/main/Lab_3_IMSE_441.ipynb\" target=\"_parent\"><img src=\"https://colab.research.google.com/assets/colab-badge.svg\" alt=\"Open In Colab\"/></a>"
      ]
    },
    {
      "cell_type": "markdown",
      "source": [
        "Lab 3"
      ],
      "metadata": {
        "id": "DXXXTmEXslz3"
      }
    },
    {
      "cell_type": "code",
      "source": [
        "import numpy as np\n",
        "import matplotlib.pyplot as plt\n",
        "from scipy.stats import randint \n",
        "from scipy.stats import binom\n",
        "from scipy.stats import hypergeom"
      ],
      "metadata": {
        "id": "rB3-sJnOsOtS"
      },
      "execution_count": 16,
      "outputs": []
    },
    {
      "cell_type": "code",
      "source": [
        "data_U = np.random.uniform(0,7,20)\n",
        "data_U"
      ],
      "metadata": {
        "colab": {
          "base_uri": "https://localhost:8080/"
        },
        "id": "c9u1LICivFzB",
        "outputId": "ec6a5894-0838-41f1-c439-7656f5b5f013"
      },
      "execution_count": 5,
      "outputs": [
        {
          "output_type": "execute_result",
          "data": {
            "text/plain": [
              "array([3.07726243, 5.80470354, 2.02670925, 0.94906483, 3.12352117,\n",
              "       3.43071868, 6.701305  , 2.66480198, 1.10076495, 2.86661479,\n",
              "       3.51630427, 2.98076368, 3.75090487, 3.92667131, 6.38525404,\n",
              "       3.21908165, 4.77530408, 2.81152256, 1.92861284, 3.84123614])"
            ]
          },
          "metadata": {},
          "execution_count": 5
        }
      ]
    },
    {
      "cell_type": "code",
      "source": [
        "X = np.all(data_U)\n",
        "\n",
        "print(X)"
      ],
      "metadata": {
        "colab": {
          "base_uri": "https://localhost:8080/"
        },
        "id": "qJh7_uPc02CX",
        "outputId": "e9c65366-2216-44db-f714-16d4f1a29d2d"
      },
      "execution_count": 9,
      "outputs": [
        {
          "output_type": "stream",
          "name": "stdout",
          "text": [
            "True\n"
          ]
        }
      ]
    },
    {
      "cell_type": "code",
      "source": [
        "n, p = 10, .5  # number of trials, probability of each trial\n",
        "data_B = np.random.binomial(n, p, 20)\n",
        "data_B"
      ],
      "metadata": {
        "colab": {
          "base_uri": "https://localhost:8080/"
        },
        "id": "kthS6hkcvJ2I",
        "outputId": "91d4c2e4-2e56-428e-c922-79fa8c0bdaf8"
      },
      "execution_count": 6,
      "outputs": [
        {
          "output_type": "execute_result",
          "data": {
            "text/plain": [
              "array([4, 5, 5, 4, 5, 5, 5, 7, 6, 6, 2, 6, 4, 4, 4, 6, 5, 4, 4, 5])"
            ]
          },
          "metadata": {},
          "execution_count": 6
        }
      ]
    },
    {
      "cell_type": "code",
      "source": [
        "n = 10\n",
        "p = 0.5\n",
        "r= list(range(n + 1))\n",
        "return_val=binom.pmf(r, n, p)\n",
        "print('Return Value:')\n",
        "print(return_val)"
      ],
      "metadata": {
        "colab": {
          "base_uri": "https://localhost:8080/"
        },
        "id": "8gkm5D-FQsvk",
        "outputId": "c080a900-c768-4104-ea8f-b8043b9fd66b"
      },
      "execution_count": 11,
      "outputs": [
        {
          "output_type": "stream",
          "name": "stdout",
          "text": [
            "Return Value:\n",
            "[0.00097656 0.00976563 0.04394531 0.1171875  0.20507812 0.24609375\n",
            " 0.20507812 0.1171875  0.04394531 0.00976563 0.00097656]\n"
          ]
        }
      ]
    },
    {
      "cell_type": "code",
      "source": [
        "Binomial_dist_pmf = [binom.pmf(k, n, p) for k in Success ]\n",
        "print(Binomial_dist_pmf)"
      ],
      "metadata": {
        "colab": {
          "base_uri": "https://localhost:8080/"
        },
        "id": "tUXBAcfvSe77",
        "outputId": "1e09693e-3d86-4c12-c8bf-797d97a181ba"
      },
      "execution_count": 12,
      "outputs": [
        {
          "output_type": "stream",
          "name": "stdout",
          "text": [
            "[0.0009765625, 0.009765625000000002, 0.04394531250000004, 0.1171875, 0.2050781249999999, 0.24609375000000003, 0.2050781249999999, 0.11718749999999999, 0.04394531250000004, 0.009765625000000002, 0.0009765625]\n"
          ]
        }
      ]
    },
    {
      "cell_type": "code",
      "source": [
        "plt.bar(Success, Binomial_dist_pmf)\n",
        "plt.xlabel('Trials')\n",
        "plt.ylabel('Probability')\n",
        "plt.show()"
      ],
      "metadata": {
        "colab": {
          "base_uri": "https://localhost:8080/",
          "height": 279
        },
        "id": "pkn5vRbKShdb",
        "outputId": "51ef3f12-6d12-49b0-bb07-6aea3d570b72"
      },
      "execution_count": 52,
      "outputs": [
        {
          "output_type": "display_data",
          "data": {
            "text/plain": [
              "<Figure size 432x288 with 1 Axes>"
            ],
            "image/png": "[encoded data removed]"
          },
          "metadata": {
            "needs_background": "light"
          }
        }
      ]
    },
    {
      "cell_type": "code",
      "source": [
        "Binomial_dist_cdf = [binom.cdf(k, n, p) for k in Success ]\n",
        "Binomial_dist_cdf"
      ],
      "metadata": {
        "colab": {
          "base_uri": "https://localhost:8080/"
        },
        "id": "gkoRKDIISv0Z",
        "outputId": "1e6b318a-1206-4ed0-8dac-6bf38536c56d"
      },
      "execution_count": 14,
      "outputs": [
        {
          "output_type": "execute_result",
          "data": {
            "text/plain": [
              "[0.0009765625,\n",
              " 0.0107421875,\n",
              " 0.0546875,\n",
              " 0.171875,\n",
              " 0.376953125,\n",
              " 0.623046875,\n",
              " 0.828125,\n",
              " 0.9453125,\n",
              " 0.9892578125,\n",
              " 0.9990234375,\n",
              " 1.0]"
            ]
          },
          "metadata": {},
          "execution_count": 14
        }
      ]
    },
    {
      "cell_type": "code",
      "source": [
        "plt.bar(Success, Binomial_dist_cdf)\n",
        "plt.xlabel('Trials')\n",
        "plt.ylabel('Probability')\n",
        "plt.show()"
      ],
      "metadata": {
        "colab": {
          "base_uri": "https://localhost:8080/",
          "height": 279
        },
        "id": "yiyvePUySvr5",
        "outputId": "225eb9ac-e898-4647-fc42-08311672c64e"
      },
      "execution_count": 53,
      "outputs": [
        {
          "output_type": "display_data",
          "data": {
            "text/plain": [
              "<Figure size 432x288 with 1 Axes>"
            ],
            "image/png": "[encoded data removed]"
          },
          "metadata": {
            "needs_background": "light"
          }
        }
      ]
    },
    {
      "cell_type": "code",
      "source": [
        "mean, var = binom.stats(n, p)\n",
        "print('mean is', mean, 'and variance is', var)"
      ],
      "metadata": {
        "colab": {
          "base_uri": "https://localhost:8080/"
        },
        "id": "6qz114IKMEjq",
        "outputId": "004bcb62-d1d5-4a41-9cf3-c789ef461e04"
      },
      "execution_count": 13,
      "outputs": [
        {
          "output_type": "stream",
          "name": "stdout",
          "text": [
            "mean is 5.0 and variance is 2.5\n"
          ]
        }
      ]
    },
    {
      "cell_type": "markdown",
      "source": [
        "Hypergeometric"
      ],
      "metadata": {
        "id": "I9VS7zVSS3Mj"
      }
    },
    {
      "cell_type": "code",
      "source": [
        "[M, n, N] = [20, 8, 13]\n",
        "rv = hypergeom(M, n, N)\n",
        "x = np.arange(0, n+1)\n",
        "pmf_balls = rv.pmf(x)"
      ],
      "metadata": {
        "id": "KwJWKeq_S628"
      },
      "execution_count": 33,
      "outputs": []
    },
    {
      "cell_type": "code",
      "source": [
        "fig = plt.figure()\n",
        "ax = fig.add_subplot(111)\n",
        "ax.plot(x, pmf_balls, 'bo')\n",
        "ax.vlines(x, 0, pmf_balls, lw=2)\n",
        "ax.set_xlabel('# of green balls chosen')\n",
        "ax.set_ylabel('hypergeom PMF')\n",
        "plt.show()"
      ],
      "metadata": {
        "colab": {
          "base_uri": "https://localhost:8080/",
          "height": 279
        },
        "id": "4CTrRBWfS7L6",
        "outputId": "512c29e1-92dc-4aab-c540-a6e4aa75bdae"
      },
      "execution_count": 34,
      "outputs": [
        {
          "output_type": "display_data",
          "data": {
            "text/plain": [
              "<Figure size 432x288 with 1 Axes>"
            ],
            "image/png": "[encoded data removed]"
          },
          "metadata": {
            "needs_background": "light"
          }
        }
      ]
    },
    {
      "cell_type": "code",
      "source": [
        "ball_cdf = hypergeom.cdf(x, M, n, N)\n",
        "ball_cdf"
      ],
      "metadata": {
        "colab": {
          "base_uri": "https://localhost:8080/"
        },
        "id": "k89_Ceg6o2HF",
        "outputId": "3fbb119a-efb4-47b5-c6f2-9863edd555c0"
      },
      "execution_count": 35,
      "outputs": [
        {
          "output_type": "execute_result",
          "data": {
            "text/plain": [
              "array([0.00000000e+00, 1.03199174e-04, 4.43756450e-03, 5.21155831e-02,\n",
              "       2.50773994e-01, 6.08359133e-01, 8.94427245e-01, 9.89783282e-01,\n",
              "       1.00000000e+00])"
            ]
          },
          "metadata": {},
          "execution_count": 35
        }
      ]
    },
    {
      "cell_type": "code",
      "source": [
        "plt.bar(x, ball_cdf)\n",
        "plt.xlabel('Green')\n",
        "plt.ylabel('Probability')\n",
        "plt.show()"
      ],
      "metadata": {
        "colab": {
          "base_uri": "https://localhost:8080/",
          "height": 279
        },
        "id": "es7a1b9rrs7h",
        "outputId": "bb3273c1-4bc4-46fd-acb7-52a215064aab"
      },
      "execution_count": 51,
      "outputs": [
        {
          "output_type": "display_data",
          "data": {
            "text/plain": [
              "<Figure size 432x288 with 1 Axes>"
            ],
            "image/png": "[encoded data removed]"
          },
          "metadata": {
            "needs_background": "light"
          }
        }
      ]
    },
    {
      "cell_type": "code",
      "source": [
        "mean2, var2 = hypergeom.stats(M, n, N, loc=0)\n",
        "print('mean is', mean2, 'and variance is', var2)"
      ],
      "metadata": {
        "colab": {
          "base_uri": "https://localhost:8080/"
        },
        "id": "RgAKxrGxpD2m",
        "outputId": "4df0c49b-b491-4efb-d8e8-1de02a842a91"
      },
      "execution_count": 36,
      "outputs": [
        {
          "output_type": "stream",
          "name": "stdout",
          "text": [
            "mean is 5.2 and variance is 1.1494736842105264\n"
          ]
        }
      ]
    }
  ]
}