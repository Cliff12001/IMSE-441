{
  "nbformat": 4,
  "nbformat_minor": 0,
  "metadata": {
    "colab": {
      "provenance": [],
      "mount_file_id": "19j-aJjlhN1MvW3w1K5EYIOIIJcfdKuRf",
      "authorship_tag": "ABX9TyPcWiLtB0NVebdxultYnVU7",
      "include_colab_link": true
    },
    "kernelspec": {
      "name": "python3",
      "display_name": "Python 3"
    },
    "language_info": {
      "name": "python"
    }
  },
  "cells": [
    {
      "cell_type": "markdown",
      "metadata": {
        "id": "view-in-github",
        "colab_type": "text"
      },
      "source": [
        "<a href=\"https://colab.research.google.com/github/Cliff12001/IMSE-441/blob/main/IMSE441_Midterm_1_(CR).ipynb\" target=\"_parent\"><img src=\"https://colab.research.google.com/assets/colab-badge.svg\" alt=\"Open In Colab\"/></a>"
      ]
    },
    {
      "cell_type": "markdown",
      "source": [
        "### **IMSE 441 MIDTERM 1**\n",
        "\n",
        "- Please rename the file as 'IMSE441_Midterm_1_(your initials)\n",
        "- Complete your exam and upload the google colab code link as a submission\n",
        "- Use whatever material you have as a reference when solving but please dont discuss with friends or simply copy without logic\n",
        "- Total exam is 100 marks, of which 30points for in class exam and 70 marks is takehome for coding\n",
        "- Of the 70 marks of coding, **5 points** will be awarded for writing the code in a well organized manner like **headings** and **# comments or interpretation of what you are doing in the code**. Make sure all graphs or pvalues have interpretation.\n",
        "\n",
        "- ***Hint:*** If sample size of dataframe is already small, i.e. <=30, you **dont** need to create a smaller dataframe to perform t-test. \n",
        "\n",
        "**ALL THE VERY BEST!**"
      ],
      "metadata": {
        "id": "HCb7yWDechVF"
      }
    },
    {
      "cell_type": "code",
      "execution_count": null,
      "metadata": {
        "id": "ZAG6QB2ucbew"
      },
      "outputs": [],
      "source": [
        "#basic\n",
        "import pandas as pd\n",
        "import numpy as np\n",
        "\n",
        "#statistic \n",
        "import scipy as scipy\n",
        "from scipy import stats\n",
        "import matplotlib.pyplot as plt\n",
        "%pip install pingouin\n",
        "import pingouin as pg\n",
        "from scipy.stats import expon\n",
        "from scipy.stats import randint\n",
        "from scipy.stats import binom \n",
        "from scipy.stats import hypergeom\n",
        "from scipy.stats import norm"
      ]
    },
    {
      "cell_type": "markdown",
      "source": [
        "### **Question1:** (20 points)\n",
        "a) Choose a discrete and continuous distribution of your choice, generate random samples and find their mean, variance and standard deviation. \n",
        "\n",
        "b)Plot pmf/pdf and cdf of both the distributions.\n",
        "\n",
        "c)What is the difference between pmf and pdf?"
      ],
      "metadata": {
        "id": "9NBhhXOecuZq"
      }
    },
    {
      "cell_type": "markdown",
      "source": [
        "a."
      ],
      "metadata": {
        "id": "MoeighmWOJdn"
      }
    },
    {
      "cell_type": "markdown",
      "source": [
        "Discrete Distribution"
      ],
      "metadata": {
        "id": "_InlxWc4YLJh"
      }
    },
    {
      "cell_type": "code",
      "source": [
        "[M, n, N] = [20, 8, 13]\n",
        "rv = hypergeom(M, n, N)\n",
        "x = np.arange(0, n+1)\n",
        "pmf_balls = rv.pmf(x)"
      ],
      "metadata": {
        "id": "Wnv3K-L6q5HJ"
      },
      "execution_count": 109,
      "outputs": []
    },
    {
      "cell_type": "code",
      "source": [
        "ball_cdf = hypergeom.cdf(x, M, n, N)\n",
        "ball_cdf"
      ],
      "metadata": {
        "colab": {
          "base_uri": "https://localhost:8080/"
        },
        "id": "rxZpTeQirTXg",
        "outputId": "5588aa66-8566-4a86-c86d-7fa42194187b"
      },
      "execution_count": 112,
      "outputs": [
        {
          "output_type": "execute_result",
          "data": {
            "text/plain": [
              "array([0.00000000e+00, 1.03199174e-04, 4.43756450e-03, 5.21155831e-02,\n",
              "       2.50773994e-01, 6.08359133e-01, 8.94427245e-01, 9.89783282e-01,\n",
              "       1.00000000e+00])"
            ]
          },
          "metadata": {},
          "execution_count": 112
        }
      ]
    },
    {
      "cell_type": "code",
      "source": [
        "mean2, var2 = hypergeom.stats(M, n, N, loc=0)\n",
        "print('mean is', mean2, 'and variance is', var2)"
      ],
      "metadata": {
        "colab": {
          "base_uri": "https://localhost:8080/"
        },
        "id": "bvF01itSrZ7b",
        "outputId": "082005e0-f80e-42ab-ce38-12f02ea53772"
      },
      "execution_count": 114,
      "outputs": [
        {
          "output_type": "stream",
          "name": "stdout",
          "text": [
            "mean is 5.2 and variance is 1.1494736842105264\n"
          ]
        }
      ]
    },
    {
      "cell_type": "markdown",
      "source": [
        "Continuous Distribution"
      ],
      "metadata": {
        "id": "r9T9nXrUYRVh"
      }
    },
    {
      "cell_type": "code",
      "source": [
        "x=expon.rvs(scale=1/20,size=40)\n",
        "x"
      ],
      "metadata": {
        "colab": {
          "base_uri": "https://localhost:8080/"
        },
        "id": "TQkzUVsqZPPz",
        "outputId": "aaab7f02-5114-46c7-97d1-cae8a7b35ccc"
      },
      "execution_count": 80,
      "outputs": [
        {
          "output_type": "execute_result",
          "data": {
            "text/plain": [
              "array([0.00029852, 0.02603037, 0.00864383, 0.04439812, 0.00574203,\n",
              "       0.05050878, 0.11336192, 0.0194564 , 0.03286317, 0.01781542,\n",
              "       0.00073344, 0.01332359, 0.01388976, 0.02188304, 0.14669339,\n",
              "       0.04520028, 0.00340981, 0.04190925, 0.04579536, 0.01928364,\n",
              "       0.13910625, 0.08244183, 0.06132326, 0.05405403, 0.14662384,\n",
              "       0.05254261, 0.12403666, 0.00294054, 0.07990192, 0.0088291 ,\n",
              "       0.07698622, 0.15458968, 0.02254157, 0.02548404, 0.06103353,\n",
              "       0.03257822, 0.04639519, 0.03422153, 0.01190778, 0.03487189])"
            ]
          },
          "metadata": {},
          "execution_count": 80
        }
      ]
    },
    {
      "cell_type": "code",
      "source": [
        "m, v, s = expon.mean(scale=1/20), expon.var(scale=1/20), expon.std(scale=1/20)\n",
        "print('mean = ', m, 'Variance = ', v, 'Standard Deviation =', s)"
      ],
      "metadata": {
        "colab": {
          "base_uri": "https://localhost:8080/"
        },
        "id": "BRq6QysFZBH8",
        "outputId": "9c18858e-12aa-448d-b65b-9ef0a51006c0"
      },
      "execution_count": 81,
      "outputs": [
        {
          "output_type": "stream",
          "name": "stdout",
          "text": [
            "mean =  0.05 Variance =  0.0025000000000000005 Standard Deviation = 0.05\n"
          ]
        }
      ]
    },
    {
      "cell_type": "markdown",
      "source": [
        "b."
      ],
      "metadata": {
        "id": "Tvlhl2wbXdfr"
      }
    },
    {
      "cell_type": "markdown",
      "source": [
        "Discrete"
      ],
      "metadata": {
        "id": "wLXnzyczY6cs"
      }
    },
    {
      "cell_type": "code",
      "source": [
        "fig = plt.figure()\n",
        "ax = fig.add_subplot(111)\n",
        "ax.plot(x, pmf_balls, 'bo')\n",
        "ax.vlines(x, 0, pmf_balls, lw=2)\n",
        "ax.set_xlabel('# of green balls chosen')\n",
        "ax.set_ylabel('hypergeom PMF')\n",
        "plt.show()"
      ],
      "metadata": {
        "colab": {
          "base_uri": "https://localhost:8080/",
          "height": 279
        },
        "id": "n80a01YrqswQ",
        "outputId": "b70a5aa8-ffb3-4a53-c286-c9f1fbeac2a5"
      },
      "execution_count": 120,
      "outputs": [
        {
          "output_type": "display_data",
          "data": {
            "text/plain": [
              "<Figure size 432x288 with 1 Axes>"
            ],
            "image/png": "[encoded data removed]"
          },
          "metadata": {
            "needs_background": "light"
          }
        }
      ]
    },
    {
      "cell_type": "code",
      "source": [
        "fig = plt.figure()\n",
        "ax = fig.add_subplot(111)\n",
        "ax.plot(x, ball_cdf, 'bo')\n",
        "ax.vlines(x, 0, pmf_balls, lw=2)\n",
        "ax.set_xlabel('# of green balls chosen')\n",
        "ax.set_ylabel('hypergeom PMF')\n",
        "plt.show()"
      ],
      "metadata": {
        "colab": {
          "base_uri": "https://localhost:8080/",
          "height": 279
        },
        "id": "ME6qCYrUkYtc",
        "outputId": "6f71787c-9d6b-4ffd-a876-d951f0ae87a2"
      },
      "execution_count": 118,
      "outputs": [
        {
          "output_type": "display_data",
          "data": {
            "text/plain": [
              "<Figure size 432x288 with 1 Axes>"
            ],
            "image/png": "[encoded data removed]"
          },
          "metadata": {
            "needs_background": "light"
          }
        }
      ]
    },
    {
      "cell_type": "markdown",
      "source": [
        "Continuous"
      ],
      "metadata": {
        "id": "rJBcsO7-aQBO"
      }
    },
    {
      "cell_type": "code",
      "source": [
        "x=np.arange(-2,7,0.1)\n",
        "plt.plot(x,norm.pdf(x,2,1))\n",
        "plt.show()"
      ],
      "metadata": {
        "colab": {
          "base_uri": "https://localhost:8080/",
          "height": 265
        },
        "id": "cOBfTEfdaSBm",
        "outputId": "459e3f87-689c-4462-aac3-f821607fd5a5"
      },
      "execution_count": 143,
      "outputs": [
        {
          "output_type": "display_data",
          "data": {
            "text/plain": [
              "<Figure size 432x288 with 1 Axes>"
            ],
            "image/png": "[encoded data removed]"
          },
          "metadata": {
            "needs_background": "light"
          }
        }
      ]
    },
    {
      "cell_type": "code",
      "source": [
        "plt.plot(x,norm.cdf(x,0,1))\n",
        "plt.show()"
      ],
      "metadata": {
        "colab": {
          "base_uri": "https://localhost:8080/",
          "height": 265
        },
        "id": "A1xGa2eTaRrO",
        "outputId": "1ff21f1e-9f39-4354-ae29-a899b2652b6a"
      },
      "execution_count": 144,
      "outputs": [
        {
          "output_type": "display_data",
          "data": {
            "text/plain": [
              "<Figure size 432x288 with 1 Axes>"
            ],
            "image/png": "[encoded data removed]"
          },
          "metadata": {
            "needs_background": "light"
          }
        }
      ]
    },
    {
      "cell_type": "markdown",
      "source": [
        "c."
      ],
      "metadata": {
        "id": "J_lGSXTKaSqt"
      }
    },
    {
      "cell_type": "markdown",
      "source": [
        "pmf is probability mass function and it is for discrete probability distributions. Where as pdf is probability density function and is used for continuous probability distributions."
      ],
      "metadata": {
        "id": "U66xj8kyur8h"
      }
    },
    {
      "cell_type": "markdown",
      "source": [
        "### **Question2:** (30 points)\n",
        "a) Import the data \"OTT_platform_data.csv\" and perform data cleaning, descriptive statistics on the  dataset to generate clean data\n",
        "\n",
        "b) How many people watch Netflix and how many watch prime? What is the mean time spent on both the platforms. \n",
        "\n",
        "c) Plot a pie chart to answer the question: Based on the dataset do people like Netflix or prime more?\n",
        "\n",
        "d) Construct a boxplot to see variability of time data on both the platforms. From the plot, determine an approximate median value each platform"
      ],
      "metadata": {
        "id": "By7j373qc3O3"
      }
    },
    {
      "cell_type": "markdown",
      "source": [
        "a."
      ],
      "metadata": {
        "id": "eRBT4RpaLu1G"
      }
    },
    {
      "cell_type": "code",
      "source": [
        "OTT=pd.read_csv('/content/drive/MyDrive/OTT_platform_data.csv')\n",
        "OTT"
      ],
      "metadata": {
        "id": "SHd5l4Ybc7ri"
      },
      "execution_count": null,
      "outputs": []
    },
    {
      "cell_type": "code",
      "source": [
        "OTT.info()"
      ],
      "metadata": {
        "colab": {
          "base_uri": "https://localhost:8080/"
        },
        "id": "G_j2x0X2c8dk",
        "outputId": "03c81f57-3c3b-4eb9-8cae-26fa1dbef1e6"
      },
      "execution_count": 33,
      "outputs": [
        {
          "output_type": "stream",
          "name": "stdout",
          "text": [
            "<class 'pandas.core.frame.DataFrame'>\n",
            "RangeIndex: 24 entries, 0 to 23\n",
            "Data columns (total 2 columns):\n",
            " #   Column    Non-Null Count  Dtype  \n",
            "---  ------    --------------  -----  \n",
            " 0   Platform  23 non-null     object \n",
            " 1   Time      22 non-null     float64\n",
            "dtypes: float64(1), object(1)\n",
            "memory usage: 512.0+ bytes\n"
          ]
        }
      ]
    },
    {
      "cell_type": "markdown",
      "source": [
        "b."
      ],
      "metadata": {
        "id": "b4pgXXZcMRkp"
      }
    },
    {
      "cell_type": "markdown",
      "source": [
        "11 People are watching Amazon Prime and 12 people are watching netflix"
      ],
      "metadata": {
        "id": "GswX6yhgOX6j"
      }
    },
    {
      "cell_type": "code",
      "source": [
        "g = OTT.groupby('Platform')['Time'].mean()\n",
        "g"
      ],
      "metadata": {
        "colab": {
          "base_uri": "https://localhost:8080/"
        },
        "id": "NmMgScbZ7Q7h",
        "outputId": "ec2ce0ba-badb-49d2-bd54-594036611d79"
      },
      "execution_count": 40,
      "outputs": [
        {
          "output_type": "execute_result",
          "data": {
            "text/plain": [
              "Platform\n",
              "Amazon Prime    1.645000\n",
              "Netflix         1.264545\n",
              "Name: Time, dtype: float64"
            ]
          },
          "metadata": {},
          "execution_count": 40
        }
      ]
    },
    {
      "cell_type": "markdown",
      "source": [
        "c."
      ],
      "metadata": {
        "id": "DD4JjwzmOh-p"
      }
    },
    {
      "cell_type": "code",
      "source": [
        "g = OTT.groupby('Platform').size()\n",
        "g.plot(kind = 'pie', autopct='%.2f', figsize = (10,6) )"
      ],
      "metadata": {
        "colab": {
          "base_uri": "https://localhost:8080/",
          "height": 375
        },
        "id": "4KdxgENdc8VO",
        "outputId": "f24b388d-dc46-4551-b19b-0c278a6d4faa"
      },
      "execution_count": 4,
      "outputs": [
        {
          "output_type": "execute_result",
          "data": {
            "text/plain": [
              "<AxesSubplot:ylabel='None'>"
            ]
          },
          "metadata": {},
          "execution_count": 4
        },
        {
          "output_type": "display_data",
          "data": {
            "text/plain": [
              "<Figure size 720x432 with 1 Axes>"
            ],
            "image/png": "[encoded data removed]"
          },
          "metadata": {}
        }
      ]
    },
    {
      "cell_type": "markdown",
      "source": [
        "People prefer to use the netflix platform slightly more than the Amazon Prime platform."
      ],
      "metadata": {
        "id": "uCJxyN4_Onuz"
      }
    },
    {
      "cell_type": "markdown",
      "source": [
        "d."
      ],
      "metadata": {
        "id": "jSsVnTrXOjkK"
      }
    },
    {
      "cell_type": "code",
      "source": [
        "AmazonPrime=(OTT[OTT['Platform']=='Amazon Prime']['Time'])\n",
        "AmazonPrime"
      ],
      "metadata": {
        "colab": {
          "base_uri": "https://localhost:8080/"
        },
        "id": "lHRagJnYqqXe",
        "outputId": "3a64ca6d-8e95-4f6b-b1e0-da40b7ffa8ca"
      },
      "execution_count": 22,
      "outputs": [
        {
          "output_type": "execute_result",
          "data": {
            "text/plain": [
              "1     2.53\n",
              "3     0.71\n",
              "5     0.85\n",
              "7     2.46\n",
              "9     1.49\n",
              "13    3.33\n",
              "15    1.87\n",
              "17    1.26\n",
              "19    0.48\n",
              "21    1.47\n",
              "23     NaN\n",
              "Name: Time, dtype: float64"
            ]
          },
          "metadata": {},
          "execution_count": 22
        }
      ]
    },
    {
      "cell_type": "code",
      "source": [
        "Netflix=(OTT[OTT['Platform']=='Netflix']['Time'])\n",
        "Netflix"
      ],
      "metadata": {
        "colab": {
          "base_uri": "https://localhost:8080/"
        },
        "id": "kSMlUVFZq9ld",
        "outputId": "530ac4c1-b2c1-4aee-c4cb-431912716760"
      },
      "execution_count": 23,
      "outputs": [
        {
          "output_type": "execute_result",
          "data": {
            "text/plain": [
              "0     0.21\n",
              "2     0.35\n",
              "4     0.67\n",
              "6      NaN\n",
              "8     1.32\n",
              "10    0.68\n",
              "12    3.21\n",
              "14    1.47\n",
              "16    0.95\n",
              "18    0.45\n",
              "20    1.18\n",
              "22    3.42\n",
              "Name: Time, dtype: float64"
            ]
          },
          "metadata": {},
          "execution_count": 23
        }
      ]
    },
    {
      "cell_type": "code",
      "source": [
        "OTT.boxplot(column=['Time'], by=['Platform']);"
      ],
      "metadata": {
        "colab": {
          "base_uri": "https://localhost:8080/",
          "height": 301
        },
        "id": "t1OER848c8NE",
        "outputId": "977c6cde-3e69-4e10-8eeb-5946c630ae51"
      },
      "execution_count": 8,
      "outputs": [
        {
          "output_type": "display_data",
          "data": {
            "text/plain": [
              "<Figure size 432x288 with 1 Axes>"
            ],
            "image/png": "[encoded data removed]"
          },
          "metadata": {
            "needs_background": "light"
          }
        }
      ]
    },
    {
      "cell_type": "code",
      "source": [
        "g = OTT.groupby('Platform')['Time'].median()\n",
        "g"
      ],
      "metadata": {
        "colab": {
          "base_uri": "https://localhost:8080/"
        },
        "id": "se-cWcyksAR0",
        "outputId": "d9dc31ac-6120-4418-cdc4-01c53f637de9"
      },
      "execution_count": 42,
      "outputs": [
        {
          "output_type": "execute_result",
          "data": {
            "text/plain": [
              "Platform\n",
              "Amazon Prime    1.48\n",
              "Netflix         0.95\n",
              "Name: Time, dtype: float64"
            ]
          },
          "metadata": {},
          "execution_count": 42
        }
      ]
    },
    {
      "cell_type": "markdown",
      "source": [
        "### **Question3:** (15 points)\n",
        "a) Perform tests to check the distribution of 'Time' data in OTT_platform_data.csv before you can do t-test. Check eligibility and interpret your results.\n",
        "\n",
        "b) Does the given data satisfy the criteria for t-testing eligibility? If so,perform t-test to see if 0.83 is an acceptable mean based on 99% significance level. Then create a 99% CI on the unknown mean value of 'Time'\n",
        "\n",
        "c) Is it one sided or two sided CI?\n",
        "\n",
        "d) What is the degree of freedom value for the test?\n",
        "\n",
        "e) Calculate df['Time'].mean(), is it the actual mean or sample mean?"
      ],
      "metadata": {
        "id": "pVYuj3jBdDp4"
      }
    },
    {
      "cell_type": "code",
      "source": [
        "OTT=pd.read_csv('/content/drive/MyDrive/OTT_platform_data.csv')\n",
        "OTT"
      ],
      "metadata": {
        "id": "nQl_V_iddEVU"
      },
      "execution_count": null,
      "outputs": []
    },
    {
      "cell_type": "code",
      "source": [
        "OTT.info()"
      ],
      "metadata": {
        "colab": {
          "base_uri": "https://localhost:8080/"
        },
        "id": "fiJLtQhJdFHR",
        "outputId": "e0bc8043-a6cd-48d6-bb21-f2f856694557"
      },
      "execution_count": 29,
      "outputs": [
        {
          "output_type": "stream",
          "name": "stdout",
          "text": [
            "<class 'pandas.core.frame.DataFrame'>\n",
            "RangeIndex: 24 entries, 0 to 23\n",
            "Data columns (total 2 columns):\n",
            " #   Column    Non-Null Count  Dtype  \n",
            "---  ------    --------------  -----  \n",
            " 0   Platform  23 non-null     object \n",
            " 1   Time      22 non-null     float64\n",
            "dtypes: float64(1), object(1)\n",
            "memory usage: 512.0+ bytes\n"
          ]
        }
      ]
    },
    {
      "cell_type": "code",
      "source": [
        "OTT.isnull().sum() "
      ],
      "metadata": {
        "colab": {
          "base_uri": "https://localhost:8080/"
        },
        "id": "UpL3GKO6-C8y",
        "outputId": "ccc6d39f-82e9-4065-d442-1cd879904686"
      },
      "execution_count": 51,
      "outputs": [
        {
          "output_type": "execute_result",
          "data": {
            "text/plain": [
              "Platform    1\n",
              "Time        2\n",
              "dtype: int64"
            ]
          },
          "metadata": {},
          "execution_count": 51
        }
      ]
    },
    {
      "cell_type": "code",
      "source": [
        "OTT = OTT.dropna()\n",
        "OTT.info()"
      ],
      "metadata": {
        "colab": {
          "base_uri": "https://localhost:8080/"
        },
        "id": "jvGFc21i-Fhi",
        "outputId": "540177c2-ba9e-42fd-f149-767bc25d5991"
      },
      "execution_count": 53,
      "outputs": [
        {
          "output_type": "stream",
          "name": "stdout",
          "text": [
            "<class 'pandas.core.frame.DataFrame'>\n",
            "Int64Index: 21 entries, 0 to 22\n",
            "Data columns (total 2 columns):\n",
            " #   Column    Non-Null Count  Dtype  \n",
            "---  ------    --------------  -----  \n",
            " 0   Platform  21 non-null     object \n",
            " 1   Time      21 non-null     float64\n",
            "dtypes: float64(1), object(1)\n",
            "memory usage: 504.0+ bytes\n"
          ]
        }
      ]
    },
    {
      "cell_type": "markdown",
      "source": [
        "a."
      ],
      "metadata": {
        "id": "n245CN9rHLJd"
      }
    },
    {
      "cell_type": "code",
      "source": [
        "plt.show()\n",
        "data = np.random.normal(0, 1, 100)  \n",
        "pg.qqplot(data).set_title('NORMAL DATA')\n",
        "\n",
        "#not normally dist\n",
        "plt.show()\n",
        "data = np.random.uniform(0,7,200)\n",
        "pg.qqplot(data).set_title('NOT NORMAL DATA')\n",
        "\n",
        "#lets test our data\n",
        "plt.show()            \n",
        "pg.qqplot(OTT['Time']).set_title('OUR DATA')"
      ],
      "metadata": {
        "colab": {
          "base_uri": "https://localhost:8080/",
          "height": 869
        },
        "id": "fPa-qgtd8t1j",
        "outputId": "61d7ca14-c748-4e37-9d34-75e94d758263"
      },
      "execution_count": 45,
      "outputs": [
        {
          "output_type": "display_data",
          "data": {
            "text/plain": [
              "<Figure size 432x288 with 1 Axes>"
            ],
            "image/png": "[encoded data removed]"
          },
          "metadata": {
            "needs_background": "light"
          }
        },
        {
          "output_type": "display_data",
          "data": {
            "text/plain": [
              "<Figure size 432x288 with 1 Axes>"
            ],
            "image/png": "[encoded data removed]"
          },
          "metadata": {
            "needs_background": "light"
          }
        },
        {
          "output_type": "execute_result",
          "data": {
            "text/plain": [
              "Text(0.5, 1.0, 'OUR DATA')"
            ]
          },
          "metadata": {},
          "execution_count": 45
        },
        {
          "output_type": "display_data",
          "data": {
            "text/plain": [
              "<Figure size 432x288 with 1 Axes>"
            ],
            "image/png": "[encoded data removed]"
          },
          "metadata": {
            "needs_background": "light"
          }
        }
      ]
    },
    {
      "cell_type": "markdown",
      "source": [
        "The disrtibution of the data set is within the range of normal disrtibution, therefore it is normal distribution. "
      ],
      "metadata": {
        "id": "L3njG8TVHQ_2"
      }
    },
    {
      "cell_type": "markdown",
      "source": [
        "b."
      ],
      "metadata": {
        "id": "owo2SKMvHMf9"
      }
    },
    {
      "cell_type": "code",
      "source": [
        "#Hypothesis testing for normality\n",
        "print(stats.normaltest(OTT['Time']))"
      ],
      "metadata": {
        "colab": {
          "base_uri": "https://localhost:8080/"
        },
        "id": "hsQl31TLdE3h",
        "outputId": "0b9a59a2-36e9-4f99-a941-972e8e2d0f84"
      },
      "execution_count": 58,
      "outputs": [
        {
          "output_type": "stream",
          "name": "stdout",
          "text": [
            "NormaltestResult(statistic=2.9693617401687833, pvalue=0.22657463588450225)\n"
          ]
        }
      ]
    },
    {
      "cell_type": "code",
      "source": [
        "stats.ttest_1samp(OTT['Time'],.83)"
      ],
      "metadata": {
        "colab": {
          "base_uri": "https://localhost:8080/"
        },
        "id": "HnDMcMuZdEtN",
        "outputId": "2724a7a8-d698-44f7-bfbf-ef115d3baa98"
      },
      "execution_count": 63,
      "outputs": [
        {
          "output_type": "execute_result",
          "data": {
            "text/plain": [
              "TtestResult(statistic=2.817958669950323, pvalue=0.010626190992228224, df=20)"
            ]
          },
          "metadata": {},
          "execution_count": 63
        }
      ]
    },
    {
      "cell_type": "markdown",
      "source": [
        "0.83 is an acceptable mean, due to the pvalue of 0.01063 which is < 0.05"
      ],
      "metadata": {
        "id": "Gc9QaIRAKjyd"
      }
    },
    {
      "cell_type": "code",
      "source": [
        "CI= stats.ttest_1samp(OTT['Time'],0.83).confidence_interval(confidence_level=0.9)\n",
        "CI"
      ],
      "metadata": {
        "colab": {
          "base_uri": "https://localhost:8080/"
        },
        "id": "yFi7a0vDG7On",
        "outputId": "d766e231-797f-4c8d-f040-f3b357383443"
      },
      "execution_count": 66,
      "outputs": [
        {
          "output_type": "execute_result",
          "data": {
            "text/plain": [
              "ConfidenceInterval(low=1.0688692764803176, high=1.8225592949482536)"
            ]
          },
          "metadata": {},
          "execution_count": 66
        }
      ]
    },
    {
      "cell_type": "markdown",
      "source": [
        "c."
      ],
      "metadata": {
        "id": "yZeAmBWDIdss"
      }
    },
    {
      "cell_type": "markdown",
      "source": [
        "This is a two sided confidence interval."
      ],
      "metadata": {
        "id": "ySr-bmilITqN"
      }
    },
    {
      "cell_type": "markdown",
      "source": [
        "d."
      ],
      "metadata": {
        "id": "rlid88h-Iem1"
      }
    },
    {
      "cell_type": "code",
      "source": [
        "len(OTT)"
      ],
      "metadata": {
        "colab": {
          "base_uri": "https://localhost:8080/"
        },
        "id": "zOPDU1pfIiI2",
        "outputId": "c43b10b7-74ad-4abf-8bb8-873a54f9b22f"
      },
      "execution_count": 67,
      "outputs": [
        {
          "output_type": "execute_result",
          "data": {
            "text/plain": [
              "21"
            ]
          },
          "metadata": {},
          "execution_count": 67
        }
      ]
    },
    {
      "cell_type": "markdown",
      "source": [
        "e."
      ],
      "metadata": {
        "id": "K9QhLyUHJNtC"
      }
    },
    {
      "cell_type": "code",
      "source": [
        "OTT['Time'].mean()"
      ],
      "metadata": {
        "colab": {
          "base_uri": "https://localhost:8080/"
        },
        "id": "NeOqqNhYJRob",
        "outputId": "b3995c67-f392-4549-dd3c-a90dad669211"
      },
      "execution_count": 68,
      "outputs": [
        {
          "output_type": "execute_result",
          "data": {
            "text/plain": [
              "1.4457142857142857"
            ]
          },
          "metadata": {},
          "execution_count": 68
        }
      ]
    },
    {
      "cell_type": "markdown",
      "source": [
        "This is the actual mean of the data"
      ],
      "metadata": {
        "id": "THLLEG3kKSfG"
      }
    }
  ]
}